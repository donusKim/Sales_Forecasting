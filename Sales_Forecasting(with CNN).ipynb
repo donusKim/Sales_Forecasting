{
  "nbformat": 4,
  "nbformat_minor": 0,
  "metadata": {
    "colab": {
      "name": "CNN2019년7월예측.ipynb",
      "provenance": [],
      "include_colab_link": true
    },
    "kernelspec": {
      "name": "python3",
      "display_name": "Python 3"
    }
  },
  "cells": [
    {
      "cell_type": "markdown",
      "metadata": {
        "id": "view-in-github",
        "colab_type": "text"
      },
      "source": [
        "<a href=\"https://colab.research.google.com/github/donusKim/Sales_Forecasting/blob/master/Sales_Forecasting(with%20CNN).ipynb\" target=\"_parent\"><img src=\"https://colab.research.google.com/assets/colab-badge.svg\" alt=\"Open In Colab\"/></a>"
      ]
    },
    {
      "cell_type": "code",
      "metadata": {
        "id": "gH_js8wKUGgt",
        "colab_type": "code",
        "colab": {
          "base_uri": "https://localhost:8080/",
          "height": 125
        },
        "outputId": "2b5df6ab-e605-4983-9f06-3f44f1187ad5"
      },
      "source": [
        "from google.colab import auth\n",
        "auth.authenticate_user()\n",
        "\n",
        "from google.colab import drive\n",
        "drive.mount('/content/gdrive')"
      ],
      "execution_count": null,
      "outputs": [
        {
          "output_type": "stream",
          "text": [
            "Go to this URL in a browser: https://accounts.google.com/o/oauth2/auth?client_id=947318989803-6bn6qk8qdgf4n4g3pfee6491hc0brc4i.apps.googleusercontent.com&redirect_uri=urn%3Aietf%3Awg%3Aoauth%3A2.0%3Aoob&scope=email%20https%3A%2F%2Fwww.googleapis.com%2Fauth%2Fdocs.test%20https%3A%2F%2Fwww.googleapis.com%2Fauth%2Fdrive%20https%3A%2F%2Fwww.googleapis.com%2Fauth%2Fdrive.photos.readonly%20https%3A%2F%2Fwww.googleapis.com%2Fauth%2Fpeopleapi.readonly&response_type=code\n",
            "\n",
            "Enter your authorization code:\n",
            "··········\n",
            "Mounted at /content/gdrive\n"
          ],
          "name": "stdout"
        }
      ]
    },
    {
      "cell_type": "code",
      "metadata": {
        "id": "EVbXY0KbV5W5",
        "colab_type": "code",
        "colab": {
          "base_uri": "https://localhost:8080/",
          "height": 406
        },
        "outputId": "e5cde2bc-5cd7-4522-e40e-0c129bf6af27"
      },
      "source": [
        "trend=pd.read_csv(\"./gdrive/My Drive/롯데백화점/naver_trend.csv\",encoding=\"ms949\" )"
      ],
      "execution_count": null,
      "outputs": [
        {
          "output_type": "error",
          "ename": "FileNotFoundError",
          "evalue": "ignored",
          "traceback": [
            "\u001b[0;31m---------------------------------------------------------------------------\u001b[0m",
            "\u001b[0;31mFileNotFoundError\u001b[0m                         Traceback (most recent call last)",
            "\u001b[0;32m<ipython-input-17-c4e9b0f2fe10>\u001b[0m in \u001b[0;36m<module>\u001b[0;34m()\u001b[0m\n\u001b[0;32m----> 1\u001b[0;31m \u001b[0mtrend\u001b[0m\u001b[0;34m=\u001b[0m\u001b[0mpd\u001b[0m\u001b[0;34m.\u001b[0m\u001b[0mread_csv\u001b[0m\u001b[0;34m(\u001b[0m\u001b[0;34m\"./gdrive/My Drive/롯데백화점/naver_trend.csv\"\u001b[0m\u001b[0;34m,\u001b[0m\u001b[0mencoding\u001b[0m\u001b[0;34m=\u001b[0m\u001b[0;34m\"ms949\"\u001b[0m \u001b[0;34m)\u001b[0m\u001b[0;34m\u001b[0m\u001b[0;34m\u001b[0m\u001b[0m\n\u001b[0m",
            "\u001b[0;32m/usr/local/lib/python3.6/dist-packages/pandas/io/parsers.py\u001b[0m in \u001b[0;36mparser_f\u001b[0;34m(filepath_or_buffer, sep, delimiter, header, names, index_col, usecols, squeeze, prefix, mangle_dupe_cols, dtype, engine, converters, true_values, false_values, skipinitialspace, skiprows, skipfooter, nrows, na_values, keep_default_na, na_filter, verbose, skip_blank_lines, parse_dates, infer_datetime_format, keep_date_col, date_parser, dayfirst, iterator, chunksize, compression, thousands, decimal, lineterminator, quotechar, quoting, doublequote, escapechar, comment, encoding, dialect, tupleize_cols, error_bad_lines, warn_bad_lines, delim_whitespace, low_memory, memory_map, float_precision)\u001b[0m\n\u001b[1;32m    700\u001b[0m                     skip_blank_lines=skip_blank_lines)\n\u001b[1;32m    701\u001b[0m \u001b[0;34m\u001b[0m\u001b[0m\n\u001b[0;32m--> 702\u001b[0;31m         \u001b[0;32mreturn\u001b[0m \u001b[0m_read\u001b[0m\u001b[0;34m(\u001b[0m\u001b[0mfilepath_or_buffer\u001b[0m\u001b[0;34m,\u001b[0m \u001b[0mkwds\u001b[0m\u001b[0;34m)\u001b[0m\u001b[0;34m\u001b[0m\u001b[0;34m\u001b[0m\u001b[0m\n\u001b[0m\u001b[1;32m    703\u001b[0m \u001b[0;34m\u001b[0m\u001b[0m\n\u001b[1;32m    704\u001b[0m     \u001b[0mparser_f\u001b[0m\u001b[0;34m.\u001b[0m\u001b[0m__name__\u001b[0m \u001b[0;34m=\u001b[0m \u001b[0mname\u001b[0m\u001b[0;34m\u001b[0m\u001b[0;34m\u001b[0m\u001b[0m\n",
            "\u001b[0;32m/usr/local/lib/python3.6/dist-packages/pandas/io/parsers.py\u001b[0m in \u001b[0;36m_read\u001b[0;34m(filepath_or_buffer, kwds)\u001b[0m\n\u001b[1;32m    427\u001b[0m \u001b[0;34m\u001b[0m\u001b[0m\n\u001b[1;32m    428\u001b[0m     \u001b[0;31m# Create the parser.\u001b[0m\u001b[0;34m\u001b[0m\u001b[0;34m\u001b[0m\u001b[0;34m\u001b[0m\u001b[0m\n\u001b[0;32m--> 429\u001b[0;31m     \u001b[0mparser\u001b[0m \u001b[0;34m=\u001b[0m \u001b[0mTextFileReader\u001b[0m\u001b[0;34m(\u001b[0m\u001b[0mfilepath_or_buffer\u001b[0m\u001b[0;34m,\u001b[0m \u001b[0;34m**\u001b[0m\u001b[0mkwds\u001b[0m\u001b[0;34m)\u001b[0m\u001b[0;34m\u001b[0m\u001b[0;34m\u001b[0m\u001b[0m\n\u001b[0m\u001b[1;32m    430\u001b[0m \u001b[0;34m\u001b[0m\u001b[0m\n\u001b[1;32m    431\u001b[0m     \u001b[0;32mif\u001b[0m \u001b[0mchunksize\u001b[0m \u001b[0;32mor\u001b[0m \u001b[0miterator\u001b[0m\u001b[0;34m:\u001b[0m\u001b[0;34m\u001b[0m\u001b[0;34m\u001b[0m\u001b[0m\n",
            "\u001b[0;32m/usr/local/lib/python3.6/dist-packages/pandas/io/parsers.py\u001b[0m in \u001b[0;36m__init__\u001b[0;34m(self, f, engine, **kwds)\u001b[0m\n\u001b[1;32m    893\u001b[0m             \u001b[0mself\u001b[0m\u001b[0;34m.\u001b[0m\u001b[0moptions\u001b[0m\u001b[0;34m[\u001b[0m\u001b[0;34m'has_index_names'\u001b[0m\u001b[0;34m]\u001b[0m \u001b[0;34m=\u001b[0m \u001b[0mkwds\u001b[0m\u001b[0;34m[\u001b[0m\u001b[0;34m'has_index_names'\u001b[0m\u001b[0;34m]\u001b[0m\u001b[0;34m\u001b[0m\u001b[0;34m\u001b[0m\u001b[0m\n\u001b[1;32m    894\u001b[0m \u001b[0;34m\u001b[0m\u001b[0m\n\u001b[0;32m--> 895\u001b[0;31m         \u001b[0mself\u001b[0m\u001b[0;34m.\u001b[0m\u001b[0m_make_engine\u001b[0m\u001b[0;34m(\u001b[0m\u001b[0mself\u001b[0m\u001b[0;34m.\u001b[0m\u001b[0mengine\u001b[0m\u001b[0;34m)\u001b[0m\u001b[0;34m\u001b[0m\u001b[0;34m\u001b[0m\u001b[0m\n\u001b[0m\u001b[1;32m    896\u001b[0m \u001b[0;34m\u001b[0m\u001b[0m\n\u001b[1;32m    897\u001b[0m     \u001b[0;32mdef\u001b[0m \u001b[0mclose\u001b[0m\u001b[0;34m(\u001b[0m\u001b[0mself\u001b[0m\u001b[0;34m)\u001b[0m\u001b[0;34m:\u001b[0m\u001b[0;34m\u001b[0m\u001b[0;34m\u001b[0m\u001b[0m\n",
            "\u001b[0;32m/usr/local/lib/python3.6/dist-packages/pandas/io/parsers.py\u001b[0m in \u001b[0;36m_make_engine\u001b[0;34m(self, engine)\u001b[0m\n\u001b[1;32m   1120\u001b[0m     \u001b[0;32mdef\u001b[0m \u001b[0m_make_engine\u001b[0m\u001b[0;34m(\u001b[0m\u001b[0mself\u001b[0m\u001b[0;34m,\u001b[0m \u001b[0mengine\u001b[0m\u001b[0;34m=\u001b[0m\u001b[0;34m'c'\u001b[0m\u001b[0;34m)\u001b[0m\u001b[0;34m:\u001b[0m\u001b[0;34m\u001b[0m\u001b[0;34m\u001b[0m\u001b[0m\n\u001b[1;32m   1121\u001b[0m         \u001b[0;32mif\u001b[0m \u001b[0mengine\u001b[0m \u001b[0;34m==\u001b[0m \u001b[0;34m'c'\u001b[0m\u001b[0;34m:\u001b[0m\u001b[0;34m\u001b[0m\u001b[0;34m\u001b[0m\u001b[0m\n\u001b[0;32m-> 1122\u001b[0;31m             \u001b[0mself\u001b[0m\u001b[0;34m.\u001b[0m\u001b[0m_engine\u001b[0m \u001b[0;34m=\u001b[0m \u001b[0mCParserWrapper\u001b[0m\u001b[0;34m(\u001b[0m\u001b[0mself\u001b[0m\u001b[0;34m.\u001b[0m\u001b[0mf\u001b[0m\u001b[0;34m,\u001b[0m \u001b[0;34m**\u001b[0m\u001b[0mself\u001b[0m\u001b[0;34m.\u001b[0m\u001b[0moptions\u001b[0m\u001b[0;34m)\u001b[0m\u001b[0;34m\u001b[0m\u001b[0;34m\u001b[0m\u001b[0m\n\u001b[0m\u001b[1;32m   1123\u001b[0m         \u001b[0;32melse\u001b[0m\u001b[0;34m:\u001b[0m\u001b[0;34m\u001b[0m\u001b[0;34m\u001b[0m\u001b[0m\n\u001b[1;32m   1124\u001b[0m             \u001b[0;32mif\u001b[0m \u001b[0mengine\u001b[0m \u001b[0;34m==\u001b[0m \u001b[0;34m'python'\u001b[0m\u001b[0;34m:\u001b[0m\u001b[0;34m\u001b[0m\u001b[0;34m\u001b[0m\u001b[0m\n",
            "\u001b[0;32m/usr/local/lib/python3.6/dist-packages/pandas/io/parsers.py\u001b[0m in \u001b[0;36m__init__\u001b[0;34m(self, src, **kwds)\u001b[0m\n\u001b[1;32m   1851\u001b[0m         \u001b[0mkwds\u001b[0m\u001b[0;34m[\u001b[0m\u001b[0;34m'usecols'\u001b[0m\u001b[0;34m]\u001b[0m \u001b[0;34m=\u001b[0m \u001b[0mself\u001b[0m\u001b[0;34m.\u001b[0m\u001b[0musecols\u001b[0m\u001b[0;34m\u001b[0m\u001b[0;34m\u001b[0m\u001b[0m\n\u001b[1;32m   1852\u001b[0m \u001b[0;34m\u001b[0m\u001b[0m\n\u001b[0;32m-> 1853\u001b[0;31m         \u001b[0mself\u001b[0m\u001b[0;34m.\u001b[0m\u001b[0m_reader\u001b[0m \u001b[0;34m=\u001b[0m \u001b[0mparsers\u001b[0m\u001b[0;34m.\u001b[0m\u001b[0mTextReader\u001b[0m\u001b[0;34m(\u001b[0m\u001b[0msrc\u001b[0m\u001b[0;34m,\u001b[0m \u001b[0;34m**\u001b[0m\u001b[0mkwds\u001b[0m\u001b[0;34m)\u001b[0m\u001b[0;34m\u001b[0m\u001b[0;34m\u001b[0m\u001b[0m\n\u001b[0m\u001b[1;32m   1854\u001b[0m         \u001b[0mself\u001b[0m\u001b[0;34m.\u001b[0m\u001b[0munnamed_cols\u001b[0m \u001b[0;34m=\u001b[0m \u001b[0mself\u001b[0m\u001b[0;34m.\u001b[0m\u001b[0m_reader\u001b[0m\u001b[0;34m.\u001b[0m\u001b[0munnamed_cols\u001b[0m\u001b[0;34m\u001b[0m\u001b[0;34m\u001b[0m\u001b[0m\n\u001b[1;32m   1855\u001b[0m \u001b[0;34m\u001b[0m\u001b[0m\n",
            "\u001b[0;32mpandas/_libs/parsers.pyx\u001b[0m in \u001b[0;36mpandas._libs.parsers.TextReader.__cinit__\u001b[0;34m()\u001b[0m\n",
            "\u001b[0;32mpandas/_libs/parsers.pyx\u001b[0m in \u001b[0;36mpandas._libs.parsers.TextReader._setup_parser_source\u001b[0;34m()\u001b[0m\n",
            "\u001b[0;31mFileNotFoundError\u001b[0m: [Errno 2] File b'./gdrive/My Drive/\\xeb\\xa1\\xaf\\xeb\\x8d\\xb0\\xeb\\xb0\\xb1\\xed\\x99\\x94\\xec\\xa0\\x90/naver_trend.csv' does not exist: b'./gdrive/My Drive/\\xeb\\xa1\\xaf\\xeb\\x8d\\xb0\\xeb\\xb0\\xb1\\xed\\x99\\x94\\xec\\xa0\\x90/naver_trend.csv'"
          ]
        }
      ]
    },
    {
      "cell_type": "code",
      "metadata": {
        "id": "QQyKZaUNUUOH",
        "colab_type": "code",
        "colab": {
          "base_uri": "https://localhost:8080/",
          "height": 52
        },
        "outputId": "f30ef944-e776-4c14-8020-43ecb02c9676"
      },
      "source": [
        "import numpy as np\n",
        "import pandas as pd\n",
        "\n",
        "\n",
        "df=pd.read_csv(\"./gdrive/My Drive/롯데백화점/purchase_data.csv\",encoding=\"ms949\" )\n",
        "temp=pd.read_csv(\"./gdrive/My Drive/롯데백화점/기온2.csv\",encoding=\"ms949\").set_index([\"지점\"])\n",
        "rain=pd.read_csv(\"./gdrive/My Drive/롯데백화점/강수량2.csv\",encoding=\"ms949\").set_index([\"지점\"])\n",
        "cpi=pd.read_csv(\"./gdrive/My Drive/롯데백화점/소비자물가지수.csv\",encoding=\"ms949\").set_index([\"시도별\"])\n",
        "temp.drop(\"160\",axis=1,inplace=True)\n",
        "rain.drop(\"160\",axis=1,inplace=True)\n",
        "\n",
        "# 주데이터 만들기\n",
        "import datetime\n",
        "df[\"days\"]=df['date'].apply(lambda x: datetime.datetime.strptime(str(x),'%Y-%m-%d'))\n",
        "df[\"days\"]=df[\"days\"]-np.datetime64('2016-07-03')\n",
        "df[\"week\"]=df[\"days\"]/7\n",
        "\n",
        "# 주데이터 만들기\n",
        "import datetime\n",
        "df[\"days\"]=df['date'].apply(lambda x: datetime.datetime.strptime(str(x),'%Y-%m-%d'))\n",
        "df[\"days\"]=df[\"days\"]-np.datetime64('2016-07-03')\n",
        "df[\"week\"]=df[\"days\"]/7\n",
        "\n",
        "\n",
        "import numpy as np\n",
        "import pandas as pd\n",
        "from sklearn import metrics\n",
        "from sklearn.preprocessing import LabelEncoder\n",
        "from datetime import date, timedelta\n",
        "import gc\n",
        "\n",
        "\n",
        "## 취소매출 제거하는 나름의 방법(오차가 있음)###\n",
        "df[\"absolute\"]=abs(df[\"pur_amt\"])\n",
        "df=df.drop_duplicates([\"cus_id\",\"absolute\"], keep='first')\n",
        "new_df=df[[\"point\",\"week\",\"brand\",\"absolute\"]]\n",
        "\n",
        "\n",
        "####점 이름 바꿔주기 ####\n",
        "substitutions = {1.0: \"본점\",2.0: \"잠실점\",5.0: \"부산본점\",6.0: \"관악점\",8.0: \"분당점\",10.0: \"영등포점\",11.0: \"일산점\",13.0: \"강남점\",17.0: \"창원점\",22.0: \"노원점\",28.0: \"건대스타점\",333.0: \"광복점\"\n",
        "                 ,341.0: \"평촌점\",344.0: \"인천터미널점\"}        \n",
        "new_df=new_df.replace(substitutions)\n",
        "\n",
        "\n",
        "new_df[\"week\"]=new_df[\"week\"].apply(lambda x: x.days)\n",
        "\n",
        "new_df=new_df[(new_df[\"week\"]!=160) & (new_df[\"week\"]!=-1) ]\n",
        "\n",
        "#영등포점 생긴 이상한애들 제거\n",
        "new_df.drop(28391,axis=0,inplace=True)\n",
        "new_df.drop(224708,axis=0,inplace=True)\n",
        "\n",
        "#머시러닝 전처리 위해 reindex\n",
        "new_df=new_df.set_index([\"point\",\"brand\",\"week\"]).groupby(level=[0,1,2])['absolute'].agg({'sum':np.sum}).unstack(level=-1).fillna(0)\n",
        "new_df.columns=new_df.columns.get_level_values(1)\n",
        "\n",
        "new_df=new_df[sorted(new_df.columns)]\n",
        "\n",
        "#관악점, 인천터미널점 제거\n",
        "new_df.drop(\"관악점\",axis=0,inplace=True)\n",
        "new_df.drop(\"인천터미널점\",axis=0,inplace=True)\n",
        "\n",
        "\n",
        "temp=temp.apply(lambda x: (x-x.min())/(x.max()-x.min()), axis=1)\n",
        "# rain은 min max 스케일링 말고 로그변환 적용해보기\n",
        "rain=rain.apply(lambda x: (x-x.min())/(x.max()-x.min()), axis=1)\n",
        "\n",
        "cpi.loc[\"전국\"]=cpi.loc[\"경기도\"]\n",
        "cpi.index=[\"경기북부\",\"서울\",\"부산\",\"인천\",\"경기남부\",\"창원\"]\n",
        "#인천제거\n",
        "rain.drop(\"인천\",axis=0,inplace=True)\n",
        "cpi.drop(\"인천\",axis=0,inplace=True)\n",
        "temp.drop(\"인천\",axis=0,inplace=True)\n",
        "\n",
        "\n",
        "point=pd.read_csv(\"./gdrive/My Drive/롯데백화점/point_table.csv\",encoding=\"ms949\").set_index([\"point_name\"])\n",
        "\n",
        "\n",
        "rain_new=pd.merge(point, rain,left_on='지역', right_index=True,how='left')\n",
        "temp_new=pd.merge(point, temp,left_on='지역', right_index=True,how='left')\n",
        "temp_new.drop(\"지역\",axis=1,inplace=True)\n",
        "rain_new.drop(\"지역\",axis=1,inplace=True)\n",
        "\n",
        "temp_reindex=temp_new.reindex(new_df.index.get_level_values(0))\n",
        "rain_reindex=rain_new.reindex(new_df.index.get_level_values(0))\n",
        "\n",
        "\n",
        "new_df.columns=pd.date_range(start='6/30/2016', periods=160, freq='W')\n",
        "temp_reindex.columns=new_df.columns\n",
        "temp_reindex.columns=new_df.columns\n",
        "\n",
        "\n",
        "# 3년간 기록있는거만 활용\n",
        "temp_reindex.index=new_df.index\n",
        "rain_reindex.index=new_df.index\n",
        "\n",
        "\n",
        "too_many_zero_index=new_df[((new_df['2016-07-03']==0) &(new_df['2016-07-10']==0) &(new_df['2016-07-17']==0)&(new_df['2016-07-24']==0)) | ((new_df['2019-06-30']==0) &(new_df['2019-07-07']==0) &(new_df['2019-07-14']==0)&(new_df['2019-07-21']==0)) ].index\n",
        "\n",
        "\n",
        "\n",
        "temp_reindex=temp_reindex.loc[(new_df.index).difference(too_many_zero_index)]\n",
        "rain_reindex=rain_reindex.loc[(new_df.index).difference(too_many_zero_index)]\n",
        "df=new_df\n",
        "new_df=new_df.loc[(new_df.index).difference(too_many_zero_index)]\n",
        "\n",
        "\n",
        "\n",
        "\n",
        "#####  2016-07-03 ~~2019-07-21 까지 1주일씩(일~토)의 160주의 데이터를 알고리즘 수정 귀찮으니 임의의 160일 설정 하겠음!!\n",
        "\n",
        "new_df.columns=pd.date_range(start='6/30/2016', periods=160, freq='D')\n",
        "\n",
        "rain_reindex.columns=pd.date_range(start='6/30/2016', periods=160, freq='D')\n",
        "\n",
        "temp_reindex.columns=pd.date_range(start='6/30/2016', periods=160, freq='D')\n",
        "\n",
        "\n",
        "## '2016-06-30', '2016-07-01', '2016-07-02', '2016-07-03',\n",
        "              # '2016-07-04', '2016-07-05', '2016-07-06', '2016-07-07',\n",
        "              # '2016-07-08', '2016-07-09',\n",
        "              # ...  \n",
        "              # '2016-11-27', '2016-11-28', '2016-11-29', '2016-11-30',\n",
        "              # '2016-12-01', '2016-12-02', '2016-12-03', '2016-12-04',\n",
        "              # '2016-12-05', '2016-12-06'\n"
      ],
      "execution_count": null,
      "outputs": [
        {
          "output_type": "stream",
          "text": [
            "/usr/local/lib/python3.6/dist-packages/ipykernel_launcher.py:53: FutureWarning: using a dict on a Series for aggregation\n",
            "is deprecated and will be removed in a future version\n"
          ],
          "name": "stderr"
        }
      ]
    },
    {
      "cell_type": "code",
      "metadata": {
        "id": "T4ATZOu9Krat",
        "colab_type": "code",
        "colab": {
          "base_uri": "https://localhost:8080/",
          "height": 70
        },
        "outputId": "6286d046-2e03-4ddc-861a-2ddebf181ce8"
      },
      "source": [
        "new_df.index.levels[1]"
      ],
      "execution_count": null,
      "outputs": [
        {
          "output_type": "execute_result",
          "data": {
            "text/plain": [
              "Index(['라움', '마쥬', '바네사브루노', '산드로', '솔리드옴므', '시스템옴므', '에르메네질도 제냐', '엠포리오아르마니',\n",
              "       '이자벨마랑', '자딕앤볼테르', '질스튜어트', '질스튜어트뉴욕', '타임옴므', '폴로랄프로렌'],\n",
              "      dtype='object', name='brand')"
            ]
          },
          "metadata": {
            "tags": []
          },
          "execution_count": 11
        }
      ]
    },
    {
      "cell_type": "code",
      "metadata": {
        "id": "IO0lGsW2bxeU",
        "colab_type": "code",
        "colab": {}
      },
      "source": [
        "import numpy as np\n",
        "import pandas as pd\n",
        "from sklearn import metrics\n",
        "from sklearn.preprocessing import LabelEncoder\n",
        "from datetime import date, timedelta\n",
        "import gc\n",
        "\n",
        "\n",
        "# Create validation and test data\n",
        "def create_dataset(df,temp,rain, timesteps, first_pred_start, is_train=True, aux_as_tensor=False, reshape_output=0):\n",
        "    #encoder = LabelEncoder()\n",
        "    #items_reindex = items.reindex(df.index.get_level_values(1))\n",
        "    #item_family = encoder.fit_transform(items_reindex['family'].values)\n",
        "    #item_class = encoder.fit_transform(items_reindex['class'].values)\n",
        "    #item_perish = items_reindex['perishable'].values\n",
        "\n",
        "    #stores_reindex = stores.reindex(df.index.get_level_values(0))\n",
        "    #store_nbr = df.reset_index().store_nbr.values - 1\n",
        "    #store_cluster = stores_reindex['cluster'].values - 1\n",
        "    #store_type = encoder.fit_transform(stores_reindex['type'].values)\n",
        "\n",
        "    # item_mean_df = df.groupby('item_nbr').mean().reindex(df.index.get_level_values(1))\n",
        "    brand_group_mean = df.groupby('brand').mean()\n",
        "    point_group_mean = df.groupby('point').mean()\n",
        "    # store_family_group_mean = df.join(items['family']).groupby(['store_nbr', 'family']).transform('mean')\n",
        "    # store_family_group_mean.index = df.index\n",
        "\n",
        "    #cat_features = np.stack([item_family, item_class, item_perish, store_nbr, store_cluster, store_type], axis=1)\n",
        "\n",
        "    return create_dataset_part(df,temp,rain, brand_group_mean, point_group_mean, timesteps, first_pred_start, reshape_output, aux_as_tensor, is_train)\n",
        "\n",
        "def train_generator(df,temp,rain, timesteps, first_pred_start,\n",
        "    n_range=1, day_skip=7, is_train=True, batch_size=2000, aux_as_tensor=False, reshape_output=0, first_pred_start_2016=None):\n",
        "    #encoder = LabelEncoder()\n",
        "    #items_reindex = items.reindex(df.index.get_level_values(1))\n",
        "    #item_family = encoder.fit_transform(items_reindex['family'].values)\n",
        "    #item_class = encoder.fit_transform(items_reindex['class'].values)\n",
        "    #item_perish = items_reindex['perishable'].values\n",
        "\n",
        "    #stores_reindex = stores.reindex(df.index.get_level_values(0))\n",
        "    #store_nbr = df.reset_index().store_nbr.values - 1\n",
        "    #store_cluster = stores_reindex['cluster'].values - 1\n",
        "    #store_type = encoder.fit_transform(stores_reindex['type'].values)\n",
        "\n",
        "    # item_mean_df = df.groupby('item_nbr').mean().reindex(df.index.get_level_values(1))\n",
        "    brand_group_mean = df.groupby('brand').mean()\n",
        "    point_group_mean = df.groupby('point').mean()\n",
        "    # store_family_group_mean = df.join(items['family']).groupby(['store_nbr', 'family']).transform('mean')\n",
        "    # store_family_group_mean.index = df.index\n",
        "\n",
        "    while 1:\n",
        "        date_part = np.random.permutation(range(n_range))\n",
        "        if first_pred_start_2016 is not None:\n",
        "            range_diff = (first_pred_start - first_pred_start_2016).days / day_skip\n",
        "            date_part = np.concat([date_part, np.random.permutation(range(range_diff, int(n_range/2) + range_diff))])\n",
        "\n",
        "        for i in date_part:\n",
        "            keep_idx = np.random.permutation(df.shape[0])[:batch_size]\n",
        "            df_tmp = df.iloc[keep_idx,:]\n",
        "            temp_tmp = temp.iloc[keep_idx,:]\n",
        "            rain_tmp = rain.iloc[keep_idx,:]\n",
        "           \n",
        "            # item_mean_tmp = item_mean_df.iloc[keep_idx, :]\n",
        "\n",
        "            pred_start = first_pred_start - timedelta(days=int(day_skip*i))\n",
        "\n",
        "            # Generate a batch of random subset data. All data in the same batch are in the same period.\n",
        "            yield create_dataset_part(df_tmp,temp_tmp, rain_tmp, brand_group_mean, point_group_mean, timesteps, pred_start, reshape_output, aux_as_tensor, True)\n",
        "\n",
        "            gc.collect()\n",
        "\n",
        "def create_dataset_part(df, temp,rain, brand_group_mean, point_group_mean, timesteps, pred_start, reshape_output, aux_as_tensor, is_train, weight=False):\n",
        "\n",
        "    brand_mean_df = brand_group_mean.reindex(df.index.get_level_values(1))\n",
        "    point_mean_df = point_group_mean.reindex(df.index.get_level_values(0))\n",
        "    # store_family_mean_df = store_family_group_mean.reindex(df.index)\n",
        "\n",
        "    X, y = create_xy_span(df, pred_start, timesteps, is_train)\n",
        "    is0 = (X==0).astype('uint8')\n",
        "    rain = rain[pd.date_range(pred_start-timedelta(days=timesteps), periods=timesteps)].values\n",
        "    temp = temp[pd.date_range(pred_start-timedelta(days=timesteps), periods=timesteps)].values\n",
        "    \n",
        "    brand_mean, _ = create_xy_span(brand_mean_df, pred_start, timesteps, False)\n",
        "    point_mean, _ = create_xy_span(point_mean_df, pred_start, timesteps, False)\n",
        "    # store_family_mean, _ = create_xy_span(store_family_mean_df, pred_start, timesteps, False)\n",
        "    # month_tmp = np.tile([d.month-1 for d in pd.date_range(pred_start-timedelta(days=timesteps), periods=timesteps+16)],\n",
        "    #                       (X_tmp.shape[0],1))\n",
        "    yearAgo, _ = create_xy_span(df, pred_start-timedelta(days=52), timesteps+4, False)\n",
        "    quarterAgo, _ = create_xy_span(df, pred_start-timedelta(days=13), timesteps+4, False)\n",
        "    #monthAgo, _ = create_xy_span(df, pred_start-timedelta(days=4), timesteps+4, False)\n",
        "    if reshape_output>0:\n",
        "        X = X.reshape(-1, timesteps, 1)\n",
        "    if reshape_output>1:\n",
        "        is0 = is0.reshape(-1, timesteps, 1)\n",
        "        rain = rain.reshape(-1, timesteps, 1)\n",
        "        temp = temp.reshape(-1, timesteps, 1)\n",
        "        \n",
        "        yearAgo = yearAgo.reshape(-1, timesteps+4, 1)\n",
        "        quarterAgo = quarterAgo.reshape(-1, timesteps+4, 1)\n",
        "        \n",
        "        #monthAgo = quarterAgo.reshape(-1, timesteps+4, 1)\n",
        "        brand_mean = brand_mean.reshape(-1, timesteps, 1)\n",
        "        point_mean = point_mean.reshape(-1, timesteps, 1)\n",
        "        # store_family_mean = store_family_mean.reshape(-1, timesteps, 1)\n",
        "\n",
        "    #w = (cat_features[:, 2] * 0.25 + 1) / (cat_features[:, 2] * 0.25 + 1).mean()\n",
        "\n",
        "  \n",
        "    # Use when only 6th-16th days (private periods) are in the training output\n",
        "    # if is_train: y = y[:, 5:]\n",
        "\n",
        "    if weight: return ([X, is0,temp,rain, yearAgo, quarterAgo,brand_mean, point_mean], y)\n",
        "    else: return ([X, is0,temp,rain, yearAgo, quarterAgo, brand_mean, point_mean], y)\n",
        "\n",
        "def create_xy_span(df, pred_start, timesteps, is_train=True, shift_range=0):\n",
        "    X = df[pd.date_range(pred_start-timedelta(days=timesteps), pred_start-timedelta(days=1))].values\n",
        "    if (is_train & (date(2016,12,4)>pred_start)): y = df[pd.date_range(pred_start, periods=+4)].values\n",
        "    else: y = None\n",
        "    return X, y\n",
        "\n",
        "\n",
        "# Calculate RMSE scores for all 16 days, first 5 days (fror public LB) and 6th-16th days (for private LB) \n",
        "def cal_score(Ytrue, Yfit):\n",
        "\tprint([metrics.mean_squared_error(Ytrue, Yfit), \n",
        "\tmetrics.mean_squared_error(Ytrue[:,:5], Yfit[:,:5]),\n",
        "\tmetrics.mean_squared_error(Ytrue[:,5:], Yfit[:,5:])])\n",
        "\n"
      ],
      "execution_count": null,
      "outputs": []
    },
    {
      "cell_type": "code",
      "metadata": {
        "id": "QfgZYtTWKnxp",
        "colab_type": "code",
        "colab": {}
      },
      "source": [
        "timesteps = 13\n",
        "train_data = train_generator(new_df,temp_reindex,rain_reindex, timesteps, date(2016, 11, 29),         # 11 29  12 3\n",
        "                                           n_range=52, day_skip=1, batch_size=20, aux_as_tensor=True, reshape_output=2)\n",
        "Xval, Yval = create_dataset(new_df, temp_reindex,rain_reindex, timesteps, date(2016, 12,3),\n",
        "                                     aux_as_tensor=True, reshape_output=2)\n",
        "Xtest, _ = create_dataset(new_df, temp_reindex,rain_reindex, timesteps, date(2016, 12,7),\n",
        "                                     aux_as_tensor=True, reshape_output=2)"
      ],
      "execution_count": null,
      "outputs": []
    },
    {
      "cell_type": "code",
      "metadata": {
        "id": "UNaBvYr-3KO1",
        "colab_type": "code",
        "colab": {}
      },
      "source": [
        ""
      ],
      "execution_count": null,
      "outputs": []
    },
    {
      "cell_type": "code",
      "metadata": {
        "id": "0TFm2FpR3V_a",
        "colab_type": "code",
        "colab": {}
      },
      "source": [
        ""
      ],
      "execution_count": null,
      "outputs": []
    },
    {
      "cell_type": "code",
      "metadata": {
        "id": "TUuTXaU7LS4X",
        "colab_type": "code",
        "colab": {
          "base_uri": "https://localhost:8080/",
          "height": 34
        },
        "outputId": "e872363f-0c00-419d-a560-77057d57b544"
      },
      "source": [
        "latent_dim = 40\n",
        "\n",
        "import numpy as np\n",
        "import pandas as pd\n",
        "from datetime import date, timedelta\n",
        "from sklearn import metricsx\n",
        "from sklearn.preprocessing import MinMaxScaler, LabelEncoder\n",
        "import keras\n",
        "from keras.models import Sequential, Model\n",
        "from keras.layers import *\n",
        "from keras import optimizers\n",
        "import gc\n",
        "\n",
        "\n",
        "seq_in = Input(shape=(timesteps, 1))\n",
        "is0_in = Input(shape=(timesteps, 1))\n",
        "temp_in = Input(shape=(timesteps, 1))\n",
        "rain_in = Input(shape=(timesteps, 1))\n",
        "yearAgo_in = Input(shape=(timesteps+4, 1))\n",
        "quarterAgo_in = Input(shape=(timesteps+4, 1))\n",
        "\n",
        "#monthAgo_in = Input(shape=(timesteps+4, 1))\n",
        "brand_mean_in = Input(shape=(timesteps, 1))\n",
        "point_mean_in = Input(shape=(timesteps, 1))\n",
        "# store_family_mean_in = Input(shape=(timesteps, 1))\n",
        "\n",
        "\n",
        "# aux input\n",
        "\n",
        "encode_slice = Lambda(lambda x: x[:, :timesteps, :])\n",
        "# encode_features = concatenate([promo_in, yearAgo_in, quarterAgo_in], axis=2)\n",
        "# encode_features = encode_slice(encode_features)\n",
        "\n",
        "x_in = concatenate([seq_in, encode_slice(yearAgo_in), encode_slice(quarterAgo_in), brand_mean_in], axis=2)\n",
        "\n",
        "\n",
        "\n",
        "# Define network\n",
        "# c0 = TimeDistributed(Dense(4))(x_in)\n",
        "# # c0 = Conv1D(4, 1, activation='relu')(sequence_in)\n",
        "c1 = Conv1D(latent_dim, 2, dilation_rate=1, padding='causal', activation='relu')(x_in)\n",
        "#c2 = Conv1D(latent_dim, 2, dilation_rate=2, padding='causal', activation='relu')(c1)\n",
        "#c2 = Conv1D(latent_dim, 2, dilation_rate=4, padding='causal', activation='relu')(c2)\n",
        "#c2 = Conv1D(latent_dim, 2, dilation_rate=8, padding='causal', activation='relu')(c2)\n",
        "# c2 = Conv1D(latent_dim, 2, dilation_rate=16, padding='causal', activation='relu')(c2)\n",
        "\n",
        "#c4 = concatenate([c1, c2])\n",
        "# c2 = MaxPooling1D()(c2)\n",
        "\n",
        "conv_out = Conv1D(4, 1, activation='relu')(c1)\n",
        "# conv_out = GlobalAveragePooling1D()(c4)\n",
        "conv_out = Dropout(0.25)(conv_out)\n",
        "conv_out = Flatten()(conv_out)\n",
        "\n",
        "decode_slice = Lambda(lambda x: x[:, timesteps:, :])\n",
        "yearAgo_pred = decode_slice(yearAgo_in)\n",
        "quarterAgo_pred = decode_slice(quarterAgo_in)\n",
        "\n",
        "# qAgo_pred = decode_slice(quarterAgo_in)\n",
        "# yAgo_pred = decode_slice(yearAgo_in)\n",
        "\n",
        "\n",
        "# Raw sequence in results overfitting!!!\n",
        "dnn_out = Dense(64, activation='relu')(Flatten()(seq_in))\n",
        "#dnn_out = Dense(128, activation='relu')(dnn_out)\n",
        "# dnn_out = BatchNormalization()(dnn_out)\n",
        "dnn_out = Dropout(0.7)(dnn_out)"
      ],
      "execution_count": null,
      "outputs": [
        {
          "output_type": "stream",
          "text": [
            "W0827 02:45:40.353213 140609407027072 nn_ops.py:4224] Large dropout rate: 0.7 (>0.5). In TensorFlow 2.x, dropout() uses dropout rate instead of keep_prob. Please ensure that this is intended.\n"
          ],
          "name": "stderr"
        }
      ]
    },
    {
      "cell_type": "code",
      "metadata": {
        "id": "aihuMxknayq3",
        "colab_type": "code",
        "colab": {
          "base_uri": "https://localhost:8080/",
          "height": 70
        },
        "outputId": "580ea3c5-91b6-4094-90a3-b9fd3786f423"
      },
      "source": [
        "from tensorboardcolab import TensorBoardColab, TensorBoardColabCallback\n",
        "tbc=TensorBoardColab()\n"
      ],
      "execution_count": null,
      "outputs": [
        {
          "output_type": "stream",
          "text": [
            "Wait for 8 seconds...\n",
            "TensorBoard link:\n",
            "https://34a00deb.ngrok.io\n"
          ],
          "name": "stdout"
        }
      ]
    },
    {
      "cell_type": "code",
      "metadata": {
        "id": "nDI977AHazjb",
        "colab_type": "code",
        "colab": {
          "base_uri": "https://localhost:8080/",
          "height": 1000
        },
        "outputId": "efdbc1bb-b294-4af9-dc18-5a680092e210"
      },
      "source": [
        "x = concatenate([conv_out, dnn_out,\n",
        "                 Flatten()(yearAgo_pred), Flatten()(quarterAgo_pred)])\n",
        "#x = BatchNormalization()(x)\n",
        "x = Dense(64, activation='relu')(x)\n",
        "x = Dropout(0.7)(x)\n",
        "#x = Dense(256, activation='relu')(x)\n",
        "#x = BatchNormalization()(x)\n",
        "#x = concatenate([x, seq_in])\n",
        "output = Dense(4, activation='relu')(x)\n",
        "\n",
        "model = Model([seq_in, is0_in, temp_in,rain_in, yearAgo_in, quarterAgo_in, brand_mean_in, point_mean_in], output)\n",
        "\n",
        "rms = optimizers.adam(lr=0.0001)\n",
        "model.compile(optimizer=rms, loss='mean_squared_error')\n",
        "\n",
        "##텐서보드\n",
        "\n",
        "\n",
        "history = model.fit_generator(train_data, steps_per_epoch=52, workers=3, use_multiprocessing=True, epochs=50, verbose=2, callbacks=[TensorBoardColabCallback(tbc)],\n",
        "                    validation_data=(Xval, Yval))\n",
        "\n"
      ],
      "execution_count": null,
      "outputs": [
        {
          "output_type": "stream",
          "text": [
            "/usr/local/lib/python3.6/dist-packages/keras/engine/training_generator.py:47: UserWarning: Using a generator with `use_multiprocessing=True` and multiple workers may duplicate your data. Please consider using the`keras.utils.Sequence class.\n",
            "  UserWarning('Using a generator with `use_multiprocessing=True`'\n"
          ],
          "name": "stderr"
        },
        {
          "output_type": "stream",
          "text": [
            "Epoch 1/50\n",
            " - 10s - loss: 60931134778446.7734 - val_loss: 44417602909277.0938\n",
            "Epoch 2/50\n",
            " - 9s - loss: 54022330707022.7734 - val_loss: 40207515552674.9062\n",
            "Epoch 3/50\n",
            " - 10s - loss: 61286486396612.9219 - val_loss: 35853365673984.0000\n",
            "Epoch 4/50\n",
            " - 9s - loss: 60559745412174.7734 - val_loss: 34414176239616.0000\n",
            "Epoch 5/50\n",
            " - 10s - loss: 45476376215552.0000 - val_loss: 34077697733725.0898\n",
            "Epoch 6/50\n",
            " - 9s - loss: 44283321969742.7734 - val_loss: 34029084606464.0000\n",
            "Epoch 7/50\n",
            " - 9s - loss: 45180761326828.3125 - val_loss: 32350371434868.3633\n",
            "Epoch 8/50\n",
            " - 9s - loss: 50322168026033.2266 - val_loss: 29270382381986.9102\n",
            "Epoch 9/50\n",
            " - 10s - loss: 44503887067923.6875 - val_loss: 28373827214615.2734\n",
            "Epoch 10/50\n",
            " - 9s - loss: 45995243722909.5391 - val_loss: 26937970440750.5469\n",
            "Epoch 11/50\n",
            " - 10s - loss: 48604236883810.4609 - val_loss: 26182126737221.8164\n",
            "Epoch 12/50\n",
            " - 10s - loss: 40790601720438.1562 - val_loss: 25349753572258.9102\n",
            "Epoch 13/50\n",
            " - 9s - loss: 44432506547278.7734 - val_loss: 24851499807837.0898\n",
            "Epoch 14/50\n",
            " - 10s - loss: 40499185309853.5391 - val_loss: 25982881282606.5469\n",
            "Epoch 15/50\n",
            " - 9s - loss: 39416243824482.4609 - val_loss: 24507388431266.9102\n",
            "Epoch 16/50\n",
            " - 10s - loss: 43022079552590.7734 - val_loss: 24110725857280.0000\n",
            "Epoch 17/50\n",
            " - 9s - loss: 46136283889664.0000 - val_loss: 23903864785826.9102\n",
            "Epoch 18/50\n",
            " - 10s - loss: 37693154252957.5391 - val_loss: 23708835559982.5469\n",
            "Epoch 19/50\n",
            " - 10s - loss: 47877332906299.0781 - val_loss: 23117719428375.2734\n",
            "Epoch 20/50\n",
            " - 9s - loss: 36787370953176.6094 - val_loss: 23459072192139.6367\n",
            "Epoch 21/50\n",
            " - 10s - loss: 34766811078025.8438 - val_loss: 24041052748334.5469\n",
            "Epoch 22/50\n",
            " - 9s - loss: 38597355533863.3906 - val_loss: 23650551320948.3633\n",
            "Epoch 23/50\n",
            " - 9s - loss: 35734909958931.6953 - val_loss: 23120974208279.2734\n",
            "Epoch 24/50\n",
            " - 10s - loss: 40778173090264.6094 - val_loss: 23010343339473.4531\n",
            "Epoch 25/50\n",
            " - 9s - loss: 37653600776507.0781 - val_loss: 23025955110912.0000\n",
            "Epoch 26/50\n",
            " - 10s - loss: 43959753375744.0000 - val_loss: 22534254183889.4531\n",
            "Epoch 27/50\n",
            " - 9s - loss: 34932520205075.6953 - val_loss: 23008825096750.5469\n",
            "Epoch 28/50\n",
            " - 9s - loss: 40170470123362.4609 - val_loss: 22551023583232.0000\n",
            "Epoch 29/50\n",
            " - 9s - loss: 35610761928073.8438 - val_loss: 22383165821300.3633\n",
            "Epoch 30/50\n",
            " - 9s - loss: 32763333070532.9258 - val_loss: 22815082283008.0000\n",
            "Epoch 31/50\n",
            " - 10s - loss: 38170480546737.2344 - val_loss: 22472739091549.0898\n",
            "Epoch 32/50\n",
            " - 10s - loss: 34440569200009.8438 - val_loss: 22738077530670.5469\n",
            "Epoch 33/50\n",
            " - 10s - loss: 35136716104310.1562 - val_loss: 22278863108654.5469\n",
            "Epoch 34/50\n",
            " - 9s - loss: 40557360003859.6953 - val_loss: 22103348263470.5469\n",
            "Epoch 35/50\n",
            " - 9s - loss: 32742137437577.8438 - val_loss: 22340936329402.1836\n",
            "Epoch 36/50\n",
            " - 10s - loss: 34454110369319.3867 - val_loss: 22309537674333.0898\n",
            "Epoch 37/50\n",
            " - 10s - loss: 42662128375965.5391 - val_loss: 22156866343284.3633\n",
            "Epoch 38/50\n",
            " - 9s - loss: 36958769895581.5391 - val_loss: 22282571731316.3633\n",
            "Epoch 39/50\n",
            " - 10s - loss: 36115506124957.5391 - val_loss: 22061981844945.4531\n",
            "Epoch 40/50\n",
            " - 9s - loss: 39256821213026.4609 - val_loss: 21964127874699.6367\n",
            "Epoch 41/50\n",
            " - 9s - loss: 36839824556032.0000 - val_loss: 22108948612561.4531\n",
            "Epoch 42/50\n",
            " - 9s - loss: 30881216684662.1562 - val_loss: 22416031910818.9102\n",
            "Epoch 43/50\n",
            " - 10s - loss: 35178304402983.3867 - val_loss: 22099799215010.9102\n",
            "Epoch 44/50\n",
            " - 9s - loss: 32971941538894.7695 - val_loss: 21935318439749.8164\n",
            "Epoch 45/50\n",
            " - 9s - loss: 36688023862035.6953 - val_loss: 21967299435799.2734\n",
            "Epoch 46/50\n",
            " - 9s - loss: 37004157951369.8438 - val_loss: 22111615903930.1836\n",
            "Epoch 47/50\n",
            " - 10s - loss: 36948290306048.0000 - val_loss: 22132914388992.0000\n",
            "Epoch 48/50\n",
            " - 9s - loss: 32533873910390.1562 - val_loss: 21787927451461.8164\n",
            "Epoch 49/50\n",
            " - 10s - loss: 31384881796017.2305 - val_loss: 22118608666624.0000\n",
            "Epoch 50/50\n",
            " - 10s - loss: 37607833277361.2344 - val_loss: 21817553059840.0000\n"
          ],
          "name": "stdout"
        }
      ]
    },
    {
      "cell_type": "code",
      "metadata": {
        "id": "Dg4NKVFTrjai",
        "colab_type": "code",
        "colab": {
          "base_uri": "https://localhost:8080/",
          "height": 172
        },
        "outputId": "0e5de2b7-2aa5-48b1-dba2-38c08ae83457"
      },
      "source": [
        ""
      ],
      "execution_count": null,
      "outputs": [
        {
          "output_type": "error",
          "ename": "NameError",
          "evalue": "ignored",
          "traceback": [
            "\u001b[0;31m---------------------------------------------------------------------------\u001b[0m",
            "\u001b[0;31mNameError\u001b[0m                                 Traceback (most recent call last)",
            "\u001b[0;32m<ipython-input-1-a7d6d497386a>\u001b[0m in \u001b[0;36m<module>\u001b[0;34m()\u001b[0m\n\u001b[0;32m----> 1\u001b[0;31m \u001b[0mnew_df\u001b[0m\u001b[0;34m.\u001b[0m\u001b[0mindex\u001b[0m\u001b[0;34m\u001b[0m\u001b[0;34m\u001b[0m\u001b[0m\n\u001b[0m",
            "\u001b[0;31mNameError\u001b[0m: name 'new_df' is not defined"
          ]
        }
      ]
    },
    {
      "cell_type": "code",
      "metadata": {
        "id": "eEi_iz0l6WaR",
        "colab_type": "code",
        "colab": {}
      },
      "source": [
        ""
      ],
      "execution_count": null,
      "outputs": []
    },
    {
      "cell_type": "code",
      "metadata": {
        "id": "oMBvAW_fbIcy",
        "colab_type": "code",
        "colab": {
          "base_uri": "https://localhost:8080/",
          "height": 34
        },
        "outputId": "5eee45af-95ad-43e1-de93-b0e6abab268d"
      },
      "source": [
        "val_pred = model.predict(Xval)\n",
        "\n",
        "\n",
        "\n",
        "#  주당 예측을 한달간으로 합 해주는 함수 작성\n",
        "\n",
        "def monthly_sales(A,B):\n",
        "  C=[]\n",
        "  D=[]\n",
        "  for i in range(44):\n",
        "    C.append(A[i].sum())\n",
        "    D.append(B[i].sum())\n",
        "  return C, D\n",
        "\n",
        "\n",
        "\n",
        "\n",
        "monthly_pred, monthly_val=monthly_sales(val_pred,Yval)\n",
        "\n",
        "\n",
        "\n",
        "\n",
        "from sklearn.metrics import mean_squared_error\n",
        "from math import sqrt\n",
        "\n",
        "rms_first = sqrt(mean_squared_error(monthly_val, monthly_pred))\n",
        "\n",
        "# 작년꺼 보정계수\n",
        "first_2018_index=pd.date_range(start='2016-09-16', end='2016-10-11')            ######2018년 1월부터 6월까지 매출\n",
        "first_2019_index=pd.date_range(start='2016-11-07', end='2016-12-02')            ######2019년 1월부터 6월까지 매출\n",
        "first_2018_df=new_df[pd.date_range(start='2016-09-16', end='2016-10-11')]       \n",
        "first_2019_df=new_df[pd.date_range(start='2016-11-07', end='2016-12-02')]\n",
        "first_2019=list(first_2019_df.sum(axis=1))\n",
        "first_2018=list(first_2018_df.sum(axis=1))\n",
        "compensate=sum(first_2019)/sum(first_2018)\n",
        "\n",
        "last_year=new_df[pd.date_range(start='2016-10-12', end='2016-10-15')]        # 2018년 7월 4주간 매출 12 15\n",
        "last_june=list(last_year.sum(axis=1))\n",
        "\n",
        "def multiply(a,b):\n",
        "  c=[]\n",
        "  for i in a:\n",
        "    c.append(i*b)\n",
        "  return c\n",
        "\n",
        "\n",
        "#last_june=multiply(last_june,compensate)     #########보정계수 곱해주기\n",
        "rms_last_year = sqrt(mean_squared_error(monthly_val, last_june))\n",
        "print(rms_first,rms_last_year)             ######### 첫번째가 예측한 rmse  두번째가 작년꺼에 보정계수 곱해서 예측한것의 rmse"
      ],
      "execution_count": null,
      "outputs": [
        {
          "output_type": "stream",
          "text": [
            "8308951.537272678 10974269.573569784\n"
          ],
          "name": "stdout"
        }
      ]
    },
    {
      "cell_type": "code",
      "metadata": {
        "id": "9ZcYCCDdC9Vl",
        "colab_type": "code",
        "colab": {}
      },
      "source": [
        ""
      ],
      "execution_count": null,
      "outputs": []
    },
    {
      "cell_type": "code",
      "metadata": {
        "id": "KjjKOTUEUWGE",
        "colab_type": "code",
        "colab": {}
      },
      "source": [
        "########태일이형한데 주는 파일 만들기 #########\n",
        "\n",
        "Predict_201907=pd.DataFrame(index=new_df.index,columns=[\"일자\",\"매출\"])\n",
        "Actual_201907=pd.DataFrame(index=new_df.index,columns=[\"일자\",\"매출\"])\n",
        "Actual_201807=pd.DataFrame(index=new_df.index,columns=[\"일자\",\"매출\"])\n",
        "Predict_201907_sum=pd.DataFrame(index=new_df.index,columns=[\"일자\",\"매출\"])\n",
        "Actual_201907_sum=pd.DataFrame(index=new_df.index,columns=[\"일자\",\"매출\"])\n",
        "Actual_201807_sum=pd.DataFrame(index=new_df.index,columns=[\"일자\",\"매출\"])\n",
        "percent_201907=pd.DataFrame(index=new_df.index,columns=[\"작년7월대비신장률\",\"올해7월목표대비초과달성률\"])\n",
        "date_2019_07=[\"2019-06-30\",\"2019-07-07\",\"2019-07-14\",\"2019-07-21\"]\n",
        "date_2018_07=[\"2018-07-01\",\"2018-07-08\",\"2018-07-15\",\"2018-07-22\"]\n",
        "date_2019_08=[\"2019-07-28\",\"2019-08-04\",\"2019-08-11\",\"2019-08-18\"]\n",
        "date_2018_08=[\"2018-07-29\",\"2018-08-05\",\"2018-08-12\",\"2018-08-19\"]\n",
        "m=0\n",
        "for i in Predict_201907.index:\n",
        "  Predict_201907.loc[i,\"매출\"]= list(val_pred[m].astype(int))\n",
        "  Predict_201907.loc[i,\"일자\"]= date_2019_07\n",
        "  m=m+1\n",
        "\n",
        "m=0\n",
        "for i in Actual_201907.index:\n",
        "  Actual_201907.loc[i,\"매출\"]= list(Yval[m].astype(int))\n",
        "  Actual_201907.loc[i,\"일자\"]= date_2019_07\n",
        "  m=m+1\n",
        "  \n",
        "m=0\n",
        "for i in Actual_201807.index:\n",
        "  Actual_201807.loc[i,\"매출\"]= list(new_df[pd.date_range(start='2016-10-12', end='2016-10-15')].loc[i].astype(int))\n",
        "  Actual_201807.loc[i,\"일자\"]= date_2018_07\n",
        "  m=m+1\n",
        "\n",
        "\n",
        "Predict_201907_sum[\"매출\"]=monthly_pred\n",
        "Actual_201907_sum[\"매출\"]=monthly_val\n",
        "Actual_201807_sum[\"매출\"]=last_june\n",
        "percent_201907[\"작년7월대비신장률\"]=((Actual_201907_sum[\"매출\"]/Actual_201807_sum[\"매출\"])-1)*100\n",
        "percent_201907[\"올해7월목표대비초과달성률\"]=((Actual_201907_sum[\"매출\"]/Predict_201907_sum[\"매출\"])-1)*100\n",
        "\n",
        "\n",
        "# 2018년 8월 매출과 2019년 8월 예측매출\n",
        "\n",
        "test_pred = model.predict(Xtest)\n",
        "\n",
        "\n",
        "def monthly_sale(A):\n",
        "  C=[]\n",
        "  \n",
        "  for i in range(44):\n",
        "    C.append(A[i].sum())\n",
        "  return C\n",
        "\n",
        "\n",
        "monthly_pred_8=monthly_sale(test_pred)\n",
        "\n",
        "\n",
        "last_year_=new_df[pd.date_range(start='2016-10-16', end='2016-10-19')]        # 2018년 7월 4주간 매출 12 15\n",
        "last_8=list(last_year_.sum(axis=1))\n",
        "Predict_201908_sum=pd.DataFrame(index=new_df.index,columns=[\"일자\",\"매출\"])\n",
        "Actual_201808_sum=pd.DataFrame(index=new_df.index,columns=[\"일자\",\"매출\"])\n",
        "Predict_201908=pd.DataFrame(index=new_df.index,columns=[\"일자\",\"매출\"])\n",
        "Actual_201808=pd.DataFrame(index=new_df.index,columns=[\"일자\",\"매출\"])\n",
        "\n",
        "m=0\n",
        "for i in Predict_201908.index:\n",
        "  Predict_201908.loc[i,\"매출\"]= test_pred[m].sum()\n",
        "  Predict_201908.loc[i,\"일자\"]= date_2019_08\n",
        "  m=m+1\n",
        "  \n",
        "m=0\n",
        "for i in Actual_201808.index:\n",
        "  Actual_201808.loc[i,\"매출\"]= new_df[pd.date_range(start='2016-10-16', end='2016-10-19')].loc[i].sum()\n",
        "  Actual_201808.loc[i,\"일자\"]= date_2018_08\n",
        "  m=m+1\n",
        "\n",
        "\n",
        "\n",
        "Predict_201908_sum[\"매출\"]=monthly_pred_8\n",
        "Actual_201808_sum[\"매출\"]=last_8\n",
        "\n",
        "percent_201908=pd.DataFrame(index=new_df.index,columns=[\"작년대비목표신장률\"])\n",
        "percent_201908[\"작년대비목표신장률\"]=((Predict_201908_sum[\"매출\"]/Actual_201808_sum[\"매출\"])-1)*100\n",
        "\n",
        "\n",
        "Predict_201907.to_csv(\"./gdrive/My Drive/롯데백화점/**화요일**2019년7월매출예측.csv\",encoding=\"ms949\")\n",
        "Actual_201907.to_csv(\"./gdrive/My Drive/롯데백화점/**화요일**2019년7월실제매출.csv\",encoding=\"ms949\")\n",
        "Actual_201807.to_csv(\"./gdrive/My Drive/롯데백화점/**화요일**2018년7월실제매출.csv\",encoding=\"ms949\")\n",
        "percent_201907.to_csv(\"./gdrive/My Drive/롯데백화점/**화요일**신장률과달성률.csv\",encoding=\"ms949\")\n",
        "Predict_201908.to_csv(\"./gdrive/My Drive/롯데백화점/**화요일**2019년8월매출예측.csv\",encoding=\"ms949\")\n",
        "Actual_201808.to_csv(\"./gdrive/My Drive/롯데백화점/**화요일**2018년실제매출.csv\",encoding=\"ms949\")\n",
        "percent_201908.to_csv(\"./gdrive/My Drive/롯데백화점/**화요일**2019년8월목표신장률.csv\",encoding=\"ms949\")\n",
        "Predict_201907_sum.to_csv(\"./gdrive/My Drive/롯데백화점/**화요일**2019년7월예측합산.csv\",encoding=\"ms949\")\n",
        "Actual_201907_sum.to_csv(\"./gdrive/My Drive/롯데백화점/**화요일**2019년7월실제합산.csv\",encoding=\"ms949\")\n",
        "Actual_201807_sum.to_csv(\"./gdrive/My Drive/롯데백화점/**화요일**2018년7월실제합산.csv\",encoding=\"ms949\")"
      ],
      "execution_count": null,
      "outputs": []
    },
    {
      "cell_type": "code",
      "metadata": {
        "id": "cNcZww2LbEkw",
        "colab_type": "code",
        "colab": {
          "base_uri": "https://localhost:8080/",
          "height": 52
        },
        "outputId": "bd2e8794-3006-42d2-8b67-3e1f3466d50d"
      },
      "source": [
        "print(abs(percent_201907[\"작년7월대비신장률\"]).mean())\n",
        "print(abs(percent_201907[\"올해7월목표대비초과달성률\"]).mean())"
      ],
      "execution_count": null,
      "outputs": [
        {
          "output_type": "stream",
          "text": [
            "53.2179579946458\n",
            "29.365571249478492\n"
          ],
          "name": "stdout"
        }
      ]
    },
    {
      "cell_type": "code",
      "metadata": {
        "id": "6V9pcqr3bk_g",
        "colab_type": "code",
        "colab": {
          "base_uri": "https://localhost:8080/",
          "height": 1000
        },
        "outputId": "b33c710b-c856-41b5-806c-fa9227bf1863"
      },
      "source": [
        "percent_201907"
      ],
      "execution_count": null,
      "outputs": [
        {
          "output_type": "execute_result",
          "data": {
            "text/html": [
              "<div>\n",
              "<style scoped>\n",
              "    .dataframe tbody tr th:only-of-type {\n",
              "        vertical-align: middle;\n",
              "    }\n",
              "\n",
              "    .dataframe tbody tr th {\n",
              "        vertical-align: top;\n",
              "    }\n",
              "\n",
              "    .dataframe thead th {\n",
              "        text-align: right;\n",
              "    }\n",
              "</style>\n",
              "<table border=\"1\" class=\"dataframe\">\n",
              "  <thead>\n",
              "    <tr style=\"text-align: right;\">\n",
              "      <th></th>\n",
              "      <th></th>\n",
              "      <th>작년7월대비신장률</th>\n",
              "      <th>올해7월목표대비초과달성률</th>\n",
              "    </tr>\n",
              "    <tr>\n",
              "      <th>point</th>\n",
              "      <th>brand</th>\n",
              "      <th></th>\n",
              "      <th></th>\n",
              "    </tr>\n",
              "  </thead>\n",
              "  <tbody>\n",
              "    <tr>\n",
              "      <th rowspan=\"3\" valign=\"top\">강남점</th>\n",
              "      <th>바네사브루노</th>\n",
              "      <td>-55.180839</td>\n",
              "      <td>13.672885</td>\n",
              "    </tr>\n",
              "    <tr>\n",
              "      <th>질스튜어트</th>\n",
              "      <td>9.692171</td>\n",
              "      <td>16.684832</td>\n",
              "    </tr>\n",
              "    <tr>\n",
              "      <th>폴로랄프로렌</th>\n",
              "      <td>5.709063</td>\n",
              "      <td>10.420376</td>\n",
              "    </tr>\n",
              "    <tr>\n",
              "      <th>건대스타점</th>\n",
              "      <th>폴로랄프로렌</th>\n",
              "      <td>-6.786334</td>\n",
              "      <td>26.762116</td>\n",
              "    </tr>\n",
              "    <tr>\n",
              "      <th rowspan=\"2\" valign=\"top\">광복점</th>\n",
              "      <th>자딕앤볼테르</th>\n",
              "      <td>-54.162190</td>\n",
              "      <td>-29.979840</td>\n",
              "    </tr>\n",
              "    <tr>\n",
              "      <th>타임옴므</th>\n",
              "      <td>10.291722</td>\n",
              "      <td>-12.344127</td>\n",
              "    </tr>\n",
              "    <tr>\n",
              "      <th rowspan=\"4\" valign=\"top\">노원점</th>\n",
              "      <th>솔리드옴므</th>\n",
              "      <td>115.434400</td>\n",
              "      <td>-51.208020</td>\n",
              "    </tr>\n",
              "    <tr>\n",
              "      <th>시스템옴므</th>\n",
              "      <td>143.879523</td>\n",
              "      <td>41.226511</td>\n",
              "    </tr>\n",
              "    <tr>\n",
              "      <th>질스튜어트</th>\n",
              "      <td>189.229074</td>\n",
              "      <td>28.738360</td>\n",
              "    </tr>\n",
              "    <tr>\n",
              "      <th>폴로랄프로렌</th>\n",
              "      <td>39.929327</td>\n",
              "      <td>13.330150</td>\n",
              "    </tr>\n",
              "    <tr>\n",
              "      <th rowspan=\"11\" valign=\"top\">본점</th>\n",
              "      <th>바네사브루노</th>\n",
              "      <td>61.751404</td>\n",
              "      <td>32.894530</td>\n",
              "    </tr>\n",
              "    <tr>\n",
              "      <th>산드로</th>\n",
              "      <td>72.048438</td>\n",
              "      <td>-19.749469</td>\n",
              "    </tr>\n",
              "    <tr>\n",
              "      <th>솔리드옴므</th>\n",
              "      <td>118.174344</td>\n",
              "      <td>-13.559813</td>\n",
              "    </tr>\n",
              "    <tr>\n",
              "      <th>시스템옴므</th>\n",
              "      <td>-11.661268</td>\n",
              "      <td>-18.393401</td>\n",
              "    </tr>\n",
              "    <tr>\n",
              "      <th>에르메네질도 제냐</th>\n",
              "      <td>34.282143</td>\n",
              "      <td>-23.637098</td>\n",
              "    </tr>\n",
              "    <tr>\n",
              "      <th>엠포리오아르마니</th>\n",
              "      <td>-46.147078</td>\n",
              "      <td>-11.839474</td>\n",
              "    </tr>\n",
              "    <tr>\n",
              "      <th>이자벨마랑</th>\n",
              "      <td>46.138499</td>\n",
              "      <td>-9.871137</td>\n",
              "    </tr>\n",
              "    <tr>\n",
              "      <th>자딕앤볼테르</th>\n",
              "      <td>68.638382</td>\n",
              "      <td>15.186731</td>\n",
              "    </tr>\n",
              "    <tr>\n",
              "      <th>질스튜어트</th>\n",
              "      <td>-49.830732</td>\n",
              "      <td>-36.026948</td>\n",
              "    </tr>\n",
              "    <tr>\n",
              "      <th>타임옴므</th>\n",
              "      <td>-45.645135</td>\n",
              "      <td>0.847391</td>\n",
              "    </tr>\n",
              "    <tr>\n",
              "      <th>폴로랄프로렌</th>\n",
              "      <td>12.109477</td>\n",
              "      <td>15.284798</td>\n",
              "    </tr>\n",
              "    <tr>\n",
              "      <th rowspan=\"7\" valign=\"top\">부산본점</th>\n",
              "      <th>라움</th>\n",
              "      <td>21.133688</td>\n",
              "      <td>29.415231</td>\n",
              "    </tr>\n",
              "    <tr>\n",
              "      <th>산드로</th>\n",
              "      <td>76.852724</td>\n",
              "      <td>23.649711</td>\n",
              "    </tr>\n",
              "    <tr>\n",
              "      <th>에르메네질도 제냐</th>\n",
              "      <td>-38.076318</td>\n",
              "      <td>-59.808900</td>\n",
              "    </tr>\n",
              "    <tr>\n",
              "      <th>질스튜어트</th>\n",
              "      <td>-62.638920</td>\n",
              "      <td>-57.984707</td>\n",
              "    </tr>\n",
              "    <tr>\n",
              "      <th>질스튜어트뉴욕</th>\n",
              "      <td>-26.709545</td>\n",
              "      <td>-32.521173</td>\n",
              "    </tr>\n",
              "    <tr>\n",
              "      <th>타임옴므</th>\n",
              "      <td>38.133598</td>\n",
              "      <td>-1.853521</td>\n",
              "    </tr>\n",
              "    <tr>\n",
              "      <th>폴로랄프로렌</th>\n",
              "      <td>2.872355</td>\n",
              "      <td>-6.550725</td>\n",
              "    </tr>\n",
              "    <tr>\n",
              "      <th>분당점</th>\n",
              "      <th>폴로랄프로렌</th>\n",
              "      <td>-8.527830</td>\n",
              "      <td>14.111609</td>\n",
              "    </tr>\n",
              "    <tr>\n",
              "      <th rowspan=\"2\" valign=\"top\">영등포점</th>\n",
              "      <th>시스템옴므</th>\n",
              "      <td>-20.384820</td>\n",
              "      <td>-23.433388</td>\n",
              "    </tr>\n",
              "    <tr>\n",
              "      <th>질스튜어트</th>\n",
              "      <td>225.657876</td>\n",
              "      <td>153.424501</td>\n",
              "    </tr>\n",
              "    <tr>\n",
              "      <th rowspan=\"2\" valign=\"top\">일산점</th>\n",
              "      <th>솔리드옴므</th>\n",
              "      <td>-47.619434</td>\n",
              "      <td>-5.581150</td>\n",
              "    </tr>\n",
              "    <tr>\n",
              "      <th>폴로랄프로렌</th>\n",
              "      <td>3.967396</td>\n",
              "      <td>6.886102</td>\n",
              "    </tr>\n",
              "    <tr>\n",
              "      <th rowspan=\"7\" valign=\"top\">잠실점</th>\n",
              "      <th>마쥬</th>\n",
              "      <td>6.826860</td>\n",
              "      <td>48.405750</td>\n",
              "    </tr>\n",
              "    <tr>\n",
              "      <th>바네사브루노</th>\n",
              "      <td>268.780291</td>\n",
              "      <td>185.758100</td>\n",
              "    </tr>\n",
              "    <tr>\n",
              "      <th>솔리드옴므</th>\n",
              "      <td>-11.041994</td>\n",
              "      <td>-45.366287</td>\n",
              "    </tr>\n",
              "    <tr>\n",
              "      <th>시스템옴므</th>\n",
              "      <td>-16.664846</td>\n",
              "      <td>28.550150</td>\n",
              "    </tr>\n",
              "    <tr>\n",
              "      <th>자딕앤볼테르</th>\n",
              "      <td>4.679034</td>\n",
              "      <td>11.631197</td>\n",
              "    </tr>\n",
              "    <tr>\n",
              "      <th>질스튜어트</th>\n",
              "      <td>-29.073167</td>\n",
              "      <td>-17.097551</td>\n",
              "    </tr>\n",
              "    <tr>\n",
              "      <th>타임옴므</th>\n",
              "      <td>24.767583</td>\n",
              "      <td>-5.050774</td>\n",
              "    </tr>\n",
              "    <tr>\n",
              "      <th rowspan=\"2\" valign=\"top\">창원점</th>\n",
              "      <th>자딕앤볼테르</th>\n",
              "      <td>-46.145964</td>\n",
              "      <td>-25.376265</td>\n",
              "    </tr>\n",
              "    <tr>\n",
              "      <th>폴로랄프로렌</th>\n",
              "      <td>80.004379</td>\n",
              "      <td>24.087691</td>\n",
              "    </tr>\n",
              "    <tr>\n",
              "      <th rowspan=\"2\" valign=\"top\">평촌점</th>\n",
              "      <th>시스템옴므</th>\n",
              "      <td>3.399909</td>\n",
              "      <td>-23.108118</td>\n",
              "    </tr>\n",
              "    <tr>\n",
              "      <th>폴로랄프로렌</th>\n",
              "      <td>80.910080</td>\n",
              "      <td>-20.774529</td>\n",
              "    </tr>\n",
              "  </tbody>\n",
              "</table>\n",
              "</div>"
            ],
            "text/plain": [
              "                  작년7월대비신장률  올해7월목표대비초과달성률\n",
              "point brand                               \n",
              "강남점   바네사브루노     -55.180839      13.672885\n",
              "      질스튜어트        9.692171      16.684832\n",
              "      폴로랄프로렌       5.709063      10.420376\n",
              "건대스타점 폴로랄프로렌      -6.786334      26.762116\n",
              "광복점   자딕앤볼테르     -54.162190     -29.979840\n",
              "      타임옴므        10.291722     -12.344127\n",
              "노원점   솔리드옴므      115.434400     -51.208020\n",
              "      시스템옴므      143.879523      41.226511\n",
              "      질스튜어트      189.229074      28.738360\n",
              "      폴로랄프로렌      39.929327      13.330150\n",
              "본점    바네사브루노      61.751404      32.894530\n",
              "      산드로         72.048438     -19.749469\n",
              "      솔리드옴므      118.174344     -13.559813\n",
              "      시스템옴므      -11.661268     -18.393401\n",
              "      에르메네질도 제냐   34.282143     -23.637098\n",
              "      엠포리오아르마니   -46.147078     -11.839474\n",
              "      이자벨마랑       46.138499      -9.871137\n",
              "      자딕앤볼테르      68.638382      15.186731\n",
              "      질스튜어트      -49.830732     -36.026948\n",
              "      타임옴므       -45.645135       0.847391\n",
              "      폴로랄프로렌      12.109477      15.284798\n",
              "부산본점  라움          21.133688      29.415231\n",
              "      산드로         76.852724      23.649711\n",
              "      에르메네질도 제냐  -38.076318     -59.808900\n",
              "      질스튜어트      -62.638920     -57.984707\n",
              "      질스튜어트뉴욕    -26.709545     -32.521173\n",
              "      타임옴므        38.133598      -1.853521\n",
              "      폴로랄프로렌       2.872355      -6.550725\n",
              "분당점   폴로랄프로렌      -8.527830      14.111609\n",
              "영등포점  시스템옴므      -20.384820     -23.433388\n",
              "      질스튜어트      225.657876     153.424501\n",
              "일산점   솔리드옴므      -47.619434      -5.581150\n",
              "      폴로랄프로렌       3.967396       6.886102\n",
              "잠실점   마쥬           6.826860      48.405750\n",
              "      바네사브루노     268.780291     185.758100\n",
              "      솔리드옴므      -11.041994     -45.366287\n",
              "      시스템옴므      -16.664846      28.550150\n",
              "      자딕앤볼테르       4.679034      11.631197\n",
              "      질스튜어트      -29.073167     -17.097551\n",
              "      타임옴므        24.767583      -5.050774\n",
              "창원점   자딕앤볼테르     -46.145964     -25.376265\n",
              "      폴로랄프로렌      80.004379      24.087691\n",
              "평촌점   시스템옴므        3.399909     -23.108118\n",
              "      폴로랄프로렌      80.910080     -20.774529"
            ]
          },
          "metadata": {
            "tags": []
          },
          "execution_count": 55
        }
      ]
    },
    {
      "cell_type": "code",
      "metadata": {
        "id": "p7y0SeJ1esJz",
        "colab_type": "code",
        "colab": {}
      },
      "source": [
        ""
      ],
      "execution_count": null,
      "outputs": []
    },
    {
      "cell_type": "code",
      "metadata": {
        "id": "1lUoFj3KUk61",
        "colab_type": "code",
        "colab": {}
      },
      "source": [
        "percent_201907.to_csv(\"./gdrive/My Drive/롯데백화점/!!화요일ppt용!신장률과달성률1.csv\",encoding=\"ms949\")"
      ],
      "execution_count": null,
      "outputs": []
    },
    {
      "cell_type": "code",
      "metadata": {
        "id": "HeFfocYtd-gD",
        "colab_type": "code",
        "colab": {}
      },
      "source": [
        ""
      ],
      "execution_count": null,
      "outputs": []
    },
    {
      "cell_type": "code",
      "metadata": {
        "id": "phGkyhsvYF4X",
        "colab_type": "code",
        "colab": {}
      },
      "source": [
        ""
      ],
      "execution_count": null,
      "outputs": []
    },
    {
      "cell_type": "code",
      "metadata": {
        "id": "Xvu1czwvVQtS",
        "colab_type": "code",
        "colab": {}
      },
      "source": [
        ""
      ],
      "execution_count": null,
      "outputs": []
    },
    {
      "cell_type": "code",
      "metadata": {
        "id": "TTQNVeohdVfs",
        "colab_type": "code",
        "colab": {}
      },
      "source": [
        ""
      ],
      "execution_count": null,
      "outputs": []
    },
    {
      "cell_type": "code",
      "metadata": {
        "id": "Mc7WEY3vQkfc",
        "colab_type": "code",
        "colab": {}
      },
      "source": [
        ""
      ],
      "execution_count": null,
      "outputs": []
    },
    {
      "cell_type": "code",
      "metadata": {
        "id": "i7L4hgI1YZim",
        "colab_type": "code",
        "colab": {}
      },
      "source": [
        "\n"
      ],
      "execution_count": null,
      "outputs": []
    },
    {
      "cell_type": "code",
      "metadata": {
        "id": "PdJzEFyS0_6B",
        "colab_type": "code",
        "colab": {}
      },
      "source": [
        ""
      ],
      "execution_count": null,
      "outputs": []
    },
    {
      "cell_type": "code",
      "metadata": {
        "id": "QxrZBsjUfd5y",
        "colab_type": "code",
        "colab": {}
      },
      "source": [
        ""
      ],
      "execution_count": null,
      "outputs": []
    },
    {
      "cell_type": "code",
      "metadata": {
        "id": "WTQRV8g2T93U",
        "colab_type": "code",
        "colab": {}
      },
      "source": [
        ""
      ],
      "execution_count": null,
      "outputs": []
    },
    {
      "cell_type": "code",
      "metadata": {
        "id": "AVO-sp_TgV2_",
        "colab_type": "code",
        "colab": {}
      },
      "source": [
        ""
      ],
      "execution_count": null,
      "outputs": []
    },
    {
      "cell_type": "code",
      "metadata": {
        "id": "bR8YtRN0gaCs",
        "colab_type": "code",
        "colab": {}
      },
      "source": [
        ""
      ],
      "execution_count": null,
      "outputs": []
    },
    {
      "cell_type": "code",
      "metadata": {
        "id": "fwoEioe3gaT0",
        "colab_type": "code",
        "colab": {}
      },
      "source": [
        ""
      ],
      "execution_count": null,
      "outputs": []
    },
    {
      "cell_type": "code",
      "metadata": {
        "id": "A92SsbdggaYq",
        "colab_type": "code",
        "colab": {}
      },
      "source": [
        ""
      ],
      "execution_count": null,
      "outputs": []
    },
    {
      "cell_type": "code",
      "metadata": {
        "id": "jkSzsrYEPZJ2",
        "colab_type": "code",
        "colab": {}
      },
      "source": [
        "\n"
      ],
      "execution_count": null,
      "outputs": []
    },
    {
      "cell_type": "code",
      "metadata": {
        "id": "dBviyPfaU0ME",
        "colab_type": "code",
        "colab": {}
      },
      "source": [
        ""
      ],
      "execution_count": null,
      "outputs": []
    },
    {
      "cell_type": "code",
      "metadata": {
        "id": "JM6tskrbU_7o",
        "colab_type": "code",
        "colab": {}
      },
      "source": [
        ""
      ],
      "execution_count": null,
      "outputs": []
    },
    {
      "cell_type": "code",
      "metadata": {
        "id": "grzxxy14U_6c",
        "colab_type": "code",
        "colab": {}
      },
      "source": [
        ""
      ],
      "execution_count": null,
      "outputs": []
    },
    {
      "cell_type": "code",
      "metadata": {
        "id": "MCiiJaJZU_5O",
        "colab_type": "code",
        "colab": {}
      },
      "source": [
        ""
      ],
      "execution_count": null,
      "outputs": []
    },
    {
      "cell_type": "code",
      "metadata": {
        "id": "HgLwL5-4U_zF",
        "colab_type": "code",
        "colab": {}
      },
      "source": [
        ""
      ],
      "execution_count": null,
      "outputs": []
    },
    {
      "cell_type": "code",
      "metadata": {
        "id": "UTo84ROuU_x0",
        "colab_type": "code",
        "colab": {}
      },
      "source": [
        ""
      ],
      "execution_count": null,
      "outputs": []
    },
    {
      "cell_type": "code",
      "metadata": {
        "id": "rE_5BFfWU_wj",
        "colab_type": "code",
        "colab": {}
      },
      "source": [
        ""
      ],
      "execution_count": null,
      "outputs": []
    },
    {
      "cell_type": "code",
      "metadata": {
        "id": "Uv8vu7PeU_ri",
        "colab_type": "code",
        "colab": {}
      },
      "source": [
        ""
      ],
      "execution_count": null,
      "outputs": []
    },
    {
      "cell_type": "code",
      "metadata": {
        "id": "AvEkxc0TU_qI",
        "colab_type": "code",
        "colab": {}
      },
      "source": [
        ""
      ],
      "execution_count": null,
      "outputs": []
    },
    {
      "cell_type": "code",
      "metadata": {
        "id": "VnHlDeCcU_oy",
        "colab_type": "code",
        "colab": {}
      },
      "source": [
        ""
      ],
      "execution_count": null,
      "outputs": []
    },
    {
      "cell_type": "code",
      "metadata": {
        "id": "TSYfPu6YU_m2",
        "colab_type": "code",
        "colab": {}
      },
      "source": [
        ""
      ],
      "execution_count": null,
      "outputs": []
    },
    {
      "cell_type": "code",
      "metadata": {
        "id": "y-KMc7D4U9Wd",
        "colab_type": "code",
        "colab": {}
      },
      "source": [
        "#########  텐서보드다른방법 #######\n",
        "\n",
        "!wget https://bin.equinox.io/c/4VmDzA7iaHb/ngrok-stable-linux-amd64.zip\n",
        "!unzip ngrok-stable-linux-amd64.zi\n",
        "\n",
        "\n",
        "LOG_DIR = './log'\n",
        "get_ipython().system_raw(\n",
        "    'tensorboard --logdir {} --host 0.0.0.0 --port 6006 &'\n",
        "    .format(LOG_DIR)\n",
        ")\n",
        "\n",
        "get_ipython().system_raw('./ngrok http 6006 &')\n",
        "\n",
        "\n",
        "\n",
        "! curl -s http://localhost:4040/api/tunnels | python3 -c \\\n",
        "    \"import sys, json; print(json.load(sys.stdin)['tunnels'][0]['public_url'])\"\n",
        "    \n",
        "    \n",
        "    \n",
        "    \n",
        "from keras.callbacks import TensorBoard\n",
        "tbCallBack = TensorBoard(log_dir='./log', histogram_freq=1,\n",
        "                         write_graph=True,\n",
        "                         write_grads=True,\n",
        "                        \n",
        "                         write_images=True)"
      ],
      "execution_count": null,
      "outputs": []
    },
    {
      "cell_type": "code",
      "metadata": {
        "id": "qcGUM2iqU9R3",
        "colab_type": "code",
        "colab": {
          "base_uri": "https://localhost:8080/",
          "height": 35
        },
        "outputId": "3005a1b4-f925-4fd0-f4ff-5a9d2b520bbe"
      },
      "source": [
        ""
      ],
      "execution_count": null,
      "outputs": [
        {
          "output_type": "stream",
          "text": [
            "https://eccc3ae9.ngrok.io\n"
          ],
          "name": "stdout"
        }
      ]
    },
    {
      "cell_type": "code",
      "metadata": {
        "id": "zLaYCs3LU9NE",
        "colab_type": "code",
        "colab": {}
      },
      "source": [
        ""
      ],
      "execution_count": null,
      "outputs": []
    },
    {
      "cell_type": "code",
      "metadata": {
        "id": "_kb3NKVXU5UI",
        "colab_type": "code",
        "colab": {}
      },
      "source": [
        ""
      ],
      "execution_count": null,
      "outputs": []
    },
    {
      "cell_type": "code",
      "metadata": {
        "id": "EFLM_x4FgaWN",
        "colab_type": "code",
        "colab": {}
      },
      "source": [
        ""
      ],
      "execution_count": null,
      "outputs": []
    },
    {
      "cell_type": "code",
      "metadata": {
        "id": "K99jDUR7JJH2",
        "colab_type": "code",
        "colab": {}
      },
      "source": [
        ""
      ],
      "execution_count": null,
      "outputs": []
    },
    {
      "cell_type": "code",
      "metadata": {
        "id": "O3CohVkHgaAI",
        "colab_type": "code",
        "colab": {
          "base_uri": "https://localhost:8080/",
          "height": 35
        },
        "outputId": "2b22d620-e954-4e60-f28a-88a26e0ab595"
      },
      "source": [
        ""
      ],
      "execution_count": null,
      "outputs": [
        {
          "output_type": "stream",
          "text": [
            "7939153.363395156 10974269.573569784\n"
          ],
          "name": "stdout"
        }
      ]
    },
    {
      "cell_type": "code",
      "metadata": {
        "id": "XyRz--m1-dsq",
        "colab_type": "code",
        "colab": {}
      },
      "source": [
        ""
      ],
      "execution_count": null,
      "outputs": []
    },
    {
      "cell_type": "code",
      "metadata": {
        "id": "KrtY7Xtd-nUr",
        "colab_type": "code",
        "colab": {}
      },
      "source": [
        ""
      ],
      "execution_count": null,
      "outputs": []
    },
    {
      "cell_type": "code",
      "metadata": {
        "id": "06_-lZQfRg3X",
        "colab_type": "code",
        "colab": {}
      },
      "source": [
        ""
      ],
      "execution_count": null,
      "outputs": []
    },
    {
      "cell_type": "code",
      "metadata": {
        "id": "53E6cAf9wo6C",
        "colab_type": "code",
        "colab": {}
      },
      "source": [
        ""
      ],
      "execution_count": null,
      "outputs": []
    },
    {
      "cell_type": "code",
      "metadata": {
        "id": "sjoRcE33Ad4W",
        "colab_type": "code",
        "colab": {}
      },
      "source": [
        "first_2019_index=pd.date_range(start='2016-11-07', end='2016-12-02')"
      ],
      "execution_count": null,
      "outputs": []
    },
    {
      "cell_type": "markdown",
      "metadata": {
        "id": "5mszZybR8zGx",
        "colab_type": "text"
      },
      "source": [
        ""
      ]
    },
    {
      "cell_type": "code",
      "metadata": {
        "id": "ljOjLGJg8zqR",
        "colab_type": "code",
        "colab": {}
      },
      "source": [
        "#올해에만 기록 있는 브랜드들\n",
        "recent_index=df[((df['2019-01-06']==0) &(df['2019-01-13']==0)) | ( (df['2019-06-30']==0) &(df['2019-07-07']==0) &(df['2019-07-14']==0)&(df['2019-07-21']==0))].index\n",
        "\n",
        "recent_df=df.loc[(df.index).difference(recent_index)]\n",
        "first_2019_1=pd.date_range(start='1/6/2019',end='23/6/2019', freq='W')\n",
        "\n",
        "recent_df=recent_df[first_2019_1]\n",
        "\n",
        "sum_2019_first=recent_df.sum(axis=1)\n",
        "gangnam_index=sum_2019_first.loc[\"강남점\"].index\n",
        "jamsil_index=sum_2019_first.loc[\"잠실점\"].index\n",
        "nowon_index=sum_2019_first.loc[\"노원점\"].index\n",
        "bonjum_index=sum_2019_first.loc[\"본점\"].index\n",
        "young_index=sum_2019_first.loc[\"영등포점\"].index\n",
        "pyungchon_index=sum_2019_first.loc[\"평촌점\"].index\n",
        "Ilsan_index=sum_2019_first.loc[\"일산점\"].index\n",
        "busan_index=sum_2019_first.loc[\"부산본점\"].index"
      ],
      "execution_count": null,
      "outputs": []
    },
    {
      "cell_type": "code",
      "metadata": {
        "id": "4980haxN_VQc",
        "colab_type": "code",
        "colab": {}
      },
      "source": [
        "sum_2019_first=recent_df.sum(axis=1)\n",
        "gangnam_index=sum_2019_first.loc[\"강남점\"].index\n",
        "jamsil_index=sum_2019_first.loc[\"잠실점\"].index\n",
        "nowon_index=sum_2019_first.loc[\"노원점\"].index\n",
        "bonjum_index=sum_2019_first.loc[\"본점\"].index\n",
        "young_index=sum_2019_first.loc[\"영등포점\"].index\n",
        "pyungchon_index=sum_2019_first.loc[\"평촌점\"].index\n",
        "Ilsan_index=sum_2019_first.loc[\"일산점\"].index\n",
        "busan_index=sum_2019_first.loc[\"부산본점\"].index"
      ],
      "execution_count": null,
      "outputs": []
    },
    {
      "cell_type": "code",
      "metadata": {
        "id": "m1aLanFlGSgL",
        "colab_type": "code",
        "colab": {
          "base_uri": "https://localhost:8080/",
          "height": 414
        },
        "outputId": "704e0102-de3b-4da5-d2ca-6cd197c45aba"
      },
      "source": [
        "area=pd.read_csv(\"./gdrive/My Drive/롯데백화점/평효율(일부선택지점만).csv\",encoding=\"ms949\").set_index([\"지점\",\"브랜드\"])"
      ],
      "execution_count": null,
      "outputs": [
        {
          "output_type": "error",
          "ename": "FileNotFoundError",
          "evalue": "ignored",
          "traceback": [
            "\u001b[0;31m---------------------------------------------------------------------------\u001b[0m",
            "\u001b[0;31mFileNotFoundError\u001b[0m                         Traceback (most recent call last)",
            "\u001b[0;32m<ipython-input-74-f08cd7e2080b>\u001b[0m in \u001b[0;36m<module>\u001b[0;34m()\u001b[0m\n\u001b[0;32m----> 1\u001b[0;31m \u001b[0marea\u001b[0m\u001b[0;34m=\u001b[0m\u001b[0mpd\u001b[0m\u001b[0;34m.\u001b[0m\u001b[0mread_csv\u001b[0m\u001b[0;34m(\u001b[0m\u001b[0;34m\"./gdrive/My Drive/롯데백화점/평효율(일부선택지점만).csv\"\u001b[0m\u001b[0;34m,\u001b[0m\u001b[0mencoding\u001b[0m\u001b[0;34m=\u001b[0m\u001b[0;34m\"ms949\"\u001b[0m\u001b[0;34m)\u001b[0m\u001b[0;34m.\u001b[0m\u001b[0mset_index\u001b[0m\u001b[0;34m(\u001b[0m\u001b[0;34m[\u001b[0m\u001b[0;34m\"지점\"\u001b[0m\u001b[0;34m,\u001b[0m\u001b[0;34m\"브랜드\"\u001b[0m\u001b[0;34m]\u001b[0m\u001b[0;34m)\u001b[0m\u001b[0;34m\u001b[0m\u001b[0;34m\u001b[0m\u001b[0m\n\u001b[0m",
            "\u001b[0;32m/usr/local/lib/python3.6/dist-packages/pandas/io/parsers.py\u001b[0m in \u001b[0;36mparser_f\u001b[0;34m(filepath_or_buffer, sep, delimiter, header, names, index_col, usecols, squeeze, prefix, mangle_dupe_cols, dtype, engine, converters, true_values, false_values, skipinitialspace, skiprows, skipfooter, nrows, na_values, keep_default_na, na_filter, verbose, skip_blank_lines, parse_dates, infer_datetime_format, keep_date_col, date_parser, dayfirst, iterator, chunksize, compression, thousands, decimal, lineterminator, quotechar, quoting, doublequote, escapechar, comment, encoding, dialect, tupleize_cols, error_bad_lines, warn_bad_lines, delim_whitespace, low_memory, memory_map, float_precision)\u001b[0m\n\u001b[1;32m    700\u001b[0m                     skip_blank_lines=skip_blank_lines)\n\u001b[1;32m    701\u001b[0m \u001b[0;34m\u001b[0m\u001b[0m\n\u001b[0;32m--> 702\u001b[0;31m         \u001b[0;32mreturn\u001b[0m \u001b[0m_read\u001b[0m\u001b[0;34m(\u001b[0m\u001b[0mfilepath_or_buffer\u001b[0m\u001b[0;34m,\u001b[0m \u001b[0mkwds\u001b[0m\u001b[0;34m)\u001b[0m\u001b[0;34m\u001b[0m\u001b[0;34m\u001b[0m\u001b[0m\n\u001b[0m\u001b[1;32m    703\u001b[0m \u001b[0;34m\u001b[0m\u001b[0m\n\u001b[1;32m    704\u001b[0m     \u001b[0mparser_f\u001b[0m\u001b[0;34m.\u001b[0m\u001b[0m__name__\u001b[0m \u001b[0;34m=\u001b[0m \u001b[0mname\u001b[0m\u001b[0;34m\u001b[0m\u001b[0;34m\u001b[0m\u001b[0m\n",
            "\u001b[0;32m/usr/local/lib/python3.6/dist-packages/pandas/io/parsers.py\u001b[0m in \u001b[0;36m_read\u001b[0;34m(filepath_or_buffer, kwds)\u001b[0m\n\u001b[1;32m    427\u001b[0m \u001b[0;34m\u001b[0m\u001b[0m\n\u001b[1;32m    428\u001b[0m     \u001b[0;31m# Create the parser.\u001b[0m\u001b[0;34m\u001b[0m\u001b[0;34m\u001b[0m\u001b[0;34m\u001b[0m\u001b[0m\n\u001b[0;32m--> 429\u001b[0;31m     \u001b[0mparser\u001b[0m \u001b[0;34m=\u001b[0m \u001b[0mTextFileReader\u001b[0m\u001b[0;34m(\u001b[0m\u001b[0mfilepath_or_buffer\u001b[0m\u001b[0;34m,\u001b[0m \u001b[0;34m**\u001b[0m\u001b[0mkwds\u001b[0m\u001b[0;34m)\u001b[0m\u001b[0;34m\u001b[0m\u001b[0;34m\u001b[0m\u001b[0m\n\u001b[0m\u001b[1;32m    430\u001b[0m \u001b[0;34m\u001b[0m\u001b[0m\n\u001b[1;32m    431\u001b[0m     \u001b[0;32mif\u001b[0m \u001b[0mchunksize\u001b[0m \u001b[0;32mor\u001b[0m \u001b[0miterator\u001b[0m\u001b[0;34m:\u001b[0m\u001b[0;34m\u001b[0m\u001b[0;34m\u001b[0m\u001b[0m\n",
            "\u001b[0;32m/usr/local/lib/python3.6/dist-packages/pandas/io/parsers.py\u001b[0m in \u001b[0;36m__init__\u001b[0;34m(self, f, engine, **kwds)\u001b[0m\n\u001b[1;32m    893\u001b[0m             \u001b[0mself\u001b[0m\u001b[0;34m.\u001b[0m\u001b[0moptions\u001b[0m\u001b[0;34m[\u001b[0m\u001b[0;34m'has_index_names'\u001b[0m\u001b[0;34m]\u001b[0m \u001b[0;34m=\u001b[0m \u001b[0mkwds\u001b[0m\u001b[0;34m[\u001b[0m\u001b[0;34m'has_index_names'\u001b[0m\u001b[0;34m]\u001b[0m\u001b[0;34m\u001b[0m\u001b[0;34m\u001b[0m\u001b[0m\n\u001b[1;32m    894\u001b[0m \u001b[0;34m\u001b[0m\u001b[0m\n\u001b[0;32m--> 895\u001b[0;31m         \u001b[0mself\u001b[0m\u001b[0;34m.\u001b[0m\u001b[0m_make_engine\u001b[0m\u001b[0;34m(\u001b[0m\u001b[0mself\u001b[0m\u001b[0;34m.\u001b[0m\u001b[0mengine\u001b[0m\u001b[0;34m)\u001b[0m\u001b[0;34m\u001b[0m\u001b[0;34m\u001b[0m\u001b[0m\n\u001b[0m\u001b[1;32m    896\u001b[0m \u001b[0;34m\u001b[0m\u001b[0m\n\u001b[1;32m    897\u001b[0m     \u001b[0;32mdef\u001b[0m \u001b[0mclose\u001b[0m\u001b[0;34m(\u001b[0m\u001b[0mself\u001b[0m\u001b[0;34m)\u001b[0m\u001b[0;34m:\u001b[0m\u001b[0;34m\u001b[0m\u001b[0;34m\u001b[0m\u001b[0m\n",
            "\u001b[0;32m/usr/local/lib/python3.6/dist-packages/pandas/io/parsers.py\u001b[0m in \u001b[0;36m_make_engine\u001b[0;34m(self, engine)\u001b[0m\n\u001b[1;32m   1120\u001b[0m     \u001b[0;32mdef\u001b[0m \u001b[0m_make_engine\u001b[0m\u001b[0;34m(\u001b[0m\u001b[0mself\u001b[0m\u001b[0;34m,\u001b[0m \u001b[0mengine\u001b[0m\u001b[0;34m=\u001b[0m\u001b[0;34m'c'\u001b[0m\u001b[0;34m)\u001b[0m\u001b[0;34m:\u001b[0m\u001b[0;34m\u001b[0m\u001b[0;34m\u001b[0m\u001b[0m\n\u001b[1;32m   1121\u001b[0m         \u001b[0;32mif\u001b[0m \u001b[0mengine\u001b[0m \u001b[0;34m==\u001b[0m \u001b[0;34m'c'\u001b[0m\u001b[0;34m:\u001b[0m\u001b[0;34m\u001b[0m\u001b[0;34m\u001b[0m\u001b[0m\n\u001b[0;32m-> 1122\u001b[0;31m             \u001b[0mself\u001b[0m\u001b[0;34m.\u001b[0m\u001b[0m_engine\u001b[0m \u001b[0;34m=\u001b[0m \u001b[0mCParserWrapper\u001b[0m\u001b[0;34m(\u001b[0m\u001b[0mself\u001b[0m\u001b[0;34m.\u001b[0m\u001b[0mf\u001b[0m\u001b[0;34m,\u001b[0m \u001b[0;34m**\u001b[0m\u001b[0mself\u001b[0m\u001b[0;34m.\u001b[0m\u001b[0moptions\u001b[0m\u001b[0;34m)\u001b[0m\u001b[0;34m\u001b[0m\u001b[0;34m\u001b[0m\u001b[0m\n\u001b[0m\u001b[1;32m   1123\u001b[0m         \u001b[0;32melse\u001b[0m\u001b[0;34m:\u001b[0m\u001b[0;34m\u001b[0m\u001b[0;34m\u001b[0m\u001b[0m\n\u001b[1;32m   1124\u001b[0m             \u001b[0;32mif\u001b[0m \u001b[0mengine\u001b[0m \u001b[0;34m==\u001b[0m \u001b[0;34m'python'\u001b[0m\u001b[0;34m:\u001b[0m\u001b[0;34m\u001b[0m\u001b[0;34m\u001b[0m\u001b[0m\n",
            "\u001b[0;32m/usr/local/lib/python3.6/dist-packages/pandas/io/parsers.py\u001b[0m in \u001b[0;36m__init__\u001b[0;34m(self, src, **kwds)\u001b[0m\n\u001b[1;32m   1851\u001b[0m         \u001b[0mkwds\u001b[0m\u001b[0;34m[\u001b[0m\u001b[0;34m'usecols'\u001b[0m\u001b[0;34m]\u001b[0m \u001b[0;34m=\u001b[0m \u001b[0mself\u001b[0m\u001b[0;34m.\u001b[0m\u001b[0musecols\u001b[0m\u001b[0;34m\u001b[0m\u001b[0;34m\u001b[0m\u001b[0m\n\u001b[1;32m   1852\u001b[0m \u001b[0;34m\u001b[0m\u001b[0m\n\u001b[0;32m-> 1853\u001b[0;31m         \u001b[0mself\u001b[0m\u001b[0;34m.\u001b[0m\u001b[0m_reader\u001b[0m \u001b[0;34m=\u001b[0m \u001b[0mparsers\u001b[0m\u001b[0;34m.\u001b[0m\u001b[0mTextReader\u001b[0m\u001b[0;34m(\u001b[0m\u001b[0msrc\u001b[0m\u001b[0;34m,\u001b[0m \u001b[0;34m**\u001b[0m\u001b[0mkwds\u001b[0m\u001b[0;34m)\u001b[0m\u001b[0;34m\u001b[0m\u001b[0;34m\u001b[0m\u001b[0m\n\u001b[0m\u001b[1;32m   1854\u001b[0m         \u001b[0mself\u001b[0m\u001b[0;34m.\u001b[0m\u001b[0munnamed_cols\u001b[0m \u001b[0;34m=\u001b[0m \u001b[0mself\u001b[0m\u001b[0;34m.\u001b[0m\u001b[0m_reader\u001b[0m\u001b[0;34m.\u001b[0m\u001b[0munnamed_cols\u001b[0m\u001b[0;34m\u001b[0m\u001b[0;34m\u001b[0m\u001b[0m\n\u001b[1;32m   1855\u001b[0m \u001b[0;34m\u001b[0m\u001b[0m\n",
            "\u001b[0;32mpandas/_libs/parsers.pyx\u001b[0m in \u001b[0;36mpandas._libs.parsers.TextReader.__cinit__\u001b[0;34m()\u001b[0m\n",
            "\u001b[0;32mpandas/_libs/parsers.pyx\u001b[0m in \u001b[0;36mpandas._libs.parsers.TextReader._setup_parser_source\u001b[0;34m()\u001b[0m\n",
            "\u001b[0;31mFileNotFoundError\u001b[0m: [Errno 2] File b'./gdrive/My Drive/\\xeb\\xa1\\xaf\\xeb\\x8d\\xb0\\xeb\\xb0\\xb1\\xed\\x99\\x94\\xec\\xa0\\x90/\\xed\\x8f\\x89\\xed\\x9a\\xa8\\xec\\x9c\\xa8(\\xec\\x9d\\xbc\\xeb\\xb6\\x80\\xec\\x84\\xa0\\xed\\x83\\x9d\\xec\\xa7\\x80\\xec\\xa0\\x90\\xeb\\xa7\\x8c).csv' does not exist: b'./gdrive/My Drive/\\xeb\\xa1\\xaf\\xeb\\x8d\\xb0\\xeb\\xb0\\xb1\\xed\\x99\\x94\\xec\\xa0\\x90/\\xed\\x8f\\x89\\xed\\x9a\\xa8\\xec\\x9c\\xa8(\\xec\\x9d\\xbc\\xeb\\xb6\\x80\\xec\\x84\\xa0\\xed\\x83\\x9d\\xec\\xa7\\x80\\xec\\xa0\\x90\\xeb\\xa7\\x8c).csv'"
          ]
        }
      ]
    },
    {
      "cell_type": "code",
      "metadata": {
        "id": "bSmGYLt_Nsxc",
        "colab_type": "code",
        "colab": {
          "base_uri": "https://localhost:8080/",
          "height": 1000
        },
        "outputId": "37f37437-322c-4013-9240-cde57952302b"
      },
      "source": [
        "area"
      ],
      "execution_count": null,
      "outputs": [
        {
          "output_type": "execute_result",
          "data": {
            "text/html": [
              "<div>\n",
              "<style scoped>\n",
              "    .dataframe tbody tr th:only-of-type {\n",
              "        vertical-align: middle;\n",
              "    }\n",
              "\n",
              "    .dataframe tbody tr th {\n",
              "        vertical-align: top;\n",
              "    }\n",
              "\n",
              "    .dataframe thead th {\n",
              "        text-align: right;\n",
              "    }\n",
              "</style>\n",
              "<table border=\"1\" class=\"dataframe\">\n",
              "  <thead>\n",
              "    <tr style=\"text-align: right;\">\n",
              "      <th></th>\n",
              "      <th>지점</th>\n",
              "      <th>브랜드</th>\n",
              "      <th>매출</th>\n",
              "      <th>평효율</th>\n",
              "      <th>면적</th>\n",
              "    </tr>\n",
              "  </thead>\n",
              "  <tbody>\n",
              "    <tr>\n",
              "      <th>0</th>\n",
              "      <td>본점</td>\n",
              "      <td>아이엠지 프리미엄</td>\n",
              "      <td>67,500,000</td>\n",
              "      <td>1,630,770</td>\n",
              "      <td>41.391498</td>\n",
              "    </tr>\n",
              "    <tr>\n",
              "      <th>1</th>\n",
              "      <td>NaN</td>\n",
              "      <td>클럽모나코(맨)</td>\n",
              "      <td>81,000,000</td>\n",
              "      <td>NaN</td>\n",
              "      <td>NaN</td>\n",
              "    </tr>\n",
              "    <tr>\n",
              "      <th>2</th>\n",
              "      <td>NaN</td>\n",
              "      <td>폴스미스</td>\n",
              "      <td>54,000,000</td>\n",
              "      <td>NaN</td>\n",
              "      <td>NaN</td>\n",
              "    </tr>\n",
              "    <tr>\n",
              "      <th>3</th>\n",
              "      <td>NaN</td>\n",
              "      <td>솔리드옴므</td>\n",
              "      <td>54,000,000</td>\n",
              "      <td>2,504,273</td>\n",
              "      <td>21.563147</td>\n",
              "    </tr>\n",
              "    <tr>\n",
              "      <th>4</th>\n",
              "      <td>NaN</td>\n",
              "      <td>타임옴므</td>\n",
              "      <td>54,000,000</td>\n",
              "      <td>1,220,283</td>\n",
              "      <td>44.252014</td>\n",
              "    </tr>\n",
              "    <tr>\n",
              "      <th>5</th>\n",
              "      <td>NaN</td>\n",
              "      <td>알레그리</td>\n",
              "      <td>27,000,000</td>\n",
              "      <td>1,796,320</td>\n",
              "      <td>15.030729</td>\n",
              "    </tr>\n",
              "    <tr>\n",
              "      <th>6</th>\n",
              "      <td>NaN</td>\n",
              "      <td>엠포리오아르마니</td>\n",
              "      <td>108,000,000</td>\n",
              "      <td>2,154,304</td>\n",
              "      <td>50.132200</td>\n",
              "    </tr>\n",
              "    <tr>\n",
              "      <th>7</th>\n",
              "      <td>NaN</td>\n",
              "      <td>조르지오아르마니멘즈</td>\n",
              "      <td>67,500,000</td>\n",
              "      <td>1,693,867</td>\n",
              "      <td>39.849642</td>\n",
              "    </tr>\n",
              "    <tr>\n",
              "      <th>8</th>\n",
              "      <td>NaN</td>\n",
              "      <td>캘빈클라인맨</td>\n",
              "      <td>81,000,000</td>\n",
              "      <td>3,403,773</td>\n",
              "      <td>23.797124</td>\n",
              "    </tr>\n",
              "    <tr>\n",
              "      <th>9</th>\n",
              "      <td>NaN</td>\n",
              "      <td>띠어리 맨</td>\n",
              "      <td>81,000,000</td>\n",
              "      <td>3,699,402</td>\n",
              "      <td>21.895433</td>\n",
              "    </tr>\n",
              "    <tr>\n",
              "      <th>10</th>\n",
              "      <td>NaN</td>\n",
              "      <td>시스템옴므</td>\n",
              "      <td>94,500,000</td>\n",
              "      <td>4,170,898</td>\n",
              "      <td>22.656994</td>\n",
              "    </tr>\n",
              "    <tr>\n",
              "      <th>11</th>\n",
              "      <td>NaN</td>\n",
              "      <td>스톤아일랜드</td>\n",
              "      <td>81,000,000</td>\n",
              "      <td>NaN</td>\n",
              "      <td>NaN</td>\n",
              "    </tr>\n",
              "    <tr>\n",
              "      <th>12</th>\n",
              "      <td>NaN</td>\n",
              "      <td>휴고보스</td>\n",
              "      <td>81,000,000</td>\n",
              "      <td>2,538,006</td>\n",
              "      <td>31.914815</td>\n",
              "    </tr>\n",
              "    <tr>\n",
              "      <th>13</th>\n",
              "      <td>NaN</td>\n",
              "      <td>에르메네질도 제냐</td>\n",
              "      <td>67,500,000</td>\n",
              "      <td>1,315,754</td>\n",
              "      <td>51.301384</td>\n",
              "    </tr>\n",
              "    <tr>\n",
              "      <th>14</th>\n",
              "      <td>NaN</td>\n",
              "      <td>디케이엔와이맨</td>\n",
              "      <td>54,000,000</td>\n",
              "      <td>1,896,897</td>\n",
              "      <td>28.467538</td>\n",
              "    </tr>\n",
              "    <tr>\n",
              "      <th>15</th>\n",
              "      <td>NaN</td>\n",
              "      <td>준지</td>\n",
              "      <td>81,000,000</td>\n",
              "      <td>3,124,743</td>\n",
              "      <td>25.922131</td>\n",
              "    </tr>\n",
              "    <tr>\n",
              "      <th>16</th>\n",
              "      <td>NaN</td>\n",
              "      <td>질스튜어트뉴욕</td>\n",
              "      <td>40,600,000</td>\n",
              "      <td>3,003,452</td>\n",
              "      <td>13.517781</td>\n",
              "    </tr>\n",
              "    <tr>\n",
              "      <th>17</th>\n",
              "      <td>NaN</td>\n",
              "      <td>슬로웨어</td>\n",
              "      <td>54,000,000</td>\n",
              "      <td>1,965,407</td>\n",
              "      <td>27.475222</td>\n",
              "    </tr>\n",
              "    <tr>\n",
              "      <th>18</th>\n",
              "      <td>NaN</td>\n",
              "      <td>건담베이스</td>\n",
              "      <td>129,600,000</td>\n",
              "      <td>NaN</td>\n",
              "      <td>NaN</td>\n",
              "    </tr>\n",
              "    <tr>\n",
              "      <th>19</th>\n",
              "      <td>NaN</td>\n",
              "      <td>수트서플라이</td>\n",
              "      <td>123,000,000</td>\n",
              "      <td>1,915,685</td>\n",
              "      <td>64.206802</td>\n",
              "    </tr>\n",
              "    <tr>\n",
              "      <th>20</th>\n",
              "      <td>NaN</td>\n",
              "      <td>닐바렛멘즈</td>\n",
              "      <td>40,500,000</td>\n",
              "      <td>1,635,730</td>\n",
              "      <td>24.759586</td>\n",
              "    </tr>\n",
              "    <tr>\n",
              "      <th>21</th>\n",
              "      <td>NaN</td>\n",
              "      <td>바버(맨)</td>\n",
              "      <td>40,500,000</td>\n",
              "      <td>NaN</td>\n",
              "      <td>NaN</td>\n",
              "    </tr>\n",
              "    <tr>\n",
              "      <th>22</th>\n",
              "      <td>NaN</td>\n",
              "      <td>아페쎄옴므</td>\n",
              "      <td>54,000,000</td>\n",
              "      <td>NaN</td>\n",
              "      <td>NaN</td>\n",
              "    </tr>\n",
              "    <tr>\n",
              "      <th>23</th>\n",
              "      <td>NaN</td>\n",
              "      <td>클럽모나코</td>\n",
              "      <td>50,550,000</td>\n",
              "      <td>4,957,438</td>\n",
              "      <td>10.196798</td>\n",
              "    </tr>\n",
              "    <tr>\n",
              "      <th>24</th>\n",
              "      <td>NaN</td>\n",
              "      <td>이로</td>\n",
              "      <td>16,850,000</td>\n",
              "      <td>0</td>\n",
              "      <td>NaN</td>\n",
              "    </tr>\n",
              "    <tr>\n",
              "      <th>25</th>\n",
              "      <td>NaN</td>\n",
              "      <td>끌로디피에로</td>\n",
              "      <td>33,700,000</td>\n",
              "      <td>2,784,630</td>\n",
              "      <td>12.102148</td>\n",
              "    </tr>\n",
              "    <tr>\n",
              "      <th>26</th>\n",
              "      <td>NaN</td>\n",
              "      <td>폴로랄프로렌</td>\n",
              "      <td>67,400,000</td>\n",
              "      <td>2,810,939</td>\n",
              "      <td>23.977757</td>\n",
              "    </tr>\n",
              "    <tr>\n",
              "      <th>27</th>\n",
              "      <td>NaN</td>\n",
              "      <td>아페쎄</td>\n",
              "      <td>16,850,000</td>\n",
              "      <td>3,819,333</td>\n",
              "      <td>4.411765</td>\n",
              "    </tr>\n",
              "    <tr>\n",
              "      <th>28</th>\n",
              "      <td>NaN</td>\n",
              "      <td>이자벨마랑</td>\n",
              "      <td>50,550,000</td>\n",
              "      <td>3,292,300</td>\n",
              "      <td>15.354010</td>\n",
              "    </tr>\n",
              "    <tr>\n",
              "      <th>29</th>\n",
              "      <td>NaN</td>\n",
              "      <td>바네사브루노</td>\n",
              "      <td>84,250,000</td>\n",
              "      <td>3,107,228</td>\n",
              "      <td>27.114204</td>\n",
              "    </tr>\n",
              "    <tr>\n",
              "      <th>...</th>\n",
              "      <td>...</td>\n",
              "      <td>...</td>\n",
              "      <td>...</td>\n",
              "      <td>...</td>\n",
              "      <td>...</td>\n",
              "    </tr>\n",
              "    <tr>\n",
              "      <th>237</th>\n",
              "      <td>NaN</td>\n",
              "      <td>이자벨마랑</td>\n",
              "      <td>16,285,700</td>\n",
              "      <td>NaN</td>\n",
              "      <td>NaN</td>\n",
              "    </tr>\n",
              "    <tr>\n",
              "      <th>238</th>\n",
              "      <td>NaN</td>\n",
              "      <td>[GF] 빔바이롤라</td>\n",
              "      <td>0</td>\n",
              "      <td>0</td>\n",
              "      <td>NaN</td>\n",
              "    </tr>\n",
              "    <tr>\n",
              "      <th>239</th>\n",
              "      <td>NaN</td>\n",
              "      <td>산드로</td>\n",
              "      <td>47,837,000</td>\n",
              "      <td>1,471,908</td>\n",
              "      <td>32.500000</td>\n",
              "    </tr>\n",
              "    <tr>\n",
              "      <th>240</th>\n",
              "      <td>NaN</td>\n",
              "      <td>띠어리</td>\n",
              "      <td>177,722,150</td>\n",
              "      <td>4,476,628</td>\n",
              "      <td>39.700000</td>\n",
              "    </tr>\n",
              "    <tr>\n",
              "      <th>241</th>\n",
              "      <td>NaN</td>\n",
              "      <td>꼼데가르송</td>\n",
              "      <td>87,474,500</td>\n",
              "      <td>14,108,790</td>\n",
              "      <td>6.200000</td>\n",
              "    </tr>\n",
              "    <tr>\n",
              "      <th>242</th>\n",
              "      <td>NaN</td>\n",
              "      <td>비이커</td>\n",
              "      <td>106,114,650</td>\n",
              "      <td>2,520,538</td>\n",
              "      <td>42.100000</td>\n",
              "    </tr>\n",
              "    <tr>\n",
              "      <th>243</th>\n",
              "      <td>NaN</td>\n",
              "      <td>베르니스</td>\n",
              "      <td>51,582,900</td>\n",
              "      <td>1,685,716</td>\n",
              "      <td>30.600000</td>\n",
              "    </tr>\n",
              "    <tr>\n",
              "      <th>244</th>\n",
              "      <td>NaN</td>\n",
              "      <td>자딕앤볼테르</td>\n",
              "      <td>31,341,000</td>\n",
              "      <td>1,034,356</td>\n",
              "      <td>30.300000</td>\n",
              "    </tr>\n",
              "    <tr>\n",
              "      <th>245</th>\n",
              "      <td>NaN</td>\n",
              "      <td>디케이엔와이</td>\n",
              "      <td>67,070,900</td>\n",
              "      <td>NaN</td>\n",
              "      <td>NaN</td>\n",
              "    </tr>\n",
              "    <tr>\n",
              "      <th>246</th>\n",
              "      <td>NaN</td>\n",
              "      <td>마쥬</td>\n",
              "      <td>51,597,000</td>\n",
              "      <td>1,499,913</td>\n",
              "      <td>34.400000</td>\n",
              "    </tr>\n",
              "    <tr>\n",
              "      <th>247</th>\n",
              "      <td>NaN</td>\n",
              "      <td>조셉</td>\n",
              "      <td>12,707,520</td>\n",
              "      <td>415,278</td>\n",
              "      <td>30.600000</td>\n",
              "    </tr>\n",
              "    <tr>\n",
              "      <th>248</th>\n",
              "      <td>NaN</td>\n",
              "      <td>질스튜어트</td>\n",
              "      <td>52,048,780</td>\n",
              "      <td>1,641,917</td>\n",
              "      <td>31.700000</td>\n",
              "    </tr>\n",
              "    <tr>\n",
              "      <th>249</th>\n",
              "      <td>NaN</td>\n",
              "      <td>[GF] 제라르다렐</td>\n",
              "      <td>0</td>\n",
              "      <td>0</td>\n",
              "      <td>NaN</td>\n",
              "    </tr>\n",
              "    <tr>\n",
              "      <th>250</th>\n",
              "      <td>NaN</td>\n",
              "      <td>제라르다렐_엔씨에프</td>\n",
              "      <td>3,142,880</td>\n",
              "      <td>NaN</td>\n",
              "      <td>NaN</td>\n",
              "    </tr>\n",
              "    <tr>\n",
              "      <th>251</th>\n",
              "      <td>NaN</td>\n",
              "      <td>빔바이롤라_엔씨에프</td>\n",
              "      <td>25,968,680</td>\n",
              "      <td>NaN</td>\n",
              "      <td>NaN</td>\n",
              "    </tr>\n",
              "    <tr>\n",
              "      <th>252</th>\n",
              "      <td>NaN</td>\n",
              "      <td>마닐라그레이스</td>\n",
              "      <td>NaN</td>\n",
              "      <td>NaN</td>\n",
              "      <td>NaN</td>\n",
              "    </tr>\n",
              "    <tr>\n",
              "      <th>253</th>\n",
              "      <td>광복점</td>\n",
              "      <td>타임옴므</td>\n",
              "      <td>30,000,000</td>\n",
              "      <td>578,213</td>\n",
              "      <td>51.884002</td>\n",
              "    </tr>\n",
              "    <tr>\n",
              "      <th>254</th>\n",
              "      <td>NaN</td>\n",
              "      <td>시스템옴므</td>\n",
              "      <td>32,000,000</td>\n",
              "      <td>872,866</td>\n",
              "      <td>36.660835</td>\n",
              "    </tr>\n",
              "    <tr>\n",
              "      <th>255</th>\n",
              "      <td>NaN</td>\n",
              "      <td>스톤아일랜드</td>\n",
              "      <td>30,000,000</td>\n",
              "      <td>1,806,473</td>\n",
              "      <td>16.606942</td>\n",
              "    </tr>\n",
              "    <tr>\n",
              "      <th>256</th>\n",
              "      <td>NaN</td>\n",
              "      <td>씨피 컴퍼니</td>\n",
              "      <td>15,000,000</td>\n",
              "      <td>556,062</td>\n",
              "      <td>26.975429</td>\n",
              "    </tr>\n",
              "    <tr>\n",
              "      <th>257</th>\n",
              "      <td>NaN</td>\n",
              "      <td>질스튜어트뉴욕</td>\n",
              "      <td>17,000,000</td>\n",
              "      <td>764,439</td>\n",
              "      <td>22.238533</td>\n",
              "    </tr>\n",
              "    <tr>\n",
              "      <th>258</th>\n",
              "      <td>NaN</td>\n",
              "      <td>나우</td>\n",
              "      <td>20,000,000</td>\n",
              "      <td>629,422</td>\n",
              "      <td>31.775200</td>\n",
              "    </tr>\n",
              "    <tr>\n",
              "      <th>259</th>\n",
              "      <td>NaN</td>\n",
              "      <td>타미야(남성)</td>\n",
              "      <td>40,000,000</td>\n",
              "      <td>NaN</td>\n",
              "      <td>NaN</td>\n",
              "    </tr>\n",
              "    <tr>\n",
              "      <th>260</th>\n",
              "      <td>NaN</td>\n",
              "      <td>클럽모나코</td>\n",
              "      <td>31,472,200</td>\n",
              "      <td>1,210,469</td>\n",
              "      <td>26.000000</td>\n",
              "    </tr>\n",
              "    <tr>\n",
              "      <th>261</th>\n",
              "      <td>NaN</td>\n",
              "      <td>폴로랄프로렌</td>\n",
              "      <td>24,753,700</td>\n",
              "      <td>856,529</td>\n",
              "      <td>28.900000</td>\n",
              "    </tr>\n",
              "    <tr>\n",
              "      <th>262</th>\n",
              "      <td>NaN</td>\n",
              "      <td>산드로</td>\n",
              "      <td>21,908,400</td>\n",
              "      <td>489,027</td>\n",
              "      <td>44.800000</td>\n",
              "    </tr>\n",
              "    <tr>\n",
              "      <th>263</th>\n",
              "      <td>NaN</td>\n",
              "      <td>띠어리</td>\n",
              "      <td>55,020,300</td>\n",
              "      <td>1,136,783</td>\n",
              "      <td>48.400000</td>\n",
              "    </tr>\n",
              "    <tr>\n",
              "      <th>264</th>\n",
              "      <td>NaN</td>\n",
              "      <td>자딕앤볼테르</td>\n",
              "      <td>15,462,700</td>\n",
              "      <td>594,719</td>\n",
              "      <td>26.000000</td>\n",
              "    </tr>\n",
              "    <tr>\n",
              "      <th>265</th>\n",
              "      <td>NaN</td>\n",
              "      <td>디케이엔와이</td>\n",
              "      <td>14,757,300</td>\n",
              "      <td>459,729</td>\n",
              "      <td>32.100000</td>\n",
              "    </tr>\n",
              "    <tr>\n",
              "      <th>266</th>\n",
              "      <td>NaN</td>\n",
              "      <td>미션제이엔비와이</td>\n",
              "      <td>0</td>\n",
              "      <td>0</td>\n",
              "      <td>NaN</td>\n",
              "    </tr>\n",
              "  </tbody>\n",
              "</table>\n",
              "<p>267 rows × 5 columns</p>\n",
              "</div>"
            ],
            "text/plain": [
              "      지점         브랜드           매출         평효율         면적\n",
              "0     본점   아이엠지 프리미엄   67,500,000   1,630,770  41.391498\n",
              "1    NaN    클럽모나코(맨)   81,000,000         NaN        NaN\n",
              "2    NaN        폴스미스   54,000,000         NaN        NaN\n",
              "3    NaN       솔리드옴므   54,000,000   2,504,273  21.563147\n",
              "4    NaN        타임옴므   54,000,000   1,220,283  44.252014\n",
              "5    NaN        알레그리   27,000,000   1,796,320  15.030729\n",
              "6    NaN    엠포리오아르마니  108,000,000   2,154,304  50.132200\n",
              "7    NaN  조르지오아르마니멘즈   67,500,000   1,693,867  39.849642\n",
              "8    NaN      캘빈클라인맨   81,000,000   3,403,773  23.797124\n",
              "9    NaN       띠어리 맨   81,000,000   3,699,402  21.895433\n",
              "10   NaN       시스템옴므   94,500,000   4,170,898  22.656994\n",
              "11   NaN      스톤아일랜드   81,000,000         NaN        NaN\n",
              "12   NaN        휴고보스   81,000,000   2,538,006  31.914815\n",
              "13   NaN   에르메네질도 제냐   67,500,000   1,315,754  51.301384\n",
              "14   NaN     디케이엔와이맨   54,000,000   1,896,897  28.467538\n",
              "15   NaN          준지   81,000,000   3,124,743  25.922131\n",
              "16   NaN     질스튜어트뉴욕   40,600,000   3,003,452  13.517781\n",
              "17   NaN        슬로웨어   54,000,000   1,965,407  27.475222\n",
              "18   NaN       건담베이스  129,600,000         NaN        NaN\n",
              "19   NaN      수트서플라이  123,000,000   1,915,685  64.206802\n",
              "20   NaN       닐바렛멘즈   40,500,000   1,635,730  24.759586\n",
              "21   NaN       바버(맨)   40,500,000         NaN        NaN\n",
              "22   NaN       아페쎄옴므   54,000,000         NaN        NaN\n",
              "23   NaN       클럽모나코   50,550,000   4,957,438  10.196798\n",
              "24   NaN          이로   16,850,000           0        NaN\n",
              "25   NaN      끌로디피에로   33,700,000   2,784,630  12.102148\n",
              "26   NaN      폴로랄프로렌   67,400,000   2,810,939  23.977757\n",
              "27   NaN         아페쎄   16,850,000   3,819,333   4.411765\n",
              "28   NaN       이자벨마랑   50,550,000   3,292,300  15.354010\n",
              "29   NaN      바네사브루노   84,250,000   3,107,228  27.114204\n",
              "..   ...         ...          ...         ...        ...\n",
              "237  NaN       이자벨마랑   16,285,700         NaN        NaN\n",
              "238  NaN  [GF] 빔바이롤라            0           0        NaN\n",
              "239  NaN         산드로   47,837,000   1,471,908  32.500000\n",
              "240  NaN         띠어리  177,722,150   4,476,628  39.700000\n",
              "241  NaN       꼼데가르송   87,474,500  14,108,790   6.200000\n",
              "242  NaN         비이커  106,114,650   2,520,538  42.100000\n",
              "243  NaN        베르니스   51,582,900   1,685,716  30.600000\n",
              "244  NaN      자딕앤볼테르   31,341,000   1,034,356  30.300000\n",
              "245  NaN      디케이엔와이   67,070,900         NaN        NaN\n",
              "246  NaN          마쥬   51,597,000   1,499,913  34.400000\n",
              "247  NaN          조셉   12,707,520     415,278  30.600000\n",
              "248  NaN       질스튜어트   52,048,780   1,641,917  31.700000\n",
              "249  NaN  [GF] 제라르다렐            0           0        NaN\n",
              "250  NaN  제라르다렐_엔씨에프    3,142,880         NaN        NaN\n",
              "251  NaN  빔바이롤라_엔씨에프   25,968,680         NaN        NaN\n",
              "252  NaN     마닐라그레이스          NaN         NaN        NaN\n",
              "253  광복점        타임옴므   30,000,000     578,213  51.884002\n",
              "254  NaN       시스템옴므   32,000,000     872,866  36.660835\n",
              "255  NaN      스톤아일랜드   30,000,000   1,806,473  16.606942\n",
              "256  NaN      씨피 컴퍼니   15,000,000     556,062  26.975429\n",
              "257  NaN     질스튜어트뉴욕   17,000,000     764,439  22.238533\n",
              "258  NaN          나우   20,000,000     629,422  31.775200\n",
              "259  NaN     타미야(남성)   40,000,000         NaN        NaN\n",
              "260  NaN       클럽모나코   31,472,200   1,210,469  26.000000\n",
              "261  NaN      폴로랄프로렌   24,753,700     856,529  28.900000\n",
              "262  NaN         산드로   21,908,400     489,027  44.800000\n",
              "263  NaN         띠어리   55,020,300   1,136,783  48.400000\n",
              "264  NaN      자딕앤볼테르   15,462,700     594,719  26.000000\n",
              "265  NaN      디케이엔와이   14,757,300     459,729  32.100000\n",
              "266  NaN    미션제이엔비와이            0           0        NaN\n",
              "\n",
              "[267 rows x 5 columns]"
            ]
          },
          "metadata": {
            "tags": []
          },
          "execution_count": 65
        }
      ]
    },
    {
      "cell_type": "code",
      "metadata": {
        "id": "LzVYS7LsDkop",
        "colab_type": "code",
        "colab": {}
      },
      "source": [
        "# 본점과 노원점에 공통으로 있는 브랜드의 2019년 매출 비율\n",
        "A=[]\n",
        "for i in (set(gangnam_index) & set(jamsil_index)):\n",
        " \n",
        "  A.append(i)\n",
        "  A.append(recent_df.loc[(\"강남점\",i)].sum()/recent_df.loc[(\"잠실점\",i)].sum())\n",
        "  "
      ],
      "execution_count": null,
      "outputs": []
    },
    {
      "cell_type": "code",
      "metadata": {
        "id": "FpsnTdQnWMhn",
        "colab_type": "code",
        "colab": {
          "base_uri": "https://localhost:8080/",
          "height": 269
        },
        "outputId": "4119f5fb-4520-496b-8923-bde3370b6326"
      },
      "source": [
        "A\n"
      ],
      "execution_count": null,
      "outputs": [
        {
          "output_type": "execute_result",
          "data": {
            "text/plain": [
              "['바네사브루노',\n",
              " 0.5504333934837751,\n",
              " '클럽모나코(맨)',\n",
              " 0.437239789793961,\n",
              " '시스템옴므',\n",
              " 0.34533731734848383,\n",
              " '질스튜어트',\n",
              " 2.3428163176736723,\n",
              " '클럽모나코',\n",
              " 0.70998141923368,\n",
              " '제라르다렐_엔씨에프',\n",
              " 1.4110219618169948,\n",
              " '빔바이롤라_엔씨에프',\n",
              " 1.041651513521478]"
            ]
          },
          "metadata": {
            "tags": []
          },
          "execution_count": 60
        }
      ]
    },
    {
      "cell_type": "code",
      "metadata": {
        "id": "deDEIYazG4-j",
        "colab_type": "code",
        "colab": {
          "base_uri": "https://localhost:8080/",
          "height": 35
        },
        "outputId": "b60f82ed-bebe-4221-baf4-93095a516bf6"
      },
      "source": [
        "recent_df.loc[(\"평촌점\",\"시스템옴므\")].sum()"
      ],
      "execution_count": null,
      "outputs": [
        {
          "output_type": "execute_result",
          "data": {
            "text/plain": [
              "299351760.0"
            ]
          },
          "metadata": {
            "tags": []
          },
          "execution_count": 142
        }
      ]
    },
    {
      "cell_type": "code",
      "metadata": {
        "id": "RIPGEcDVHJDd",
        "colab_type": "code",
        "colab": {
          "base_uri": "https://localhost:8080/",
          "height": 35
        },
        "outputId": "3c3982c7-b3bd-4746-ba00-3847ec595965"
      },
      "source": [
        "recent_df.loc[(\"잠실점\",\"시스템옴므\")].sum()"
      ],
      "execution_count": null,
      "outputs": [
        {
          "output_type": "execute_result",
          "data": {
            "text/plain": [
              "107948050.0"
            ]
          },
          "metadata": {
            "tags": []
          },
          "execution_count": 143
        }
      ]
    },
    {
      "cell_type": "code",
      "metadata": {
        "id": "9x2haHyqEms0",
        "colab_type": "code",
        "colab": {
          "base_uri": "https://localhost:8080/",
          "height": 136
        },
        "outputId": "cecebdaf-b7f8-4f8e-b659-30ebc19f81d7"
      },
      "source": [
        ""
      ],
      "execution_count": null,
      "outputs": [
        {
          "output_type": "error",
          "ename": "SyntaxError",
          "evalue": "ignored",
          "traceback": [
            "\u001b[0;36m  File \u001b[0;32m\"<ipython-input-86-42fb713757e1>\"\u001b[0;36m, line \u001b[0;32m1\u001b[0m\n\u001b[0;31m    (set(nowon_index) & set(bonjum_index)\u001b[0m\n\u001b[0m                                         ^\u001b[0m\n\u001b[0;31mSyntaxError\u001b[0m\u001b[0;31m:\u001b[0m unexpected EOF while parsing\n"
          ]
        }
      ]
    },
    {
      "cell_type": "code",
      "metadata": {
        "id": "Y8lZPc3AWwNd",
        "colab_type": "code",
        "colab": {
          "base_uri": "https://localhost:8080/",
          "height": 845
        },
        "outputId": "4050eeac-7175-4275-a9e8-10167e97b44b"
      },
      "source": [
        "new_df[pd.date_range(start='2016-11-07', end='2016-12-02')].sum(axis=1)"
      ],
      "execution_count": null,
      "outputs": [
        {
          "output_type": "execute_result",
          "data": {
            "text/plain": [
              "point  brand    \n",
              "강남점    바네사브루노        73665290.0\n",
              "       질스튜어트        218371320.0\n",
              "       폴로랄프로렌       113032400.0\n",
              "건대스타점  폴로랄프로렌        53876390.0\n",
              "광복점    자딕앤볼테르       113554480.0\n",
              "       타임옴므          97965820.0\n",
              "노원점    솔리드옴므         65474390.0\n",
              "       시스템옴므        105852010.0\n",
              "       질스튜어트        154790360.0\n",
              "       폴로랄프로렌       148288730.0\n",
              "본점     바네사브루노       223869060.0\n",
              "       산드로          246315410.0\n",
              "       솔리드옴므        191296850.0\n",
              "       시스템옴므        283475820.0\n",
              "       에르메네질도 제냐    178339410.0\n",
              "       엠포리오아르마니     126734440.0\n",
              "       이자벨마랑        243435690.0\n",
              "       자딕앤볼테르       241682100.0\n",
              "       질스튜어트        162413570.0\n",
              "       타임옴므         209748450.0\n",
              "       폴로랄프로렌       174852590.0\n",
              "부산본점   라움           116773030.0\n",
              "       산드로          118165180.0\n",
              "       에르메네질도 제냐    164720400.0\n",
              "       질스튜어트        193355550.0\n",
              "       질스튜어트뉴욕      124547850.0\n",
              "       타임옴므         427612050.0\n",
              "       폴로랄프로렌       164333000.0\n",
              "분당점    폴로랄프로렌       131078700.0\n",
              "영등포점   시스템옴므         78890370.0\n",
              "       질스튜어트         26875370.0\n",
              "일산점    솔리드옴므         55011220.0\n",
              "       폴로랄프로렌       275599390.0\n",
              "잠실점    마쥬           161524220.0\n",
              "       바네사브루노       139905580.0\n",
              "       솔리드옴므        191617240.0\n",
              "       시스템옴므        118106740.0\n",
              "       자딕앤볼테르       217381350.0\n",
              "       질스튜어트        102465340.0\n",
              "       타임옴므         217643380.0\n",
              "창원점    자딕앤볼테르       151244140.0\n",
              "       폴로랄프로렌       133980820.0\n",
              "평촌점    시스템옴므        345373410.0\n",
              "       폴로랄프로렌       233932570.0\n",
              "dtype: float64"
            ]
          },
          "metadata": {
            "tags": []
          },
          "execution_count": 57
        }
      ]
    },
    {
      "cell_type": "code",
      "metadata": {
        "id": "9rmxUxs0MJXq",
        "colab_type": "code",
        "colab": {
          "base_uri": "https://localhost:8080/",
          "height": 448
        },
        "outputId": "d5ede38c-ad71-4cf2-ad8f-d81a815f800c"
      },
      "source": [
        "from scipy.stats import rankdata\n",
        "\n",
        "Prediction=pd.DataFrame(val_pred,index=new_df.index,columns=[\"2019-06-30\",\"2019-07-07\",\"2019-07-14\",\"2019-07-21\"])\n",
        "Prediction[\"2019-07\"]=monthly_pred\n",
        "Prediction[\"Predicted_Rank\"]=45-rankdata(Prediction[\"2019-07\"])\n",
        "Prediction[\"2018-07\"]=last_june\n",
        "Prediction[\"LastYear_Rank\"]=45-rankdata(Prediction[\"2018-07\"])\n",
        "\n",
        "\n",
        "Actual=pd.DataFrame(Yval,index=new_df.index,columns=[\"2019-06-30\",\"2019-07-07\",\"2019-07-14\",\"2019-07-21\"])\n",
        "Actual[\"2019-07\"]=monthly_val\n",
        "Actual[\"Actual_Rank\"]=45-rankdata(Actual[\"2019-07\"])\n"
      ],
      "execution_count": null,
      "outputs": [
        {
          "output_type": "error",
          "ename": "ValueError",
          "evalue": "ignored",
          "traceback": [
            "\u001b[0;31m---------------------------------------------------------------------------\u001b[0m",
            "\u001b[0;31mValueError\u001b[0m                                Traceback (most recent call last)",
            "\u001b[0;32m/usr/local/lib/python3.6/dist-packages/pandas/core/internals/managers.py\u001b[0m in \u001b[0;36mcreate_block_manager_from_blocks\u001b[0;34m(blocks, axes)\u001b[0m\n\u001b[1;32m   1650\u001b[0m                 blocks = [make_block(values=blocks[0],\n\u001b[0;32m-> 1651\u001b[0;31m                                      placement=slice(0, len(axes[0])))]\n\u001b[0m\u001b[1;32m   1652\u001b[0m \u001b[0;34m\u001b[0m\u001b[0m\n",
            "\u001b[0;32m/usr/local/lib/python3.6/dist-packages/pandas/core/internals/blocks.py\u001b[0m in \u001b[0;36mmake_block\u001b[0;34m(values, placement, klass, ndim, dtype, fastpath)\u001b[0m\n\u001b[1;32m   3094\u001b[0m \u001b[0;34m\u001b[0m\u001b[0m\n\u001b[0;32m-> 3095\u001b[0;31m     \u001b[0;32mreturn\u001b[0m \u001b[0mklass\u001b[0m\u001b[0;34m(\u001b[0m\u001b[0mvalues\u001b[0m\u001b[0;34m,\u001b[0m \u001b[0mndim\u001b[0m\u001b[0;34m=\u001b[0m\u001b[0mndim\u001b[0m\u001b[0;34m,\u001b[0m \u001b[0mplacement\u001b[0m\u001b[0;34m=\u001b[0m\u001b[0mplacement\u001b[0m\u001b[0;34m)\u001b[0m\u001b[0;34m\u001b[0m\u001b[0;34m\u001b[0m\u001b[0m\n\u001b[0m\u001b[1;32m   3096\u001b[0m \u001b[0;34m\u001b[0m\u001b[0m\n",
            "\u001b[0;32m/usr/local/lib/python3.6/dist-packages/pandas/core/internals/blocks.py\u001b[0m in \u001b[0;36m__init__\u001b[0;34m(self, values, placement, ndim)\u001b[0m\n\u001b[1;32m     86\u001b[0m                 \u001b[0;34m'Wrong number of items passed {val}, placement implies '\u001b[0m\u001b[0;34m\u001b[0m\u001b[0;34m\u001b[0m\u001b[0m\n\u001b[0;32m---> 87\u001b[0;31m                 '{mgr}'.format(val=len(self.values), mgr=len(self.mgr_locs)))\n\u001b[0m\u001b[1;32m     88\u001b[0m \u001b[0;34m\u001b[0m\u001b[0m\n",
            "\u001b[0;31mValueError\u001b[0m: Wrong number of items passed 4, placement implies 8",
            "\nDuring handling of the above exception, another exception occurred:\n",
            "\u001b[0;31mValueError\u001b[0m                                Traceback (most recent call last)",
            "\u001b[0;32m<ipython-input-45-0b99580defe3>\u001b[0m in \u001b[0;36m<module>\u001b[0;34m()\u001b[0m\n\u001b[1;32m      8\u001b[0m \u001b[0;34m\u001b[0m\u001b[0m\n\u001b[1;32m      9\u001b[0m \u001b[0;34m\u001b[0m\u001b[0m\n\u001b[0;32m---> 10\u001b[0;31m \u001b[0mActual\u001b[0m\u001b[0;34m=\u001b[0m\u001b[0mpd\u001b[0m\u001b[0;34m.\u001b[0m\u001b[0mDataFrame\u001b[0m\u001b[0;34m(\u001b[0m\u001b[0mYval\u001b[0m\u001b[0;34m,\u001b[0m\u001b[0mindex\u001b[0m\u001b[0;34m=\u001b[0m\u001b[0mnew_df\u001b[0m\u001b[0;34m.\u001b[0m\u001b[0mindex\u001b[0m\u001b[0;34m,\u001b[0m\u001b[0mcolumns\u001b[0m\u001b[0;34m=\u001b[0m\u001b[0;34m[\u001b[0m\u001b[0;34m\"2019-06-02\"\u001b[0m\u001b[0;34m,\u001b[0m\u001b[0;34m\"2019-06-09\"\u001b[0m\u001b[0;34m,\u001b[0m\u001b[0;34m\"2019-06-16\"\u001b[0m\u001b[0;34m,\u001b[0m\u001b[0;34m\"2019-06-23\"\u001b[0m\u001b[0;34m,\u001b[0m\u001b[0;34m\"2019-06-30\"\u001b[0m\u001b[0;34m,\u001b[0m\u001b[0;34m\"2019-07-07\"\u001b[0m\u001b[0;34m,\u001b[0m\u001b[0;34m\"2019-07-14\"\u001b[0m\u001b[0;34m,\u001b[0m\u001b[0;34m\"2019-07-21\"\u001b[0m\u001b[0;34m]\u001b[0m\u001b[0;34m)\u001b[0m\u001b[0;34m\u001b[0m\u001b[0;34m\u001b[0m\u001b[0m\n\u001b[0m\u001b[1;32m     11\u001b[0m \u001b[0mActual\u001b[0m\u001b[0;34m[\u001b[0m\u001b[0;34m\"2019-07\"\u001b[0m\u001b[0;34m]\u001b[0m\u001b[0;34m=\u001b[0m\u001b[0mmonthly_val\u001b[0m\u001b[0;34m\u001b[0m\u001b[0;34m\u001b[0m\u001b[0m\n\u001b[1;32m     12\u001b[0m \u001b[0mActual\u001b[0m\u001b[0;34m[\u001b[0m\u001b[0;34m\"Actual_Rank\"\u001b[0m\u001b[0;34m]\u001b[0m\u001b[0;34m=\u001b[0m\u001b[0;36m45\u001b[0m\u001b[0;34m-\u001b[0m\u001b[0mrankdata\u001b[0m\u001b[0;34m(\u001b[0m\u001b[0mActual\u001b[0m\u001b[0;34m[\u001b[0m\u001b[0;34m\"2019-07\"\u001b[0m\u001b[0;34m]\u001b[0m\u001b[0;34m)\u001b[0m\u001b[0;34m\u001b[0m\u001b[0;34m\u001b[0m\u001b[0m\n",
            "\u001b[0;32m/usr/local/lib/python3.6/dist-packages/pandas/core/frame.py\u001b[0m in \u001b[0;36m__init__\u001b[0;34m(self, data, index, columns, dtype, copy)\u001b[0m\n\u001b[1;32m    422\u001b[0m             \u001b[0;32melse\u001b[0m\u001b[0;34m:\u001b[0m\u001b[0;34m\u001b[0m\u001b[0;34m\u001b[0m\u001b[0m\n\u001b[1;32m    423\u001b[0m                 mgr = init_ndarray(data, index, columns, dtype=dtype,\n\u001b[0;32m--> 424\u001b[0;31m                                    copy=copy)\n\u001b[0m\u001b[1;32m    425\u001b[0m \u001b[0;34m\u001b[0m\u001b[0m\n\u001b[1;32m    426\u001b[0m         \u001b[0;31m# For data is list-like, or Iterable (will consume into list)\u001b[0m\u001b[0;34m\u001b[0m\u001b[0;34m\u001b[0m\u001b[0;34m\u001b[0m\u001b[0m\n",
            "\u001b[0;32m/usr/local/lib/python3.6/dist-packages/pandas/core/internals/construction.py\u001b[0m in \u001b[0;36minit_ndarray\u001b[0;34m(values, index, columns, dtype, copy)\u001b[0m\n\u001b[1;32m    165\u001b[0m         \u001b[0mvalues\u001b[0m \u001b[0;34m=\u001b[0m \u001b[0mmaybe_infer_to_datetimelike\u001b[0m\u001b[0;34m(\u001b[0m\u001b[0mvalues\u001b[0m\u001b[0;34m)\u001b[0m\u001b[0;34m\u001b[0m\u001b[0;34m\u001b[0m\u001b[0m\n\u001b[1;32m    166\u001b[0m \u001b[0;34m\u001b[0m\u001b[0m\n\u001b[0;32m--> 167\u001b[0;31m     \u001b[0;32mreturn\u001b[0m \u001b[0mcreate_block_manager_from_blocks\u001b[0m\u001b[0;34m(\u001b[0m\u001b[0;34m[\u001b[0m\u001b[0mvalues\u001b[0m\u001b[0;34m]\u001b[0m\u001b[0;34m,\u001b[0m \u001b[0;34m[\u001b[0m\u001b[0mcolumns\u001b[0m\u001b[0;34m,\u001b[0m \u001b[0mindex\u001b[0m\u001b[0;34m]\u001b[0m\u001b[0;34m)\u001b[0m\u001b[0;34m\u001b[0m\u001b[0;34m\u001b[0m\u001b[0m\n\u001b[0m\u001b[1;32m    168\u001b[0m \u001b[0;34m\u001b[0m\u001b[0m\n\u001b[1;32m    169\u001b[0m \u001b[0;34m\u001b[0m\u001b[0m\n",
            "\u001b[0;32m/usr/local/lib/python3.6/dist-packages/pandas/core/internals/managers.py\u001b[0m in \u001b[0;36mcreate_block_manager_from_blocks\u001b[0;34m(blocks, axes)\u001b[0m\n\u001b[1;32m   1658\u001b[0m         \u001b[0mblocks\u001b[0m \u001b[0;34m=\u001b[0m \u001b[0;34m[\u001b[0m\u001b[0mgetattr\u001b[0m\u001b[0;34m(\u001b[0m\u001b[0mb\u001b[0m\u001b[0;34m,\u001b[0m \u001b[0;34m'values'\u001b[0m\u001b[0;34m,\u001b[0m \u001b[0mb\u001b[0m\u001b[0;34m)\u001b[0m \u001b[0;32mfor\u001b[0m \u001b[0mb\u001b[0m \u001b[0;32min\u001b[0m \u001b[0mblocks\u001b[0m\u001b[0;34m]\u001b[0m\u001b[0;34m\u001b[0m\u001b[0;34m\u001b[0m\u001b[0m\n\u001b[1;32m   1659\u001b[0m         \u001b[0mtot_items\u001b[0m \u001b[0;34m=\u001b[0m \u001b[0msum\u001b[0m\u001b[0;34m(\u001b[0m\u001b[0mb\u001b[0m\u001b[0;34m.\u001b[0m\u001b[0mshape\u001b[0m\u001b[0;34m[\u001b[0m\u001b[0;36m0\u001b[0m\u001b[0;34m]\u001b[0m \u001b[0;32mfor\u001b[0m \u001b[0mb\u001b[0m \u001b[0;32min\u001b[0m \u001b[0mblocks\u001b[0m\u001b[0;34m)\u001b[0m\u001b[0;34m\u001b[0m\u001b[0;34m\u001b[0m\u001b[0m\n\u001b[0;32m-> 1660\u001b[0;31m         \u001b[0mconstruction_error\u001b[0m\u001b[0;34m(\u001b[0m\u001b[0mtot_items\u001b[0m\u001b[0;34m,\u001b[0m \u001b[0mblocks\u001b[0m\u001b[0;34m[\u001b[0m\u001b[0;36m0\u001b[0m\u001b[0;34m]\u001b[0m\u001b[0;34m.\u001b[0m\u001b[0mshape\u001b[0m\u001b[0;34m[\u001b[0m\u001b[0;36m1\u001b[0m\u001b[0;34m:\u001b[0m\u001b[0;34m]\u001b[0m\u001b[0;34m,\u001b[0m \u001b[0maxes\u001b[0m\u001b[0;34m,\u001b[0m \u001b[0me\u001b[0m\u001b[0;34m)\u001b[0m\u001b[0;34m\u001b[0m\u001b[0;34m\u001b[0m\u001b[0m\n\u001b[0m\u001b[1;32m   1661\u001b[0m \u001b[0;34m\u001b[0m\u001b[0m\n\u001b[1;32m   1662\u001b[0m \u001b[0;34m\u001b[0m\u001b[0m\n",
            "\u001b[0;32m/usr/local/lib/python3.6/dist-packages/pandas/core/internals/managers.py\u001b[0m in \u001b[0;36mconstruction_error\u001b[0;34m(tot_items, block_shape, axes, e)\u001b[0m\n\u001b[1;32m   1689\u001b[0m         \u001b[0;32mraise\u001b[0m \u001b[0mValueError\u001b[0m\u001b[0;34m(\u001b[0m\u001b[0;34m\"Empty data passed with indices specified.\"\u001b[0m\u001b[0;34m)\u001b[0m\u001b[0;34m\u001b[0m\u001b[0;34m\u001b[0m\u001b[0m\n\u001b[1;32m   1690\u001b[0m     raise ValueError(\"Shape of passed values is {0}, indices imply {1}\".format(\n\u001b[0;32m-> 1691\u001b[0;31m         passed, implied))\n\u001b[0m\u001b[1;32m   1692\u001b[0m \u001b[0;34m\u001b[0m\u001b[0m\n\u001b[1;32m   1693\u001b[0m \u001b[0;34m\u001b[0m\u001b[0m\n",
            "\u001b[0;31mValueError\u001b[0m: Shape of passed values is (44, 4), indices imply (44, 8)"
          ]
        }
      ]
    },
    {
      "cell_type": "code",
      "metadata": {
        "id": "R7H7_dpCUusT",
        "colab_type": "code",
        "colab": {}
      },
      "source": [
        ""
      ],
      "execution_count": null,
      "outputs": []
    },
    {
      "cell_type": "code",
      "metadata": {
        "id": "Ru5VcLxAM9vz",
        "colab_type": "code",
        "colab": {}
      },
      "source": [
        ""
      ],
      "execution_count": null,
      "outputs": []
    },
    {
      "cell_type": "code",
      "metadata": {
        "id": "LxxnlWZ_MoiP",
        "colab_type": "code",
        "colab": {
          "base_uri": "https://localhost:8080/",
          "height": 35
        },
        "outputId": "2f092abe-81e6-4e60-9151-d2343bc6e3b4"
      },
      "source": [
        "#실제 2019년 7월 매출과 예측 2019년 7월 매출 wilcoxon rank test\n",
        "\n",
        "from scipy import stats\n",
        "stats.wilcoxon(Prediction[\"2019-07\"],Actual[\"2019-07\"])"
      ],
      "execution_count": null,
      "outputs": [
        {
          "output_type": "execute_result",
          "data": {
            "text/plain": [
              "WilcoxonResult(statistic=234.0, pvalue=0.0023196934541995506)"
            ]
          },
          "metadata": {
            "tags": []
          },
          "execution_count": 66
        }
      ]
    },
    {
      "cell_type": "code",
      "metadata": {
        "id": "CB7y9NlWPExO",
        "colab_type": "code",
        "colab": {}
      },
      "source": [
        "predict_actual_ratio_2019_07=Prediction[\"2019-07\"]/Actual[\"2019-07\"]"
      ],
      "execution_count": null,
      "outputs": []
    },
    {
      "cell_type": "code",
      "metadata": {
        "id": "kDUhWcAztcv5",
        "colab_type": "code",
        "colab": {}
      },
      "source": [
        "predict_actual_ratio_2019_06=Prediction[\"2019-07\"]/Actual[\"2019-07\"]"
      ],
      "execution_count": null,
      "outputs": []
    },
    {
      "cell_type": "code",
      "metadata": {
        "id": "HnxmvupWtcsO",
        "colab_type": "code",
        "colab": {
          "base_uri": "https://localhost:8080/",
          "height": 845
        },
        "outputId": "67209454-7ef9-409c-d701-eea98a716410"
      },
      "source": [
        "Actual[\"2019-07\"]/Prediction[\"2018-07\"]"
      ],
      "execution_count": null,
      "outputs": [
        {
          "output_type": "execute_result",
          "data": {
            "text/plain": [
              "point  brand    \n",
              "강남점    바네사브루노       0.434619\n",
              "       질스튜어트        1.063704\n",
              "       폴로랄프로렌       1.025079\n",
              "건대스타점  폴로랄프로렌       0.903909\n",
              "광복점    자딕앤볼테르       0.444497\n",
              "       타임옴므         1.069518\n",
              "노원점    솔리드옴므        2.089105\n",
              "       시스템옴므        2.364943\n",
              "       질스튜어트        2.804705\n",
              "       폴로랄프로렌       1.356919\n",
              "본점     바네사브루노       1.568532\n",
              "       산드로          1.668384\n",
              "       솔리드옴므        2.115675\n",
              "       시스템옴므        0.856636\n",
              "       에르메네질도 제냐    1.302158\n",
              "       엠포리오아르마니     0.522221\n",
              "       이자벨마랑        1.417131\n",
              "       자딕앤볼테르       1.635316\n",
              "       질스튜어트        0.486500\n",
              "       타임옴므         0.527089\n",
              "       폴로랄프로렌       1.087145\n",
              "부산본점   라움           1.174655\n",
              "       산드로          1.714972\n",
              "       에르메네질도 제냐    0.600485\n",
              "       질스튜어트        0.362297\n",
              "       질스튜어트뉴욕      0.710710\n",
              "       타임옴므         1.339506\n",
              "       폴로랄프로렌       0.997571\n",
              "분당점    폴로랄프로렌       0.887022\n",
              "영등포점   시스템옴므        0.772042\n",
              "       질스튜어트        3.157962\n",
              "일산점    솔리드옴므        0.507944\n",
              "       폴로랄프로렌       1.008190\n",
              "잠실점    마쥬           1.035919\n",
              "       바네사브루노       3.576128\n",
              "       솔리드옴므        0.862641\n",
              "       시스템옴므        0.808116\n",
              "       자딕앤볼테르       1.015091\n",
              "       질스튜어트        0.687790\n",
              "       타임옴므         1.209893\n",
              "창원점    자딕앤볼테르       0.522232\n",
              "       폴로랄프로렌       1.745534\n",
              "평촌점    시스템옴므        1.002687\n",
              "       폴로랄프로렌       1.754317\n",
              "dtype: float64"
            ]
          },
          "metadata": {
            "tags": []
          },
          "execution_count": 44
        }
      ]
    },
    {
      "cell_type": "code",
      "metadata": {
        "id": "UdIYf0latcrK",
        "colab_type": "code",
        "colab": {}
      },
      "source": [
        ""
      ],
      "execution_count": null,
      "outputs": []
    },
    {
      "cell_type": "code",
      "metadata": {
        "id": "2sRZYN4ltcoC",
        "colab_type": "code",
        "colab": {
          "base_uri": "https://localhost:8080/",
          "height": 35
        },
        "outputId": "0af55d84-9198-4c87-ffa8-083dcb979fea"
      },
      "source": [
        ""
      ],
      "execution_count": null,
      "outputs": [
        {
          "output_type": "execute_result",
          "data": {
            "text/plain": [
              "2.154343997266108"
            ]
          },
          "metadata": {
            "tags": []
          },
          "execution_count": 40
        }
      ]
    },
    {
      "cell_type": "code",
      "metadata": {
        "id": "tuok4bfYtcmj",
        "colab_type": "code",
        "colab": {
          "base_uri": "https://localhost:8080/",
          "height": 664
        },
        "outputId": "8f2c99c5-a330-4717-cc97-4b0c93058cf0"
      },
      "source": [
        "\n",
        "%matplotlib inline\n",
        "A=pd.DataFrame(df.loc[(\"본점\",\"메종키츠네(여성)\")])\n",
        "B=pd.DataFrame(df.loc[(\"평촌점\",\"폴로랄프로렌\")])\n",
        "\n",
        "A.plot(figsize=(10,5), linewidth=3, fontsize=10,title=\"2019/07/Predict\")\n",
        "B.plot(figsize=(10,5), linewidth=3, fontsize=10,title=\"2019/07/Predict\")\n",
        "\n",
        "plt.xlabel('Time', fontsize=10);\n"
      ],
      "execution_count": null,
      "outputs": [
        {
          "output_type": "error",
          "ename": "KeyError",
          "evalue": "ignored",
          "traceback": [
            "\u001b[0;31m---------------------------------------------------------------------------\u001b[0m",
            "\u001b[0;31mKeyError\u001b[0m                                  Traceback (most recent call last)",
            "\u001b[0;32m/usr/local/lib/python3.6/dist-packages/pandas/core/indexes/base.py\u001b[0m in \u001b[0;36mget_loc\u001b[0;34m(self, key, method, tolerance)\u001b[0m\n\u001b[1;32m   2656\u001b[0m             \u001b[0;32mtry\u001b[0m\u001b[0;34m:\u001b[0m\u001b[0;34m\u001b[0m\u001b[0;34m\u001b[0m\u001b[0m\n\u001b[0;32m-> 2657\u001b[0;31m                 \u001b[0;32mreturn\u001b[0m \u001b[0mself\u001b[0m\u001b[0;34m.\u001b[0m\u001b[0m_engine\u001b[0m\u001b[0;34m.\u001b[0m\u001b[0mget_loc\u001b[0m\u001b[0;34m(\u001b[0m\u001b[0mkey\u001b[0m\u001b[0;34m)\u001b[0m\u001b[0;34m\u001b[0m\u001b[0;34m\u001b[0m\u001b[0m\n\u001b[0m\u001b[1;32m   2658\u001b[0m             \u001b[0;32mexcept\u001b[0m \u001b[0mKeyError\u001b[0m\u001b[0;34m:\u001b[0m\u001b[0;34m\u001b[0m\u001b[0;34m\u001b[0m\u001b[0m\n",
            "\u001b[0;32mpandas/_libs/index.pyx\u001b[0m in \u001b[0;36mpandas._libs.index.IndexEngine.get_loc\u001b[0;34m()\u001b[0m\n",
            "\u001b[0;32mpandas/_libs/index.pyx\u001b[0m in \u001b[0;36mpandas._libs.index.IndexEngine.get_loc\u001b[0;34m()\u001b[0m\n",
            "\u001b[0;32mpandas/_libs/index_class_helper.pxi\u001b[0m in \u001b[0;36mpandas._libs.index.Int64Engine._check_type\u001b[0;34m()\u001b[0m\n",
            "\u001b[0;31mKeyError\u001b[0m: '본점'",
            "\nDuring handling of the above exception, another exception occurred:\n",
            "\u001b[0;31mKeyError\u001b[0m                                  Traceback (most recent call last)",
            "\u001b[0;32m<ipython-input-193-b0430ae2ecc0>\u001b[0m in \u001b[0;36m<module>\u001b[0;34m()\u001b[0m\n\u001b[1;32m      1\u001b[0m \u001b[0;34m\u001b[0m\u001b[0m\n\u001b[1;32m      2\u001b[0m \u001b[0mget_ipython\u001b[0m\u001b[0;34m(\u001b[0m\u001b[0;34m)\u001b[0m\u001b[0;34m.\u001b[0m\u001b[0mmagic\u001b[0m\u001b[0;34m(\u001b[0m\u001b[0;34m'matplotlib inline'\u001b[0m\u001b[0;34m)\u001b[0m\u001b[0;34m\u001b[0m\u001b[0;34m\u001b[0m\u001b[0m\n\u001b[0;32m----> 3\u001b[0;31m \u001b[0mA\u001b[0m\u001b[0;34m=\u001b[0m\u001b[0mpd\u001b[0m\u001b[0;34m.\u001b[0m\u001b[0mDataFrame\u001b[0m\u001b[0;34m(\u001b[0m\u001b[0mdf\u001b[0m\u001b[0;34m.\u001b[0m\u001b[0mloc\u001b[0m\u001b[0;34m[\u001b[0m\u001b[0;34m(\u001b[0m\u001b[0;34m\"본점\"\u001b[0m\u001b[0;34m,\u001b[0m\u001b[0;34m\"메종키츠네(여성)\"\u001b[0m\u001b[0;34m)\u001b[0m\u001b[0;34m]\u001b[0m\u001b[0;34m)\u001b[0m\u001b[0;34m\u001b[0m\u001b[0;34m\u001b[0m\u001b[0m\n\u001b[0m\u001b[1;32m      4\u001b[0m \u001b[0mB\u001b[0m\u001b[0;34m=\u001b[0m\u001b[0mpd\u001b[0m\u001b[0;34m.\u001b[0m\u001b[0mDataFrame\u001b[0m\u001b[0;34m(\u001b[0m\u001b[0mdf\u001b[0m\u001b[0;34m.\u001b[0m\u001b[0mloc\u001b[0m\u001b[0;34m[\u001b[0m\u001b[0;34m(\u001b[0m\u001b[0;34m\"평촌점\"\u001b[0m\u001b[0;34m,\u001b[0m\u001b[0;34m\"폴로랄프로렌\"\u001b[0m\u001b[0;34m)\u001b[0m\u001b[0;34m]\u001b[0m\u001b[0;34m)\u001b[0m\u001b[0;34m\u001b[0m\u001b[0;34m\u001b[0m\u001b[0m\n\u001b[1;32m      5\u001b[0m \u001b[0;34m\u001b[0m\u001b[0m\n",
            "\u001b[0;32m/usr/local/lib/python3.6/dist-packages/pandas/core/indexing.py\u001b[0m in \u001b[0;36m__getitem__\u001b[0;34m(self, key)\u001b[0m\n\u001b[1;32m   1492\u001b[0m             \u001b[0;32mexcept\u001b[0m \u001b[0;34m(\u001b[0m\u001b[0mKeyError\u001b[0m\u001b[0;34m,\u001b[0m \u001b[0mIndexError\u001b[0m\u001b[0;34m,\u001b[0m \u001b[0mAttributeError\u001b[0m\u001b[0;34m)\u001b[0m\u001b[0;34m:\u001b[0m\u001b[0;34m\u001b[0m\u001b[0;34m\u001b[0m\u001b[0m\n\u001b[1;32m   1493\u001b[0m                 \u001b[0;32mpass\u001b[0m\u001b[0;34m\u001b[0m\u001b[0;34m\u001b[0m\u001b[0m\n\u001b[0;32m-> 1494\u001b[0;31m             \u001b[0;32mreturn\u001b[0m \u001b[0mself\u001b[0m\u001b[0;34m.\u001b[0m\u001b[0m_getitem_tuple\u001b[0m\u001b[0;34m(\u001b[0m\u001b[0mkey\u001b[0m\u001b[0;34m)\u001b[0m\u001b[0;34m\u001b[0m\u001b[0;34m\u001b[0m\u001b[0m\n\u001b[0m\u001b[1;32m   1495\u001b[0m         \u001b[0;32melse\u001b[0m\u001b[0;34m:\u001b[0m\u001b[0;34m\u001b[0m\u001b[0;34m\u001b[0m\u001b[0m\n\u001b[1;32m   1496\u001b[0m             \u001b[0;31m# we by definition only have the 0th axis\u001b[0m\u001b[0;34m\u001b[0m\u001b[0;34m\u001b[0m\u001b[0;34m\u001b[0m\u001b[0m\n",
            "\u001b[0;32m/usr/local/lib/python3.6/dist-packages/pandas/core/indexing.py\u001b[0m in \u001b[0;36m_getitem_tuple\u001b[0;34m(self, tup)\u001b[0m\n\u001b[1;32m    866\u001b[0m     \u001b[0;32mdef\u001b[0m \u001b[0m_getitem_tuple\u001b[0m\u001b[0;34m(\u001b[0m\u001b[0mself\u001b[0m\u001b[0;34m,\u001b[0m \u001b[0mtup\u001b[0m\u001b[0;34m)\u001b[0m\u001b[0;34m:\u001b[0m\u001b[0;34m\u001b[0m\u001b[0;34m\u001b[0m\u001b[0m\n\u001b[1;32m    867\u001b[0m         \u001b[0;32mtry\u001b[0m\u001b[0;34m:\u001b[0m\u001b[0;34m\u001b[0m\u001b[0;34m\u001b[0m\u001b[0m\n\u001b[0;32m--> 868\u001b[0;31m             \u001b[0;32mreturn\u001b[0m \u001b[0mself\u001b[0m\u001b[0;34m.\u001b[0m\u001b[0m_getitem_lowerdim\u001b[0m\u001b[0;34m(\u001b[0m\u001b[0mtup\u001b[0m\u001b[0;34m)\u001b[0m\u001b[0;34m\u001b[0m\u001b[0;34m\u001b[0m\u001b[0m\n\u001b[0m\u001b[1;32m    869\u001b[0m         \u001b[0;32mexcept\u001b[0m \u001b[0mIndexingError\u001b[0m\u001b[0;34m:\u001b[0m\u001b[0;34m\u001b[0m\u001b[0;34m\u001b[0m\u001b[0m\n\u001b[1;32m    870\u001b[0m             \u001b[0;32mpass\u001b[0m\u001b[0;34m\u001b[0m\u001b[0;34m\u001b[0m\u001b[0m\n",
            "\u001b[0;32m/usr/local/lib/python3.6/dist-packages/pandas/core/indexing.py\u001b[0m in \u001b[0;36m_getitem_lowerdim\u001b[0;34m(self, tup)\u001b[0m\n\u001b[1;32m    986\u001b[0m         \u001b[0;32mfor\u001b[0m \u001b[0mi\u001b[0m\u001b[0;34m,\u001b[0m \u001b[0mkey\u001b[0m \u001b[0;32min\u001b[0m \u001b[0menumerate\u001b[0m\u001b[0;34m(\u001b[0m\u001b[0mtup\u001b[0m\u001b[0;34m)\u001b[0m\u001b[0;34m:\u001b[0m\u001b[0;34m\u001b[0m\u001b[0;34m\u001b[0m\u001b[0m\n\u001b[1;32m    987\u001b[0m             \u001b[0;32mif\u001b[0m \u001b[0mis_label_like\u001b[0m\u001b[0;34m(\u001b[0m\u001b[0mkey\u001b[0m\u001b[0;34m)\u001b[0m \u001b[0;32mor\u001b[0m \u001b[0misinstance\u001b[0m\u001b[0;34m(\u001b[0m\u001b[0mkey\u001b[0m\u001b[0;34m,\u001b[0m \u001b[0mtuple\u001b[0m\u001b[0;34m)\u001b[0m\u001b[0;34m:\u001b[0m\u001b[0;34m\u001b[0m\u001b[0;34m\u001b[0m\u001b[0m\n\u001b[0;32m--> 988\u001b[0;31m                 \u001b[0msection\u001b[0m \u001b[0;34m=\u001b[0m \u001b[0mself\u001b[0m\u001b[0;34m.\u001b[0m\u001b[0m_getitem_axis\u001b[0m\u001b[0;34m(\u001b[0m\u001b[0mkey\u001b[0m\u001b[0;34m,\u001b[0m \u001b[0maxis\u001b[0m\u001b[0;34m=\u001b[0m\u001b[0mi\u001b[0m\u001b[0;34m)\u001b[0m\u001b[0;34m\u001b[0m\u001b[0;34m\u001b[0m\u001b[0m\n\u001b[0m\u001b[1;32m    989\u001b[0m \u001b[0;34m\u001b[0m\u001b[0m\n\u001b[1;32m    990\u001b[0m                 \u001b[0;31m# we have yielded a scalar ?\u001b[0m\u001b[0;34m\u001b[0m\u001b[0;34m\u001b[0m\u001b[0;34m\u001b[0m\u001b[0m\n",
            "\u001b[0;32m/usr/local/lib/python3.6/dist-packages/pandas/core/indexing.py\u001b[0m in \u001b[0;36m_getitem_axis\u001b[0;34m(self, key, axis)\u001b[0m\n\u001b[1;32m   1911\u001b[0m         \u001b[0;31m# fall thru to straight lookup\u001b[0m\u001b[0;34m\u001b[0m\u001b[0;34m\u001b[0m\u001b[0;34m\u001b[0m\u001b[0m\n\u001b[1;32m   1912\u001b[0m         \u001b[0mself\u001b[0m\u001b[0;34m.\u001b[0m\u001b[0m_validate_key\u001b[0m\u001b[0;34m(\u001b[0m\u001b[0mkey\u001b[0m\u001b[0;34m,\u001b[0m \u001b[0maxis\u001b[0m\u001b[0;34m)\u001b[0m\u001b[0;34m\u001b[0m\u001b[0;34m\u001b[0m\u001b[0m\n\u001b[0;32m-> 1913\u001b[0;31m         \u001b[0;32mreturn\u001b[0m \u001b[0mself\u001b[0m\u001b[0;34m.\u001b[0m\u001b[0m_get_label\u001b[0m\u001b[0;34m(\u001b[0m\u001b[0mkey\u001b[0m\u001b[0;34m,\u001b[0m \u001b[0maxis\u001b[0m\u001b[0;34m=\u001b[0m\u001b[0maxis\u001b[0m\u001b[0;34m)\u001b[0m\u001b[0;34m\u001b[0m\u001b[0;34m\u001b[0m\u001b[0m\n\u001b[0m\u001b[1;32m   1914\u001b[0m \u001b[0;34m\u001b[0m\u001b[0m\n\u001b[1;32m   1915\u001b[0m \u001b[0;34m\u001b[0m\u001b[0m\n",
            "\u001b[0;32m/usr/local/lib/python3.6/dist-packages/pandas/core/indexing.py\u001b[0m in \u001b[0;36m_get_label\u001b[0;34m(self, label, axis)\u001b[0m\n\u001b[1;32m    139\u001b[0m             \u001b[0;32mraise\u001b[0m \u001b[0mIndexingError\u001b[0m\u001b[0;34m(\u001b[0m\u001b[0;34m'no slices here, handle elsewhere'\u001b[0m\u001b[0;34m)\u001b[0m\u001b[0;34m\u001b[0m\u001b[0;34m\u001b[0m\u001b[0m\n\u001b[1;32m    140\u001b[0m \u001b[0;34m\u001b[0m\u001b[0m\n\u001b[0;32m--> 141\u001b[0;31m         \u001b[0;32mreturn\u001b[0m \u001b[0mself\u001b[0m\u001b[0;34m.\u001b[0m\u001b[0mobj\u001b[0m\u001b[0;34m.\u001b[0m\u001b[0m_xs\u001b[0m\u001b[0;34m(\u001b[0m\u001b[0mlabel\u001b[0m\u001b[0;34m,\u001b[0m \u001b[0maxis\u001b[0m\u001b[0;34m=\u001b[0m\u001b[0maxis\u001b[0m\u001b[0;34m)\u001b[0m\u001b[0;34m\u001b[0m\u001b[0;34m\u001b[0m\u001b[0m\n\u001b[0m\u001b[1;32m    142\u001b[0m \u001b[0;34m\u001b[0m\u001b[0m\n\u001b[1;32m    143\u001b[0m     \u001b[0;32mdef\u001b[0m \u001b[0m_get_loc\u001b[0m\u001b[0;34m(\u001b[0m\u001b[0mself\u001b[0m\u001b[0;34m,\u001b[0m \u001b[0mkey\u001b[0m\u001b[0;34m,\u001b[0m \u001b[0maxis\u001b[0m\u001b[0;34m=\u001b[0m\u001b[0;32mNone\u001b[0m\u001b[0;34m)\u001b[0m\u001b[0;34m:\u001b[0m\u001b[0;34m\u001b[0m\u001b[0;34m\u001b[0m\u001b[0m\n",
            "\u001b[0;32m/usr/local/lib/python3.6/dist-packages/pandas/core/generic.py\u001b[0m in \u001b[0;36mxs\u001b[0;34m(self, key, axis, level, drop_level)\u001b[0m\n\u001b[1;32m   3583\u001b[0m                                                       drop_level=drop_level)\n\u001b[1;32m   3584\u001b[0m         \u001b[0;32melse\u001b[0m\u001b[0;34m:\u001b[0m\u001b[0;34m\u001b[0m\u001b[0;34m\u001b[0m\u001b[0m\n\u001b[0;32m-> 3585\u001b[0;31m             \u001b[0mloc\u001b[0m \u001b[0;34m=\u001b[0m \u001b[0mself\u001b[0m\u001b[0;34m.\u001b[0m\u001b[0mindex\u001b[0m\u001b[0;34m.\u001b[0m\u001b[0mget_loc\u001b[0m\u001b[0;34m(\u001b[0m\u001b[0mkey\u001b[0m\u001b[0;34m)\u001b[0m\u001b[0;34m\u001b[0m\u001b[0;34m\u001b[0m\u001b[0m\n\u001b[0m\u001b[1;32m   3586\u001b[0m \u001b[0;34m\u001b[0m\u001b[0m\n\u001b[1;32m   3587\u001b[0m             \u001b[0;32mif\u001b[0m \u001b[0misinstance\u001b[0m\u001b[0;34m(\u001b[0m\u001b[0mloc\u001b[0m\u001b[0;34m,\u001b[0m \u001b[0mnp\u001b[0m\u001b[0;34m.\u001b[0m\u001b[0mndarray\u001b[0m\u001b[0;34m)\u001b[0m\u001b[0;34m:\u001b[0m\u001b[0;34m\u001b[0m\u001b[0;34m\u001b[0m\u001b[0m\n",
            "\u001b[0;32m/usr/local/lib/python3.6/dist-packages/pandas/core/indexes/base.py\u001b[0m in \u001b[0;36mget_loc\u001b[0;34m(self, key, method, tolerance)\u001b[0m\n\u001b[1;32m   2657\u001b[0m                 \u001b[0;32mreturn\u001b[0m \u001b[0mself\u001b[0m\u001b[0;34m.\u001b[0m\u001b[0m_engine\u001b[0m\u001b[0;34m.\u001b[0m\u001b[0mget_loc\u001b[0m\u001b[0;34m(\u001b[0m\u001b[0mkey\u001b[0m\u001b[0;34m)\u001b[0m\u001b[0;34m\u001b[0m\u001b[0;34m\u001b[0m\u001b[0m\n\u001b[1;32m   2658\u001b[0m             \u001b[0;32mexcept\u001b[0m \u001b[0mKeyError\u001b[0m\u001b[0;34m:\u001b[0m\u001b[0;34m\u001b[0m\u001b[0;34m\u001b[0m\u001b[0m\n\u001b[0;32m-> 2659\u001b[0;31m                 \u001b[0;32mreturn\u001b[0m \u001b[0mself\u001b[0m\u001b[0;34m.\u001b[0m\u001b[0m_engine\u001b[0m\u001b[0;34m.\u001b[0m\u001b[0mget_loc\u001b[0m\u001b[0;34m(\u001b[0m\u001b[0mself\u001b[0m\u001b[0;34m.\u001b[0m\u001b[0m_maybe_cast_indexer\u001b[0m\u001b[0;34m(\u001b[0m\u001b[0mkey\u001b[0m\u001b[0;34m)\u001b[0m\u001b[0;34m)\u001b[0m\u001b[0;34m\u001b[0m\u001b[0;34m\u001b[0m\u001b[0m\n\u001b[0m\u001b[1;32m   2660\u001b[0m         \u001b[0mindexer\u001b[0m \u001b[0;34m=\u001b[0m \u001b[0mself\u001b[0m\u001b[0;34m.\u001b[0m\u001b[0mget_indexer\u001b[0m\u001b[0;34m(\u001b[0m\u001b[0;34m[\u001b[0m\u001b[0mkey\u001b[0m\u001b[0;34m]\u001b[0m\u001b[0;34m,\u001b[0m \u001b[0mmethod\u001b[0m\u001b[0;34m=\u001b[0m\u001b[0mmethod\u001b[0m\u001b[0;34m,\u001b[0m \u001b[0mtolerance\u001b[0m\u001b[0;34m=\u001b[0m\u001b[0mtolerance\u001b[0m\u001b[0;34m)\u001b[0m\u001b[0;34m\u001b[0m\u001b[0;34m\u001b[0m\u001b[0m\n\u001b[1;32m   2661\u001b[0m         \u001b[0;32mif\u001b[0m \u001b[0mindexer\u001b[0m\u001b[0;34m.\u001b[0m\u001b[0mndim\u001b[0m \u001b[0;34m>\u001b[0m \u001b[0;36m1\u001b[0m \u001b[0;32mor\u001b[0m \u001b[0mindexer\u001b[0m\u001b[0;34m.\u001b[0m\u001b[0msize\u001b[0m \u001b[0;34m>\u001b[0m \u001b[0;36m1\u001b[0m\u001b[0;34m:\u001b[0m\u001b[0;34m\u001b[0m\u001b[0;34m\u001b[0m\u001b[0m\n",
            "\u001b[0;32mpandas/_libs/index.pyx\u001b[0m in \u001b[0;36mpandas._libs.index.IndexEngine.get_loc\u001b[0;34m()\u001b[0m\n",
            "\u001b[0;32mpandas/_libs/index.pyx\u001b[0m in \u001b[0;36mpandas._libs.index.IndexEngine.get_loc\u001b[0;34m()\u001b[0m\n",
            "\u001b[0;32mpandas/_libs/index_class_helper.pxi\u001b[0m in \u001b[0;36mpandas._libs.index.Int64Engine._check_type\u001b[0;34m()\u001b[0m\n",
            "\u001b[0;31mKeyError\u001b[0m: '본점'"
          ]
        }
      ]
    },
    {
      "cell_type": "code",
      "metadata": {
        "id": "PvSj0EPnh2Yn",
        "colab_type": "code",
        "colab": {
          "base_uri": "https://localhost:8080/",
          "height": 239
        },
        "outputId": "e95c7dd4-de3c-46c2-d3bd-8c9b8c82c678"
      },
      "source": [
        "######## 예측한 한달간의 매출(y축)을 브랜드별(x축)로 표현  위에가 예측매출 아래가 실제매출\n",
        "\n",
        "import matplotlib.pyplot as plt\n",
        "\n",
        "%matplotlib inline\n",
        "A=pd.DataFrame(monthly_pred)\n",
        "B=pd.DataFrame(monthly_val)\n",
        "A.plot(figsize=(10,5), linewidth=3, fontsize=10,title=\"2019/07/Predict\")\n",
        "B.plot(figsize=(10,5), linewidth=3, fontsize=10,title=\"2019/07/Real\")\n",
        "\n",
        "plt.xlabel('Time', fontsize=10);"
      ],
      "execution_count": null,
      "outputs": [
        {
          "output_type": "error",
          "ename": "NameError",
          "evalue": "ignored",
          "traceback": [
            "\u001b[0;31m---------------------------------------------------------------------------\u001b[0m",
            "\u001b[0;31mNameError\u001b[0m                                 Traceback (most recent call last)",
            "\u001b[0;32m<ipython-input-1-dadafc39ae4b>\u001b[0m in \u001b[0;36m<module>\u001b[0;34m()\u001b[0m\n\u001b[1;32m      3\u001b[0m \u001b[0;34m\u001b[0m\u001b[0m\n\u001b[1;32m      4\u001b[0m \u001b[0mget_ipython\u001b[0m\u001b[0;34m(\u001b[0m\u001b[0;34m)\u001b[0m\u001b[0;34m.\u001b[0m\u001b[0mmagic\u001b[0m\u001b[0;34m(\u001b[0m\u001b[0;34m'matplotlib inline'\u001b[0m\u001b[0;34m)\u001b[0m\u001b[0;34m\u001b[0m\u001b[0;34m\u001b[0m\u001b[0m\n\u001b[0;32m----> 5\u001b[0;31m \u001b[0mA\u001b[0m\u001b[0;34m=\u001b[0m\u001b[0mpd\u001b[0m\u001b[0;34m.\u001b[0m\u001b[0mDataFrame\u001b[0m\u001b[0;34m(\u001b[0m\u001b[0mmonthly_pred\u001b[0m\u001b[0;34m)\u001b[0m\u001b[0;34m\u001b[0m\u001b[0;34m\u001b[0m\u001b[0m\n\u001b[0m\u001b[1;32m      6\u001b[0m \u001b[0mB\u001b[0m\u001b[0;34m=\u001b[0m\u001b[0mpd\u001b[0m\u001b[0;34m.\u001b[0m\u001b[0mDataFrame\u001b[0m\u001b[0;34m(\u001b[0m\u001b[0mmonthly_val\u001b[0m\u001b[0;34m)\u001b[0m\u001b[0;34m\u001b[0m\u001b[0;34m\u001b[0m\u001b[0m\n\u001b[1;32m      7\u001b[0m \u001b[0mA\u001b[0m\u001b[0;34m.\u001b[0m\u001b[0mplot\u001b[0m\u001b[0;34m(\u001b[0m\u001b[0mfigsize\u001b[0m\u001b[0;34m=\u001b[0m\u001b[0;34m(\u001b[0m\u001b[0;36m10\u001b[0m\u001b[0;34m,\u001b[0m\u001b[0;36m5\u001b[0m\u001b[0;34m)\u001b[0m\u001b[0;34m,\u001b[0m \u001b[0mlinewidth\u001b[0m\u001b[0;34m=\u001b[0m\u001b[0;36m3\u001b[0m\u001b[0;34m,\u001b[0m \u001b[0mfontsize\u001b[0m\u001b[0;34m=\u001b[0m\u001b[0;36m10\u001b[0m\u001b[0;34m,\u001b[0m\u001b[0mtitle\u001b[0m\u001b[0;34m=\u001b[0m\u001b[0;34m\"2019/07/Predict\"\u001b[0m\u001b[0;34m)\u001b[0m\u001b[0;34m\u001b[0m\u001b[0;34m\u001b[0m\u001b[0m\n",
            "\u001b[0;31mNameError\u001b[0m: name 'pd' is not defined"
          ]
        }
      ]
    },
    {
      "cell_type": "code",
      "metadata": {
        "id": "XDiLwwu_nDNv",
        "colab_type": "code",
        "colab": {}
      },
      "source": [
        ""
      ],
      "execution_count": null,
      "outputs": []
    },
    {
      "cell_type": "code",
      "metadata": {
        "id": "o5YGlb4XnwSf",
        "colab_type": "code",
        "colab": {
          "base_uri": "https://localhost:8080/",
          "height": 71
        },
        "outputId": "01efdce3-69e6-4cd3-c81e-b3db2e5ff726"
      },
      "source": [
        "# 두 그래프 합쳐서 그리기\n",
        "\n",
        "\n",
        "import matplotlib.pyplot as plt\n",
        "%matplotlib inline\n",
        "\n",
        "\n",
        "\n",
        "\n",
        "index_list=list(new_df.index.get_values())\n",
        "\n",
        "before_forecast=new_df[pd.date_range(start='2016-06-30', end='2016-12-06')]        # 예측 전 매출 09 28\n",
        "before_forecast.index=range(44)\n",
        "\n",
        "point = input(\"점을 입력하세요: \")\n",
        "brand = input(\"브랜드를 입력하세요: \")\n",
        "a=(point,brand)\n",
        "if a in index_list:\n",
        "  index=index_list.index(a)\n",
        "  print(\"조회가능\")\n",
        "  print(\"2019년 6월 예상 매출: \" + str(int(monthly_pred[index]))+\"만원\")\n",
        "  print(\"2018년 6월 실제 매출: \"+ str(int(last_june[index]))+\"만원\")\n",
        "  print(\"예상 신장률: 약\"+ str(int((((monthly_pred[index])/(last_june[index]))-1)*100))+\"%\")\n",
        "  print(\"2019년 6월 한 달간 매출은 주황색 선으로 표시됩니다\")\n",
        "\n",
        "\n",
        "  A=pd.DataFrame(list(before_forecast.iloc[index]),index=df.columns[0:160])  # 90\n",
        "  B=pd.DataFrame(list(val_pred[index]),index=df.columns[156:160])\n",
        "\n",
        "  ax = A.plot(figsize=(15,8), title= 'predict', fontsize=14,label='observed')\n",
        "  B.plot(ax=ax, label='One-step ahead Forecast', alpha=.7, figsize=(14, 7))\n",
        "  ax.set_xlabel('Date')\n",
        "  ax.set_ylabel('Sales')\n",
        "  plt.legend()\n",
        "  plt.show()\n",
        "\n",
        "else:\n",
        "  print(\"다시 입력해주세요\")"
      ],
      "execution_count": null,
      "outputs": [
        {
          "output_type": "stream",
          "text": [
            "점을 입력하세요: 본점\n",
            "브랜드를 입력하세요: 메종키츠네(여성)\n",
            "다시 입력해주세요\n"
          ],
          "name": "stdout"
        }
      ]
    },
    {
      "cell_type": "code",
      "metadata": {
        "id": "CfsPx5_TkQ2c",
        "colab_type": "code",
        "colab": {
          "base_uri": "https://localhost:8080/",
          "height": 1000
        },
        "outputId": "3a9150fe-d8ba-4b5a-921e-7df50fa66be3"
      },
      "source": [
        "from IPython.display import SVG\n",
        "from keras.utils.vis_utils import model_to_dot\n",
        "\n",
        "%matplotlib inline\n",
        "\n",
        "SVG(model_to_dot(model, show_shapes=True).create(prog='dot', format='svg'))"
      ],
      "execution_count": null,
      "outputs": [
        {
          "output_type": "execute_result",
          "data": {
            "text/plain": [
              "<IPython.core.display.SVG object>"
            ],
            "image/svg+xml": "<svg height=\"885pt\" viewBox=\"0.00 0.00 1213.50 885.00\" width=\"1214pt\" xmlns=\"http://www.w3.org/2000/svg\" xmlns:xlink=\"http://www.w3.org/1999/xlink\">\n<g class=\"graph\" id=\"graph0\" transform=\"scale(1 1) rotate(0) translate(4 881)\">\n<title>G</title>\n<polygon fill=\"#ffffff\" points=\"-4,4 -4,-881 1209.5,-881 1209.5,4 -4,4\" stroke=\"transparent\"/>\n<!-- 140050720557376 -->\n<g class=\"node\" id=\"node1\">\n<title>140050720557376</title>\n<polygon fill=\"none\" points=\"299,-830.5 299,-876.5 592,-876.5 592,-830.5 299,-830.5\" stroke=\"#000000\"/>\n<text fill=\"#000000\" font-family=\"Times,serif\" font-size=\"14.00\" text-anchor=\"middle\" x=\"369\" y=\"-849.8\">input_21: InputLayer</text>\n<polyline fill=\"none\" points=\"439,-830.5 439,-876.5 \" stroke=\"#000000\"/>\n<text fill=\"#000000\" font-family=\"Times,serif\" font-size=\"14.00\" text-anchor=\"middle\" x=\"468\" y=\"-861.3\">input:</text>\n<polyline fill=\"none\" points=\"439,-853.5 497,-853.5 \" stroke=\"#000000\"/>\n<text fill=\"#000000\" font-family=\"Times,serif\" font-size=\"14.00\" text-anchor=\"middle\" x=\"468\" y=\"-838.3\">output:</text>\n<polyline fill=\"none\" points=\"497,-830.5 497,-876.5 \" stroke=\"#000000\"/>\n<text fill=\"#000000\" font-family=\"Times,serif\" font-size=\"14.00\" text-anchor=\"middle\" x=\"544.5\" y=\"-861.3\">(None, 34, 1)</text>\n<polyline fill=\"none\" points=\"497,-853.5 592,-853.5 \" stroke=\"#000000\"/>\n<text fill=\"#000000\" font-family=\"Times,serif\" font-size=\"14.00\" text-anchor=\"middle\" x=\"544.5\" y=\"-838.3\">(None, 34, 1)</text>\n</g>\n<!-- 140050720558104 -->\n<g class=\"node\" id=\"node4\">\n<title>140050720558104</title>\n<polygon fill=\"none\" points=\"0,-747.5 0,-793.5 281,-793.5 281,-747.5 0,-747.5\" stroke=\"#000000\"/>\n<text fill=\"#000000\" font-family=\"Times,serif\" font-size=\"14.00\" text-anchor=\"middle\" x=\"64\" y=\"-766.8\">lambda_5: Lambda</text>\n<polyline fill=\"none\" points=\"128,-747.5 128,-793.5 \" stroke=\"#000000\"/>\n<text fill=\"#000000\" font-family=\"Times,serif\" font-size=\"14.00\" text-anchor=\"middle\" x=\"157\" y=\"-778.3\">input:</text>\n<polyline fill=\"none\" points=\"128,-770.5 186,-770.5 \" stroke=\"#000000\"/>\n<text fill=\"#000000\" font-family=\"Times,serif\" font-size=\"14.00\" text-anchor=\"middle\" x=\"157\" y=\"-755.3\">output:</text>\n<polyline fill=\"none\" points=\"186,-747.5 186,-793.5 \" stroke=\"#000000\"/>\n<text fill=\"#000000\" font-family=\"Times,serif\" font-size=\"14.00\" text-anchor=\"middle\" x=\"233.5\" y=\"-778.3\">(None, 34, 1)</text>\n<polyline fill=\"none\" points=\"186,-770.5 281,-770.5 \" stroke=\"#000000\"/>\n<text fill=\"#000000\" font-family=\"Times,serif\" font-size=\"14.00\" text-anchor=\"middle\" x=\"233.5\" y=\"-755.3\">(None, 30, 1)</text>\n</g>\n<!-- 140050720557376&#45;&gt;140050720558104 -->\n<g class=\"edge\" id=\"edge1\">\n<title>140050720557376-&gt;140050720558104</title>\n<path d=\"M360.9455,-830.4901C321.8576,-819.853 275.2837,-807.1788 235.0374,-796.2266\" fill=\"none\" stroke=\"#000000\"/>\n<polygon fill=\"#000000\" points=\"235.7871,-792.8034 225.219,-793.5547 233.949,-799.5577 235.7871,-792.8034\" stroke=\"#000000\"/>\n</g>\n<!-- 140050720699840 -->\n<g class=\"node\" id=\"node12\">\n<title>140050720699840</title>\n<polygon fill=\"none\" points=\"921,-747.5 921,-793.5 1202,-793.5 1202,-747.5 921,-747.5\" stroke=\"#000000\"/>\n<text fill=\"#000000\" font-family=\"Times,serif\" font-size=\"14.00\" text-anchor=\"middle\" x=\"985\" y=\"-766.8\">lambda_6: Lambda</text>\n<polyline fill=\"none\" points=\"1049,-747.5 1049,-793.5 \" stroke=\"#000000\"/>\n<text fill=\"#000000\" font-family=\"Times,serif\" font-size=\"14.00\" text-anchor=\"middle\" x=\"1078\" y=\"-778.3\">input:</text>\n<polyline fill=\"none\" points=\"1049,-770.5 1107,-770.5 \" stroke=\"#000000\"/>\n<text fill=\"#000000\" font-family=\"Times,serif\" font-size=\"14.00\" text-anchor=\"middle\" x=\"1078\" y=\"-755.3\">output:</text>\n<polyline fill=\"none\" points=\"1107,-747.5 1107,-793.5 \" stroke=\"#000000\"/>\n<text fill=\"#000000\" font-family=\"Times,serif\" font-size=\"14.00\" text-anchor=\"middle\" x=\"1154.5\" y=\"-778.3\">(None, 34, 1)</text>\n<polyline fill=\"none\" points=\"1107,-770.5 1202,-770.5 \" stroke=\"#000000\"/>\n<text fill=\"#000000\" font-family=\"Times,serif\" font-size=\"14.00\" text-anchor=\"middle\" x=\"1154.5\" y=\"-755.3\">(None, 4, 1)</text>\n</g>\n<!-- 140050720557376&#45;&gt;140050720699840 -->\n<g class=\"edge\" id=\"edge12\">\n<title>140050720557376-&gt;140050720699840</title>\n<path d=\"M592.0984,-835.9552C681.4859,-824.9851 798.3131,-810.1646 910.5893,-794.2574\" fill=\"none\" stroke=\"#000000\"/>\n<polygon fill=\"#000000\" points=\"911.334,-797.6868 920.7419,-792.8142 910.3488,-790.7564 911.334,-797.6868\" stroke=\"#000000\"/>\n</g>\n<!-- 140050720558440 -->\n<g class=\"node\" id=\"node2\">\n<title>140050720558440</title>\n<polygon fill=\"none\" points=\"762,-830.5 762,-876.5 1055,-876.5 1055,-830.5 762,-830.5\" stroke=\"#000000\"/>\n<text fill=\"#000000\" font-family=\"Times,serif\" font-size=\"14.00\" text-anchor=\"middle\" x=\"832\" y=\"-849.8\">input_22: InputLayer</text>\n<polyline fill=\"none\" points=\"902,-830.5 902,-876.5 \" stroke=\"#000000\"/>\n<text fill=\"#000000\" font-family=\"Times,serif\" font-size=\"14.00\" text-anchor=\"middle\" x=\"931\" y=\"-861.3\">input:</text>\n<polyline fill=\"none\" points=\"902,-853.5 960,-853.5 \" stroke=\"#000000\"/>\n<text fill=\"#000000\" font-family=\"Times,serif\" font-size=\"14.00\" text-anchor=\"middle\" x=\"931\" y=\"-838.3\">output:</text>\n<polyline fill=\"none\" points=\"960,-830.5 960,-876.5 \" stroke=\"#000000\"/>\n<text fill=\"#000000\" font-family=\"Times,serif\" font-size=\"14.00\" text-anchor=\"middle\" x=\"1007.5\" y=\"-861.3\">(None, 34, 1)</text>\n<polyline fill=\"none\" points=\"960,-853.5 1055,-853.5 \" stroke=\"#000000\"/>\n<text fill=\"#000000\" font-family=\"Times,serif\" font-size=\"14.00\" text-anchor=\"middle\" x=\"1007.5\" y=\"-838.3\">(None, 34, 1)</text>\n</g>\n<!-- 140050720558440&#45;&gt;140050720558104 -->\n<g class=\"edge\" id=\"edge2\">\n<title>140050720558440-&gt;140050720558104</title>\n<path d=\"M761.8926,-841.9273C638.7449,-831.6159 457.9172,-815.0997 291.189,-794.1854\" fill=\"none\" stroke=\"#000000\"/>\n<polygon fill=\"#000000\" points=\"291.602,-790.7098 281.2425,-792.9303 290.7256,-797.6548 291.602,-790.7098\" stroke=\"#000000\"/>\n</g>\n<!-- 140050720558440&#45;&gt;140050720699840 -->\n<g class=\"edge\" id=\"edge13\">\n<title>140050720558440-&gt;140050720699840</title>\n<path d=\"M951.119,-830.3799C969.3624,-820.4832 990.8273,-808.8388 1009.9547,-798.4625\" fill=\"none\" stroke=\"#000000\"/>\n<polygon fill=\"#000000\" points=\"1011.7235,-801.4849 1018.8444,-793.6399 1008.3856,-795.3319 1011.7235,-801.4849\" stroke=\"#000000\"/>\n</g>\n<!-- 140050720557544 -->\n<g class=\"node\" id=\"node3\">\n<title>140050720557544</title>\n<polygon fill=\"none\" points=\"610,-747.5 610,-793.5 903,-793.5 903,-747.5 610,-747.5\" stroke=\"#000000\"/>\n<text fill=\"#000000\" font-family=\"Times,serif\" font-size=\"14.00\" text-anchor=\"middle\" x=\"680\" y=\"-766.8\">input_17: InputLayer</text>\n<polyline fill=\"none\" points=\"750,-747.5 750,-793.5 \" stroke=\"#000000\"/>\n<text fill=\"#000000\" font-family=\"Times,serif\" font-size=\"14.00\" text-anchor=\"middle\" x=\"779\" y=\"-778.3\">input:</text>\n<polyline fill=\"none\" points=\"750,-770.5 808,-770.5 \" stroke=\"#000000\"/>\n<text fill=\"#000000\" font-family=\"Times,serif\" font-size=\"14.00\" text-anchor=\"middle\" x=\"779\" y=\"-755.3\">output:</text>\n<polyline fill=\"none\" points=\"808,-747.5 808,-793.5 \" stroke=\"#000000\"/>\n<text fill=\"#000000\" font-family=\"Times,serif\" font-size=\"14.00\" text-anchor=\"middle\" x=\"855.5\" y=\"-778.3\">(None, 30, 1)</text>\n<polyline fill=\"none\" points=\"808,-770.5 903,-770.5 \" stroke=\"#000000\"/>\n<text fill=\"#000000\" font-family=\"Times,serif\" font-size=\"14.00\" text-anchor=\"middle\" x=\"855.5\" y=\"-755.3\">(None, 30, 1)</text>\n</g>\n<!-- 140050739435224 -->\n<g class=\"node\" id=\"node6\">\n<title>140050739435224</title>\n<polygon fill=\"none\" points=\"135,-664.5 135,-710.5 728,-710.5 728,-664.5 135,-664.5\" stroke=\"#000000\"/>\n<text fill=\"#000000\" font-family=\"Times,serif\" font-size=\"14.00\" text-anchor=\"middle\" x=\"222.5\" y=\"-683.8\">concatenate_9: Concatenate</text>\n<polyline fill=\"none\" points=\"310,-664.5 310,-710.5 \" stroke=\"#000000\"/>\n<text fill=\"#000000\" font-family=\"Times,serif\" font-size=\"14.00\" text-anchor=\"middle\" x=\"339\" y=\"-695.3\">input:</text>\n<polyline fill=\"none\" points=\"310,-687.5 368,-687.5 \" stroke=\"#000000\"/>\n<text fill=\"#000000\" font-family=\"Times,serif\" font-size=\"14.00\" text-anchor=\"middle\" x=\"339\" y=\"-672.3\">output:</text>\n<polyline fill=\"none\" points=\"368,-664.5 368,-710.5 \" stroke=\"#000000\"/>\n<text fill=\"#000000\" font-family=\"Times,serif\" font-size=\"14.00\" text-anchor=\"middle\" x=\"548\" y=\"-695.3\">[(None, 30, 1), (None, 30, 1), (None, 30, 1), (None, 30, 1)]</text>\n<polyline fill=\"none\" points=\"368,-687.5 728,-687.5 \" stroke=\"#000000\"/>\n<text fill=\"#000000\" font-family=\"Times,serif\" font-size=\"14.00\" text-anchor=\"middle\" x=\"548\" y=\"-672.3\">(None, 30, 4)</text>\n</g>\n<!-- 140050720557544&#45;&gt;140050739435224 -->\n<g class=\"edge\" id=\"edge3\">\n<title>140050720557544-&gt;140050739435224</title>\n<path d=\"M666.401,-747.4901C624.5738,-736.8081 574.7021,-724.0716 531.6929,-713.0877\" fill=\"none\" stroke=\"#000000\"/>\n<polygon fill=\"#000000\" points=\"532.3294,-709.638 521.7743,-710.5547 530.5972,-716.4203 532.3294,-709.638\" stroke=\"#000000\"/>\n</g>\n<!-- 140050719881872 -->\n<g class=\"node\" id=\"node9\">\n<title>140050719881872</title>\n<polygon fill=\"none\" points=\"608.5,-581.5 608.5,-627.5 882.5,-627.5 882.5,-581.5 608.5,-581.5\" stroke=\"#000000\"/>\n<text fill=\"#000000\" font-family=\"Times,serif\" font-size=\"14.00\" text-anchor=\"middle\" x=\"669\" y=\"-600.8\">flatten_14: Flatten</text>\n<polyline fill=\"none\" points=\"729.5,-581.5 729.5,-627.5 \" stroke=\"#000000\"/>\n<text fill=\"#000000\" font-family=\"Times,serif\" font-size=\"14.00\" text-anchor=\"middle\" x=\"758.5\" y=\"-612.3\">input:</text>\n<polyline fill=\"none\" points=\"729.5,-604.5 787.5,-604.5 \" stroke=\"#000000\"/>\n<text fill=\"#000000\" font-family=\"Times,serif\" font-size=\"14.00\" text-anchor=\"middle\" x=\"758.5\" y=\"-589.3\">output:</text>\n<polyline fill=\"none\" points=\"787.5,-581.5 787.5,-627.5 \" stroke=\"#000000\"/>\n<text fill=\"#000000\" font-family=\"Times,serif\" font-size=\"14.00\" text-anchor=\"middle\" x=\"835\" y=\"-612.3\">(None, 30, 1)</text>\n<polyline fill=\"none\" points=\"787.5,-604.5 882.5,-604.5 \" stroke=\"#000000\"/>\n<text fill=\"#000000\" font-family=\"Times,serif\" font-size=\"14.00\" text-anchor=\"middle\" x=\"835\" y=\"-589.3\">(None, 30)</text>\n</g>\n<!-- 140050720557544&#45;&gt;140050719881872 -->\n<g class=\"edge\" id=\"edge9\">\n<title>140050720557544-&gt;140050719881872</title>\n<path d=\"M754.9705,-747.4184C753.0877,-719.0047 749.8755,-670.531 747.7209,-638.0156\" fill=\"none\" stroke=\"#000000\"/>\n<polygon fill=\"#000000\" points=\"751.1878,-637.3992 747.0342,-627.6525 744.2032,-637.8621 751.1878,-637.3992\" stroke=\"#000000\"/>\n</g>\n<!-- 140050720558104&#45;&gt;140050739435224 -->\n<g class=\"edge\" id=\"edge4\">\n<title>140050720558104-&gt;140050739435224</title>\n<path d=\"M221.1733,-747.4901C258.2305,-736.9205 302.3397,-724.3395 340.5707,-713.4352\" fill=\"none\" stroke=\"#000000\"/>\n<polygon fill=\"#000000\" points=\"342.0133,-716.6634 350.6698,-710.5547 340.0933,-709.9318 342.0133,-716.6634\" stroke=\"#000000\"/>\n</g>\n<!-- 140050720557824 -->\n<g class=\"node\" id=\"node5\">\n<title>140050720557824</title>\n<polygon fill=\"none\" points=\"299,-747.5 299,-793.5 592,-793.5 592,-747.5 299,-747.5\" stroke=\"#000000\"/>\n<text fill=\"#000000\" font-family=\"Times,serif\" font-size=\"14.00\" text-anchor=\"middle\" x=\"369\" y=\"-766.8\">input_23: InputLayer</text>\n<polyline fill=\"none\" points=\"439,-747.5 439,-793.5 \" stroke=\"#000000\"/>\n<text fill=\"#000000\" font-family=\"Times,serif\" font-size=\"14.00\" text-anchor=\"middle\" x=\"468\" y=\"-778.3\">input:</text>\n<polyline fill=\"none\" points=\"439,-770.5 497,-770.5 \" stroke=\"#000000\"/>\n<text fill=\"#000000\" font-family=\"Times,serif\" font-size=\"14.00\" text-anchor=\"middle\" x=\"468\" y=\"-755.3\">output:</text>\n<polyline fill=\"none\" points=\"497,-747.5 497,-793.5 \" stroke=\"#000000\"/>\n<text fill=\"#000000\" font-family=\"Times,serif\" font-size=\"14.00\" text-anchor=\"middle\" x=\"544.5\" y=\"-778.3\">(None, 30, 1)</text>\n<polyline fill=\"none\" points=\"497,-770.5 592,-770.5 \" stroke=\"#000000\"/>\n<text fill=\"#000000\" font-family=\"Times,serif\" font-size=\"14.00\" text-anchor=\"middle\" x=\"544.5\" y=\"-755.3\">(None, 30, 1)</text>\n</g>\n<!-- 140050720557824&#45;&gt;140050739435224 -->\n<g class=\"edge\" id=\"edge6\">\n<title>140050720557824-&gt;140050739435224</title>\n<path d=\"M441.6002,-747.3799C440.2162,-739.1745 438.6295,-729.7679 437.1301,-720.8786\" fill=\"none\" stroke=\"#000000\"/>\n<polygon fill=\"#000000\" points=\"440.542,-720.0625 435.4274,-710.784 433.6395,-721.2269 440.542,-720.0625\" stroke=\"#000000\"/>\n</g>\n<!-- 140050720596488 -->\n<g class=\"node\" id=\"node7\">\n<title>140050720596488</title>\n<polygon fill=\"none\" points=\"296,-581.5 296,-627.5 589,-627.5 589,-581.5 296,-581.5\" stroke=\"#000000\"/>\n<text fill=\"#000000\" font-family=\"Times,serif\" font-size=\"14.00\" text-anchor=\"middle\" x=\"362.5\" y=\"-600.8\">conv1d_6: Conv1D</text>\n<polyline fill=\"none\" points=\"429,-581.5 429,-627.5 \" stroke=\"#000000\"/>\n<text fill=\"#000000\" font-family=\"Times,serif\" font-size=\"14.00\" text-anchor=\"middle\" x=\"458\" y=\"-612.3\">input:</text>\n<polyline fill=\"none\" points=\"429,-604.5 487,-604.5 \" stroke=\"#000000\"/>\n<text fill=\"#000000\" font-family=\"Times,serif\" font-size=\"14.00\" text-anchor=\"middle\" x=\"458\" y=\"-589.3\">output:</text>\n<polyline fill=\"none\" points=\"487,-581.5 487,-627.5 \" stroke=\"#000000\"/>\n<text fill=\"#000000\" font-family=\"Times,serif\" font-size=\"14.00\" text-anchor=\"middle\" x=\"538\" y=\"-612.3\">(None, 30, 4)</text>\n<polyline fill=\"none\" points=\"487,-604.5 589,-604.5 \" stroke=\"#000000\"/>\n<text fill=\"#000000\" font-family=\"Times,serif\" font-size=\"14.00\" text-anchor=\"middle\" x=\"538\" y=\"-589.3\">(None, 30, 50)</text>\n</g>\n<!-- 140050739435224&#45;&gt;140050720596488 -->\n<g class=\"edge\" id=\"edge7\">\n<title>140050739435224-&gt;140050720596488</title>\n<path d=\"M434.5641,-664.3799C435.6516,-656.1745 436.8982,-646.7679 438.0763,-637.8786\" fill=\"none\" stroke=\"#000000\"/>\n<polygon fill=\"#000000\" points=\"441.5699,-638.1572 439.4142,-627.784 434.6306,-637.2375 441.5699,-638.1572\" stroke=\"#000000\"/>\n</g>\n<!-- 140050720596824 -->\n<g class=\"node\" id=\"node8\">\n<title>140050720596824</title>\n<polygon fill=\"none\" points=\"296,-498.5 296,-544.5 589,-544.5 589,-498.5 296,-498.5\" stroke=\"#000000\"/>\n<text fill=\"#000000\" font-family=\"Times,serif\" font-size=\"14.00\" text-anchor=\"middle\" x=\"362.5\" y=\"-517.8\">conv1d_7: Conv1D</text>\n<polyline fill=\"none\" points=\"429,-498.5 429,-544.5 \" stroke=\"#000000\"/>\n<text fill=\"#000000\" font-family=\"Times,serif\" font-size=\"14.00\" text-anchor=\"middle\" x=\"458\" y=\"-529.3\">input:</text>\n<polyline fill=\"none\" points=\"429,-521.5 487,-521.5 \" stroke=\"#000000\"/>\n<text fill=\"#000000\" font-family=\"Times,serif\" font-size=\"14.00\" text-anchor=\"middle\" x=\"458\" y=\"-506.3\">output:</text>\n<polyline fill=\"none\" points=\"487,-498.5 487,-544.5 \" stroke=\"#000000\"/>\n<text fill=\"#000000\" font-family=\"Times,serif\" font-size=\"14.00\" text-anchor=\"middle\" x=\"538\" y=\"-529.3\">(None, 30, 50)</text>\n<polyline fill=\"none\" points=\"487,-521.5 589,-521.5 \" stroke=\"#000000\"/>\n<text fill=\"#000000\" font-family=\"Times,serif\" font-size=\"14.00\" text-anchor=\"middle\" x=\"538\" y=\"-506.3\">(None, 30, 4)</text>\n</g>\n<!-- 140050720596488&#45;&gt;140050720596824 -->\n<g class=\"edge\" id=\"edge8\">\n<title>140050720596488-&gt;140050720596824</title>\n<path d=\"M442.5,-581.3799C442.5,-573.1745 442.5,-563.7679 442.5,-554.8786\" fill=\"none\" stroke=\"#000000\"/>\n<polygon fill=\"#000000\" points=\"446.0001,-554.784 442.5,-544.784 439.0001,-554.784 446.0001,-554.784\" stroke=\"#000000\"/>\n</g>\n<!-- 140050720700288 -->\n<g class=\"node\" id=\"node10\">\n<title>140050720700288</title>\n<polygon fill=\"none\" points=\"299,-415.5 299,-461.5 586,-461.5 586,-415.5 299,-415.5\" stroke=\"#000000\"/>\n<text fill=\"#000000\" font-family=\"Times,serif\" font-size=\"14.00\" text-anchor=\"middle\" x=\"366\" y=\"-434.8\">dropout_9: Dropout</text>\n<polyline fill=\"none\" points=\"433,-415.5 433,-461.5 \" stroke=\"#000000\"/>\n<text fill=\"#000000\" font-family=\"Times,serif\" font-size=\"14.00\" text-anchor=\"middle\" x=\"462\" y=\"-446.3\">input:</text>\n<polyline fill=\"none\" points=\"433,-438.5 491,-438.5 \" stroke=\"#000000\"/>\n<text fill=\"#000000\" font-family=\"Times,serif\" font-size=\"14.00\" text-anchor=\"middle\" x=\"462\" y=\"-423.3\">output:</text>\n<polyline fill=\"none\" points=\"491,-415.5 491,-461.5 \" stroke=\"#000000\"/>\n<text fill=\"#000000\" font-family=\"Times,serif\" font-size=\"14.00\" text-anchor=\"middle\" x=\"538.5\" y=\"-446.3\">(None, 30, 4)</text>\n<polyline fill=\"none\" points=\"491,-438.5 586,-438.5 \" stroke=\"#000000\"/>\n<text fill=\"#000000\" font-family=\"Times,serif\" font-size=\"14.00\" text-anchor=\"middle\" x=\"538.5\" y=\"-423.3\">(None, 30, 4)</text>\n</g>\n<!-- 140050720596824&#45;&gt;140050720700288 -->\n<g class=\"edge\" id=\"edge10\">\n<title>140050720596824-&gt;140050720700288</title>\n<path d=\"M442.5,-498.3799C442.5,-490.1745 442.5,-480.7679 442.5,-471.8786\" fill=\"none\" stroke=\"#000000\"/>\n<polygon fill=\"#000000\" points=\"446.0001,-471.784 442.5,-461.784 439.0001,-471.784 446.0001,-471.784\" stroke=\"#000000\"/>\n</g>\n<!-- 140050720284344 -->\n<g class=\"node\" id=\"node11\">\n<title>140050720284344</title>\n<polygon fill=\"none\" points=\"619,-498.5 619,-544.5 870,-544.5 870,-498.5 619,-498.5\" stroke=\"#000000\"/>\n<text fill=\"#000000\" font-family=\"Times,serif\" font-size=\"14.00\" text-anchor=\"middle\" x=\"675.5\" y=\"-517.8\">dense_11: Dense</text>\n<polyline fill=\"none\" points=\"732,-498.5 732,-544.5 \" stroke=\"#000000\"/>\n<text fill=\"#000000\" font-family=\"Times,serif\" font-size=\"14.00\" text-anchor=\"middle\" x=\"761\" y=\"-529.3\">input:</text>\n<polyline fill=\"none\" points=\"732,-521.5 790,-521.5 \" stroke=\"#000000\"/>\n<text fill=\"#000000\" font-family=\"Times,serif\" font-size=\"14.00\" text-anchor=\"middle\" x=\"761\" y=\"-506.3\">output:</text>\n<polyline fill=\"none\" points=\"790,-498.5 790,-544.5 \" stroke=\"#000000\"/>\n<text fill=\"#000000\" font-family=\"Times,serif\" font-size=\"14.00\" text-anchor=\"middle\" x=\"830\" y=\"-529.3\">(None, 30)</text>\n<polyline fill=\"none\" points=\"790,-521.5 870,-521.5 \" stroke=\"#000000\"/>\n<text fill=\"#000000\" font-family=\"Times,serif\" font-size=\"14.00\" text-anchor=\"middle\" x=\"830\" y=\"-506.3\">(None, 64)</text>\n</g>\n<!-- 140050719881872&#45;&gt;140050720284344 -->\n<g class=\"edge\" id=\"edge11\">\n<title>140050719881872-&gt;140050720284344</title>\n<path d=\"M745.2214,-581.3799C745.1226,-573.1745 745.0093,-563.7679 744.9022,-554.8786\" fill=\"none\" stroke=\"#000000\"/>\n<polygon fill=\"#000000\" points=\"748.4008,-554.7411 744.7805,-544.784 741.4014,-554.8255 748.4008,-554.7411\" stroke=\"#000000\"/>\n</g>\n<!-- 140050720284232 -->\n<g class=\"node\" id=\"node13\">\n<title>140050720284232</title>\n<polygon fill=\"none\" points=\"374.5,-332.5 374.5,-378.5 648.5,-378.5 648.5,-332.5 374.5,-332.5\" stroke=\"#000000\"/>\n<text fill=\"#000000\" font-family=\"Times,serif\" font-size=\"14.00\" text-anchor=\"middle\" x=\"435\" y=\"-351.8\">flatten_13: Flatten</text>\n<polyline fill=\"none\" points=\"495.5,-332.5 495.5,-378.5 \" stroke=\"#000000\"/>\n<text fill=\"#000000\" font-family=\"Times,serif\" font-size=\"14.00\" text-anchor=\"middle\" x=\"524.5\" y=\"-363.3\">input:</text>\n<polyline fill=\"none\" points=\"495.5,-355.5 553.5,-355.5 \" stroke=\"#000000\"/>\n<text fill=\"#000000\" font-family=\"Times,serif\" font-size=\"14.00\" text-anchor=\"middle\" x=\"524.5\" y=\"-340.3\">output:</text>\n<polyline fill=\"none\" points=\"553.5,-332.5 553.5,-378.5 \" stroke=\"#000000\"/>\n<text fill=\"#000000\" font-family=\"Times,serif\" font-size=\"14.00\" text-anchor=\"middle\" x=\"601\" y=\"-363.3\">(None, 30, 4)</text>\n<polyline fill=\"none\" points=\"553.5,-355.5 648.5,-355.5 \" stroke=\"#000000\"/>\n<text fill=\"#000000\" font-family=\"Times,serif\" font-size=\"14.00\" text-anchor=\"middle\" x=\"601\" y=\"-340.3\">(None, 120)</text>\n</g>\n<!-- 140050720700288&#45;&gt;140050720284232 -->\n<g class=\"edge\" id=\"edge14\">\n<title>140050720700288-&gt;140050720284232</title>\n<path d=\"M461.7203,-415.3799C469.1348,-406.461 477.7292,-396.1229 485.6686,-386.5725\" fill=\"none\" stroke=\"#000000\"/>\n<polygon fill=\"#000000\" points=\"488.4421,-388.7113 492.1434,-378.784 483.0592,-384.2364 488.4421,-388.7113\" stroke=\"#000000\"/>\n</g>\n<!-- 140050719765224 -->\n<g class=\"node\" id=\"node14\">\n<title>140050719765224</title>\n<polygon fill=\"none\" points=\"604,-415.5 604,-461.5 883,-461.5 883,-415.5 604,-415.5\" stroke=\"#000000\"/>\n<text fill=\"#000000\" font-family=\"Times,serif\" font-size=\"14.00\" text-anchor=\"middle\" x=\"674.5\" y=\"-434.8\">dropout_10: Dropout</text>\n<polyline fill=\"none\" points=\"745,-415.5 745,-461.5 \" stroke=\"#000000\"/>\n<text fill=\"#000000\" font-family=\"Times,serif\" font-size=\"14.00\" text-anchor=\"middle\" x=\"774\" y=\"-446.3\">input:</text>\n<polyline fill=\"none\" points=\"745,-438.5 803,-438.5 \" stroke=\"#000000\"/>\n<text fill=\"#000000\" font-family=\"Times,serif\" font-size=\"14.00\" text-anchor=\"middle\" x=\"774\" y=\"-423.3\">output:</text>\n<polyline fill=\"none\" points=\"803,-415.5 803,-461.5 \" stroke=\"#000000\"/>\n<text fill=\"#000000\" font-family=\"Times,serif\" font-size=\"14.00\" text-anchor=\"middle\" x=\"843\" y=\"-446.3\">(None, 64)</text>\n<polyline fill=\"none\" points=\"803,-438.5 883,-438.5 \" stroke=\"#000000\"/>\n<text fill=\"#000000\" font-family=\"Times,serif\" font-size=\"14.00\" text-anchor=\"middle\" x=\"843\" y=\"-423.3\">(None, 64)</text>\n</g>\n<!-- 140050720284344&#45;&gt;140050719765224 -->\n<g class=\"edge\" id=\"edge15\">\n<title>140050720284344-&gt;140050719765224</title>\n<path d=\"M744.2214,-498.3799C744.1226,-490.1745 744.0093,-480.7679 743.9022,-471.8786\" fill=\"none\" stroke=\"#000000\"/>\n<polygon fill=\"#000000\" points=\"747.4008,-471.7411 743.7805,-461.784 740.4014,-471.8255 747.4008,-471.7411\" stroke=\"#000000\"/>\n</g>\n<!-- 140050721019552 -->\n<g class=\"node\" id=\"node15\">\n<title>140050721019552</title>\n<polygon fill=\"none\" points=\"775.5,-332.5 775.5,-378.5 1041.5,-378.5 1041.5,-332.5 775.5,-332.5\" stroke=\"#000000\"/>\n<text fill=\"#000000\" font-family=\"Times,serif\" font-size=\"14.00\" text-anchor=\"middle\" x=\"836\" y=\"-351.8\">flatten_19: Flatten</text>\n<polyline fill=\"none\" points=\"896.5,-332.5 896.5,-378.5 \" stroke=\"#000000\"/>\n<text fill=\"#000000\" font-family=\"Times,serif\" font-size=\"14.00\" text-anchor=\"middle\" x=\"925.5\" y=\"-363.3\">input:</text>\n<polyline fill=\"none\" points=\"896.5,-355.5 954.5,-355.5 \" stroke=\"#000000\"/>\n<text fill=\"#000000\" font-family=\"Times,serif\" font-size=\"14.00\" text-anchor=\"middle\" x=\"925.5\" y=\"-340.3\">output:</text>\n<polyline fill=\"none\" points=\"954.5,-332.5 954.5,-378.5 \" stroke=\"#000000\"/>\n<text fill=\"#000000\" font-family=\"Times,serif\" font-size=\"14.00\" text-anchor=\"middle\" x=\"998\" y=\"-363.3\">(None, 4, 1)</text>\n<polyline fill=\"none\" points=\"954.5,-355.5 1041.5,-355.5 \" stroke=\"#000000\"/>\n<text fill=\"#000000\" font-family=\"Times,serif\" font-size=\"14.00\" text-anchor=\"middle\" x=\"998\" y=\"-340.3\">(None, 4)</text>\n</g>\n<!-- 140050720699840&#45;&gt;140050721019552 -->\n<g class=\"edge\" id=\"edge16\">\n<title>140050720699840-&gt;140050721019552</title>\n<path d=\"M978.9473,-747.4998C960.586,-738.8012 942.9132,-726.9777 930.5,-711 901.0019,-673.0314 911.5,-652.5807 911.5,-604.5 911.5,-604.5 911.5,-604.5 911.5,-521.5 911.5,-475.4636 910.3323,-422.2573 909.4539,-388.7464\" fill=\"none\" stroke=\"#000000\"/>\n<polygon fill=\"#000000\" points=\"912.9485,-388.4946 909.1807,-378.5924 905.951,-388.683 912.9485,-388.4946\" stroke=\"#000000\"/>\n</g>\n<!-- 140050703199592 -->\n<g class=\"node\" id=\"node16\">\n<title>140050703199592</title>\n<polygon fill=\"none\" points=\"939.5,-664.5 939.5,-710.5 1205.5,-710.5 1205.5,-664.5 939.5,-664.5\" stroke=\"#000000\"/>\n<text fill=\"#000000\" font-family=\"Times,serif\" font-size=\"14.00\" text-anchor=\"middle\" x=\"1000\" y=\"-683.8\">flatten_20: Flatten</text>\n<polyline fill=\"none\" points=\"1060.5,-664.5 1060.5,-710.5 \" stroke=\"#000000\"/>\n<text fill=\"#000000\" font-family=\"Times,serif\" font-size=\"14.00\" text-anchor=\"middle\" x=\"1089.5\" y=\"-695.3\">input:</text>\n<polyline fill=\"none\" points=\"1060.5,-687.5 1118.5,-687.5 \" stroke=\"#000000\"/>\n<text fill=\"#000000\" font-family=\"Times,serif\" font-size=\"14.00\" text-anchor=\"middle\" x=\"1089.5\" y=\"-672.3\">output:</text>\n<polyline fill=\"none\" points=\"1118.5,-664.5 1118.5,-710.5 \" stroke=\"#000000\"/>\n<text fill=\"#000000\" font-family=\"Times,serif\" font-size=\"14.00\" text-anchor=\"middle\" x=\"1162\" y=\"-695.3\">(None, 4, 1)</text>\n<polyline fill=\"none\" points=\"1118.5,-687.5 1205.5,-687.5 \" stroke=\"#000000\"/>\n<text fill=\"#000000\" font-family=\"Times,serif\" font-size=\"14.00\" text-anchor=\"middle\" x=\"1162\" y=\"-672.3\">(None, 4)</text>\n</g>\n<!-- 140050720699840&#45;&gt;140050703199592 -->\n<g class=\"edge\" id=\"edge17\">\n<title>140050720699840-&gt;140050703199592</title>\n<path d=\"M1064.5641,-747.3799C1065.6516,-739.1745 1066.8982,-729.7679 1068.0763,-720.8786\" fill=\"none\" stroke=\"#000000\"/>\n<polygon fill=\"#000000\" points=\"1071.5699,-721.1572 1069.4142,-710.784 1064.6306,-720.2375 1071.5699,-721.1572\" stroke=\"#000000\"/>\n</g>\n<!-- 140050703198416 -->\n<g class=\"node\" id=\"node17\">\n<title>140050703198416</title>\n<polygon fill=\"none\" points=\"558,-249.5 558,-295.5 1091,-295.5 1091,-249.5 558,-249.5\" stroke=\"#000000\"/>\n<text fill=\"#000000\" font-family=\"Times,serif\" font-size=\"14.00\" text-anchor=\"middle\" x=\"649\" y=\"-268.8\">concatenate_12: Concatenate</text>\n<polyline fill=\"none\" points=\"740,-249.5 740,-295.5 \" stroke=\"#000000\"/>\n<text fill=\"#000000\" font-family=\"Times,serif\" font-size=\"14.00\" text-anchor=\"middle\" x=\"769\" y=\"-280.3\">input:</text>\n<polyline fill=\"none\" points=\"740,-272.5 798,-272.5 \" stroke=\"#000000\"/>\n<text fill=\"#000000\" font-family=\"Times,serif\" font-size=\"14.00\" text-anchor=\"middle\" x=\"769\" y=\"-257.3\">output:</text>\n<polyline fill=\"none\" points=\"798,-249.5 798,-295.5 \" stroke=\"#000000\"/>\n<text fill=\"#000000\" font-family=\"Times,serif\" font-size=\"14.00\" text-anchor=\"middle\" x=\"944.5\" y=\"-280.3\">[(None, 120), (None, 64), (None, 4), (None, 4)]</text>\n<polyline fill=\"none\" points=\"798,-272.5 1091,-272.5 \" stroke=\"#000000\"/>\n<text fill=\"#000000\" font-family=\"Times,serif\" font-size=\"14.00\" text-anchor=\"middle\" x=\"944.5\" y=\"-257.3\">(None, 192)</text>\n</g>\n<!-- 140050720284232&#45;&gt;140050703198416 -->\n<g class=\"edge\" id=\"edge18\">\n<title>140050720284232-&gt;140050703198416</title>\n<path d=\"M598.2723,-332.4901C638.4703,-321.8306 686.3832,-309.1252 727.7448,-298.1571\" fill=\"none\" stroke=\"#000000\"/>\n<polygon fill=\"#000000\" points=\"728.7901,-301.501 737.5589,-295.5547 726.9958,-294.7348 728.7901,-301.501\" stroke=\"#000000\"/>\n</g>\n<!-- 140050719765224&#45;&gt;140050703198416 -->\n<g class=\"edge\" id=\"edge19\">\n<title>140050719765224-&gt;140050703198416</title>\n<path d=\"M744.8164,-415.2047C746.9161,-392.729 752.3642,-358.3327 766.5,-332 772.1465,-321.4814 780.2037,-311.5455 788.5227,-302.9148\" fill=\"none\" stroke=\"#000000\"/>\n<polygon fill=\"#000000\" points=\"791.1892,-305.2006 795.8468,-295.6844 786.2714,-300.2191 791.1892,-305.2006\" stroke=\"#000000\"/>\n</g>\n<!-- 140050721019552&#45;&gt;140050703198416 -->\n<g class=\"edge\" id=\"edge20\">\n<title>140050721019552-&gt;140050703198416</title>\n<path d=\"M885.1013,-332.3799C875.8945,-323.2827 865.1932,-312.7088 855.368,-303.0005\" fill=\"none\" stroke=\"#000000\"/>\n<polygon fill=\"#000000\" points=\"857.6379,-300.323 848.0645,-295.784 852.7178,-305.3023 857.6379,-300.323\" stroke=\"#000000\"/>\n</g>\n<!-- 140050703199592&#45;&gt;140050703198416 -->\n<g class=\"edge\" id=\"edge21\">\n<title>140050703199592-&gt;140050703198416</title>\n<path d=\"M1072.2731,-664.4055C1071.978,-632.3386 1071.5,-572.5113 1071.5,-521.5 1071.5,-521.5 1071.5,-521.5 1071.5,-438.5 1071.5,-390.2553 1083.5273,-367.1675 1050.5,-332 1037.8152,-318.4932 1005.4127,-307.0504 968.9772,-297.918\" fill=\"none\" stroke=\"#000000\"/>\n<polygon fill=\"#000000\" points=\"969.6675,-294.484 959.124,-295.5253 968.0156,-301.2863 969.6675,-294.484\" stroke=\"#000000\"/>\n</g>\n<!-- 140050739513272 -->\n<g class=\"node\" id=\"node18\">\n<title>140050739513272</title>\n<polygon fill=\"none\" points=\"695,-166.5 695,-212.5 954,-212.5 954,-166.5 695,-166.5\" stroke=\"#000000\"/>\n<text fill=\"#000000\" font-family=\"Times,serif\" font-size=\"14.00\" text-anchor=\"middle\" x=\"752\" y=\"-185.8\">dense_16: Dense</text>\n<polyline fill=\"none\" points=\"809,-166.5 809,-212.5 \" stroke=\"#000000\"/>\n<text fill=\"#000000\" font-family=\"Times,serif\" font-size=\"14.00\" text-anchor=\"middle\" x=\"838\" y=\"-197.3\">input:</text>\n<polyline fill=\"none\" points=\"809,-189.5 867,-189.5 \" stroke=\"#000000\"/>\n<text fill=\"#000000\" font-family=\"Times,serif\" font-size=\"14.00\" text-anchor=\"middle\" x=\"838\" y=\"-174.3\">output:</text>\n<polyline fill=\"none\" points=\"867,-166.5 867,-212.5 \" stroke=\"#000000\"/>\n<text fill=\"#000000\" font-family=\"Times,serif\" font-size=\"14.00\" text-anchor=\"middle\" x=\"910.5\" y=\"-197.3\">(None, 192)</text>\n<polyline fill=\"none\" points=\"867,-189.5 954,-189.5 \" stroke=\"#000000\"/>\n<text fill=\"#000000\" font-family=\"Times,serif\" font-size=\"14.00\" text-anchor=\"middle\" x=\"910.5\" y=\"-174.3\">(None, 32)</text>\n</g>\n<!-- 140050703198416&#45;&gt;140050739513272 -->\n<g class=\"edge\" id=\"edge22\">\n<title>140050703198416-&gt;140050739513272</title>\n<path d=\"M824.5,-249.3799C824.5,-241.1745 824.5,-231.7679 824.5,-222.8786\" fill=\"none\" stroke=\"#000000\"/>\n<polygon fill=\"#000000\" points=\"828.0001,-222.784 824.5,-212.784 821.0001,-222.784 828.0001,-222.784\" stroke=\"#000000\"/>\n</g>\n<!-- 140050739512880 -->\n<g class=\"node\" id=\"node19\">\n<title>140050739512880</title>\n<polygon fill=\"none\" points=\"685,-83.5 685,-129.5 964,-129.5 964,-83.5 685,-83.5\" stroke=\"#000000\"/>\n<text fill=\"#000000\" font-family=\"Times,serif\" font-size=\"14.00\" text-anchor=\"middle\" x=\"755.5\" y=\"-102.8\">dropout_13: Dropout</text>\n<polyline fill=\"none\" points=\"826,-83.5 826,-129.5 \" stroke=\"#000000\"/>\n<text fill=\"#000000\" font-family=\"Times,serif\" font-size=\"14.00\" text-anchor=\"middle\" x=\"855\" y=\"-114.3\">input:</text>\n<polyline fill=\"none\" points=\"826,-106.5 884,-106.5 \" stroke=\"#000000\"/>\n<text fill=\"#000000\" font-family=\"Times,serif\" font-size=\"14.00\" text-anchor=\"middle\" x=\"855\" y=\"-91.3\">output:</text>\n<polyline fill=\"none\" points=\"884,-83.5 884,-129.5 \" stroke=\"#000000\"/>\n<text fill=\"#000000\" font-family=\"Times,serif\" font-size=\"14.00\" text-anchor=\"middle\" x=\"924\" y=\"-114.3\">(None, 32)</text>\n<polyline fill=\"none\" points=\"884,-106.5 964,-106.5 \" stroke=\"#000000\"/>\n<text fill=\"#000000\" font-family=\"Times,serif\" font-size=\"14.00\" text-anchor=\"middle\" x=\"924\" y=\"-91.3\">(None, 32)</text>\n</g>\n<!-- 140050739513272&#45;&gt;140050739512880 -->\n<g class=\"edge\" id=\"edge23\">\n<title>140050739513272-&gt;140050739512880</title>\n<path d=\"M824.5,-166.3799C824.5,-158.1745 824.5,-148.7679 824.5,-139.8786\" fill=\"none\" stroke=\"#000000\"/>\n<polygon fill=\"#000000\" points=\"828.0001,-139.784 824.5,-129.784 821.0001,-139.784 828.0001,-139.784\" stroke=\"#000000\"/>\n</g>\n<!-- 140050725979080 -->\n<g class=\"node\" id=\"node20\">\n<title>140050725979080</title>\n<polygon fill=\"none\" points=\"698.5,-.5 698.5,-46.5 950.5,-46.5 950.5,-.5 698.5,-.5\" stroke=\"#000000\"/>\n<text fill=\"#000000\" font-family=\"Times,serif\" font-size=\"14.00\" text-anchor=\"middle\" x=\"755.5\" y=\"-19.8\">dense_17: Dense</text>\n<polyline fill=\"none\" points=\"812.5,-.5 812.5,-46.5 \" stroke=\"#000000\"/>\n<text fill=\"#000000\" font-family=\"Times,serif\" font-size=\"14.00\" text-anchor=\"middle\" x=\"841.5\" y=\"-31.3\">input:</text>\n<polyline fill=\"none\" points=\"812.5,-23.5 870.5,-23.5 \" stroke=\"#000000\"/>\n<text fill=\"#000000\" font-family=\"Times,serif\" font-size=\"14.00\" text-anchor=\"middle\" x=\"841.5\" y=\"-8.3\">output:</text>\n<polyline fill=\"none\" points=\"870.5,-.5 870.5,-46.5 \" stroke=\"#000000\"/>\n<text fill=\"#000000\" font-family=\"Times,serif\" font-size=\"14.00\" text-anchor=\"middle\" x=\"910.5\" y=\"-31.3\">(None, 32)</text>\n<polyline fill=\"none\" points=\"870.5,-23.5 950.5,-23.5 \" stroke=\"#000000\"/>\n<text fill=\"#000000\" font-family=\"Times,serif\" font-size=\"14.00\" text-anchor=\"middle\" x=\"910.5\" y=\"-8.3\">(None, 4)</text>\n</g>\n<!-- 140050739512880&#45;&gt;140050725979080 -->\n<g class=\"edge\" id=\"edge24\">\n<title>140050739512880-&gt;140050725979080</title>\n<path d=\"M824.5,-83.3799C824.5,-75.1745 824.5,-65.7679 824.5,-56.8786\" fill=\"none\" stroke=\"#000000\"/>\n<polygon fill=\"#000000\" points=\"828.0001,-56.784 824.5,-46.784 821.0001,-56.784 828.0001,-56.784\" stroke=\"#000000\"/>\n</g>\n</g>\n</svg>"
          },
          "metadata": {
            "tags": []
          },
          "execution_count": 52
        }
      ]
    },
    {
      "cell_type": "code",
      "metadata": {
        "id": "5-MF_cbkiEpw",
        "colab_type": "code",
        "colab": {}
      },
      "source": [
        ""
      ],
      "execution_count": null,
      "outputs": []
    },
    {
      "cell_type": "code",
      "metadata": {
        "id": "WGlZmQq96gDr",
        "colab_type": "code",
        "colab": {}
      },
      "source": [
        ""
      ],
      "execution_count": null,
      "outputs": []
    },
    {
      "cell_type": "code",
      "metadata": {
        "id": "MEYyf1sblMwK",
        "colab_type": "code",
        "colab": {
          "base_uri": "https://localhost:8080/",
          "height": 809
        },
        "outputId": "e1e8c85b-ca13-4db4-97a5-f09ff5e95edb"
      },
      "source": [
        "list(new_df.index.get_values())"
      ],
      "execution_count": null,
      "outputs": [
        {
          "output_type": "execute_result",
          "data": {
            "text/plain": [
              "[('강남점', '바네사브루노'),\n",
              " ('강남점', '질스튜어트'),\n",
              " ('강남점', '폴로랄프로렌'),\n",
              " ('건대스타점', '폴로랄프로렌'),\n",
              " ('광복점', '자딕앤볼테르'),\n",
              " ('광복점', '타임옴므'),\n",
              " ('노원점', '솔리드옴므'),\n",
              " ('노원점', '시스템옴므'),\n",
              " ('노원점', '질스튜어트'),\n",
              " ('노원점', '폴로랄프로렌'),\n",
              " ('본점', '바네사브루노'),\n",
              " ('본점', '산드로'),\n",
              " ('본점', '솔리드옴므'),\n",
              " ('본점', '시스템옴므'),\n",
              " ('본점', '에르메네질도 제냐'),\n",
              " ('본점', '엠포리오아르마니'),\n",
              " ('본점', '이자벨마랑'),\n",
              " ('본점', '자딕앤볼테르'),\n",
              " ('본점', '질스튜어트'),\n",
              " ('본점', '타임옴므'),\n",
              " ('본점', '폴로랄프로렌'),\n",
              " ('부산본점', '라움'),\n",
              " ('부산본점', '산드로'),\n",
              " ('부산본점', '에르메네질도 제냐'),\n",
              " ('부산본점', '질스튜어트'),\n",
              " ('부산본점', '질스튜어트뉴욕'),\n",
              " ('부산본점', '타임옴므'),\n",
              " ('부산본점', '폴로랄프로렌'),\n",
              " ('분당점', '폴로랄프로렌'),\n",
              " ('영등포점', '시스템옴므'),\n",
              " ('영등포점', '질스튜어트'),\n",
              " ('일산점', '솔리드옴므'),\n",
              " ('일산점', '폴로랄프로렌'),\n",
              " ('잠실점', '마쥬'),\n",
              " ('잠실점', '바네사브루노'),\n",
              " ('잠실점', '솔리드옴므'),\n",
              " ('잠실점', '시스템옴므'),\n",
              " ('잠실점', '자딕앤볼테르'),\n",
              " ('잠실점', '질스튜어트'),\n",
              " ('잠실점', '타임옴므'),\n",
              " ('창원점', '자딕앤볼테르'),\n",
              " ('창원점', '폴로랄프로렌'),\n",
              " ('평촌점', '시스템옴므'),\n",
              " ('평촌점', '폴로랄프로렌')]"
            ]
          },
          "metadata": {
            "tags": []
          },
          "execution_count": 190
        }
      ]
    }
  ]
}